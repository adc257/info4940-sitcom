{
 "cells": [
  {
   "cell_type": "code",
   "outputs": [],
   "source": [
    "import pandas as pd\n",
    "import numpy as np\n",
    "import matplotlib.pyplot as plt\n",
    "import json"
   ],
   "metadata": {
    "collapsed": false,
    "ExecuteTime": {
     "end_time": "2024-03-04T18:40:20.303934Z",
     "start_time": "2024-03-04T18:40:20.297235Z"
    }
   },
   "id": "7b36e9f0bb13c8f0",
   "execution_count": 4
  },
  {
   "cell_type": "code",
   "outputs": [],
   "source": [],
   "metadata": {
    "collapsed": false
   },
   "id": "f1c83306390be4c5"
  },
  {
   "cell_type": "markdown",
   "source": [
    "## Looking at how dialogue turns work"
   ],
   "metadata": {
    "collapsed": false
   },
   "id": "daa6b182b7da9a76"
  },
  {
   "cell_type": "code",
   "outputs": [],
   "source": [
    "path = \"data/DT_2/Raw/S1/The Big Bang_S0101.json\"\n",
    "with open(path, 'r') as file:\n",
    "    dTurns2 = json.load(file)\n",
    "\n",
    "path = \"data/DT_3/Raw/S1/The Big Bang_S0101.json\"\n",
    "with open(path, 'r') as file:\n",
    "    dTurns3 = json.load(file)\n",
    "\n",
    "path = \"data/DT_4/Raw/S1/The Big Bang_S0101.json\"\n",
    "with open(path, 'r') as file:\n",
    "    dTurns4 = json.load(file)\n",
    "    \n",
    "path = \"data/DT_7/Raw/S1/The Big Bang_S0101.json\"\n",
    "with open(path, 'r') as file:\n",
    "    dTurns8 = json.load(file)\n",
    "\n",
    "# path = \"data/DT_8/Raw/S1/The Big Bang_S0101.json\"\n",
    "# with open(path, 'r') as file:\n",
    "#     dTurns8 = json.load(file)"
   ],
   "metadata": {
    "collapsed": false,
    "ExecuteTime": {
     "end_time": "2024-03-04T19:21:37.492855Z",
     "start_time": "2024-03-04T19:21:37.462794Z"
    }
   },
   "id": "c3d5111b6a153021",
   "execution_count": 47
  },
  {
   "cell_type": "code",
   "outputs": [],
   "source": [
    "dTurns4['Dialog 1']"
   ],
   "metadata": {
    "collapsed": false
   },
   "id": "ee0fa5fb7b3176d1"
  },
  {
   "cell_type": "code",
   "outputs": [
    {
     "data": {
      "text/plain": "{'Scene': 'A corridor at a sperm bank.',\n 'Participant': ['Sheldon', 'Leonard', 'Receptionist'],\n 'GT': 1,\n 'AV_ID': 'The Big Bang_S0101',\n 'Humor Start Time': '00:02:34',\n 'Humor End Time': '00:02:35',\n 'Dialog Turns 0': {'Recipients': ['Sheldon', 'Receptionist'],\n  'Speaker': 'Leonard',\n  'Dialog': \"I'm sure she'll still love him.\",\n  'Dialog Start time': '00:02:02:23',\n  'Dialog End time': '00:02:05:14'},\n 'Dialog Turns 1': {'Recipients': ['Leonard', 'Receptionist'],\n  'Speaker': 'Sheldon',\n  'Dialog': \"I wouldn't.\",\n  'Dialog Start time': '00:02:02:23',\n  'Dialog End time': '00:02:05:14'},\n 'Dialog Turns 2': {'Recipients': ['Sheldon', 'Receptionist'],\n  'Speaker': 'Leonard',\n  'Dialog': 'Well, what do you want to do?',\n  'Dialog Start time': '00:02:07:18',\n  'Dialog End time': '00:02:09:06'},\n 'Dialog Turns 3': {'Recipients': ['Leonard', 'Receptionist'],\n  'Speaker': 'Sheldon',\n  'Dialog': \"I want to leave. What's the protocol for leaving?\",\n  'Dialog Start time': '00:02:09:09',\n  'Dialog End time': '00:02:13:12'},\n 'Dialog Turns 4': {'Recipients': ['Sheldon', 'Receptionist'],\n  'Speaker': 'Leonard',\n  'Dialog': \"I don't know... I've never reneged on a proffer of sperm before.\",\n  'Dialog Start time': '00:02:13:20',\n  'Dialog End time': '00:02:17:02'},\n 'Dialog Turns 5': {'Recipients': ['Leonard', 'Receptionist'],\n  'Speaker': 'Sheldon',\n  'Dialog': \"Let's try just walking out.\",\n  'Dialog Start time': '00:02:18:15',\n  'Dialog End time': '00:02:20:02'},\n 'Dialog Turns 6': {'Recipients': ['Sheldon', 'Leonard'],\n  'Speaker': 'Receptionist',\n  'Dialog': 'Bye. ',\n  'Dialog Start time': '00:02:32:06',\n  'Dialog End time': '00:02:34:11'},\n 'Dialog Turns 7': {'Recipients': ['Sheldon', 'Leonard', 'Receptionist'],\n  'Speaker': 'sheldon',\n  'Dialog': 'Bye. Nice meeting you.',\n  'Dialog Start time': '00:02:32:06',\n  'Dialog End time': '00:02:34:11'}}"
     },
     "execution_count": 43,
     "metadata": {},
     "output_type": "execute_result"
    }
   ],
   "source": [
    "dTurns8['Dialog 15']"
   ],
   "metadata": {
    "collapsed": false,
    "ExecuteTime": {
     "end_time": "2024-03-04T19:06:43.366433Z",
     "start_time": "2024-03-04T19:06:43.361117Z"
    }
   },
   "id": "f911696570b700d1",
   "execution_count": 43
  },
  {
   "cell_type": "code",
   "outputs": [
    {
     "data": {
      "text/plain": "{'Scene': 'A corridor at a sperm bank.',\n 'Participant': ['Sheldon', 'Leonard'],\n 'GT': 1,\n 'AV_ID': 'The Big Bang_S0101',\n 'Humor Start Time': '00:00:18',\n 'Humor End Time': '00:00:20',\n 'Dialog Turns 0': {'Recipients': ['Sheldon'],\n  'Speaker': 'Leonard',\n  'Dialog': \"Agreed. What's your point?\",\n  'Dialog Start time': '00:00:12:18',\n  'Dialog End time': '00:00:14:18'},\n 'Dialog Turns 1': {'Recipients': ['Leonard'],\n  'Speaker': 'Sheldon',\n  'Dialog': \"There's no point, I just think it's a good idea for a T-shirt.\",\n  'Dialog Start time': '00:00:14:23',\n  'Dialog End time': '00:00:18:03'}}"
     },
     "execution_count": 73,
     "metadata": {},
     "output_type": "execute_result"
    }
   ],
   "source": [
    "dTurns2['Dialog 1']"
   ],
   "metadata": {
    "collapsed": false,
    "ExecuteTime": {
     "end_time": "2024-03-04T20:03:28.917962Z",
     "start_time": "2024-03-04T20:03:28.914681Z"
    }
   },
   "id": "912cfca1f6410d80",
   "execution_count": 73
  },
  {
   "cell_type": "code",
   "outputs": [
    {
     "data": {
      "text/plain": "{'Scene': 'A corridor at a sperm bank.',\n 'Participant': ['Sheldon', 'Leonard', 'Receptionist'],\n 'GT': 0,\n 'AV_ID': 'The Big Bang_S0101',\n 'Dialog Turns 0': {'Recipients': ['Sheldon', 'Leonard'],\n  'Speaker': 'Receptionist',\n  'Dialog': 'Fill these out.',\n  'Dialog Start time': '00:01:06:04',\n  'Dialog End time': '00:01:07:16'},\n 'Dialog Turns 1': {'Recipients': ['Sheldon', 'Receptionist'],\n  'Speaker': 'Leonard',\n  'Dialog': \"Thank you. We'll be right back.\",\n  'Dialog Start time': '00:01:06:04',\n  'Dialog End time': '00:01:09:20'}}"
     },
     "execution_count": 82,
     "metadata": {},
     "output_type": "execute_result"
    }
   ],
   "source": [
    "dTurns2['Dialog 13']\n"
   ],
   "metadata": {
    "collapsed": false,
    "ExecuteTime": {
     "end_time": "2024-03-04T20:32:25.022087Z",
     "start_time": "2024-03-04T20:32:25.017440Z"
    }
   },
   "id": "e82e77dd86ee64ba",
   "execution_count": 82
  },
  {
   "cell_type": "markdown",
   "source": [
    "S01E01 Dturns 2 - dialogs 14 shows when two jokes overlap, miss noting the first as humor"
   ],
   "metadata": {
    "collapsed": false
   },
   "id": "4b941c93b8d28508"
  },
  {
   "cell_type": "code",
   "outputs": [
    {
     "data": {
      "text/plain": "{'Scene': 'A corridor at a sperm bank.',\n 'Participant': ['Sheldon', 'Leonard', 'Receptionist'],\n 'GT': 1,\n 'AV_ID': 'The Big Bang_S0101',\n 'Humor Start Time': '00:01:14',\n 'Humor End Time': '00:01:17',\n 'Dialog Turns 0': {'Recipients': ['Sheldon', 'Leonard'],\n  'Speaker': 'Receptionist',\n  'Dialog': \"Take your time. I'll just finish my crossword puzzle.\",\n  'Dialog Start time': '00:01:08:00',\n  'Dialog End time': '00:01:12:04'},\n 'Dialog Turns 1': {'Recipients': ['Sheldon', 'Leonard'],\n  'Speaker': 'Receptionist',\n  'Dialog': 'Oh, wait.',\n  'Dialog Start time': '00:01:13:11',\n  'Dialog End time': '00:01:14:18'}}"
     },
     "execution_count": 81,
     "metadata": {},
     "output_type": "execute_result"
    }
   ],
   "source": [
    "dTurns2['Dialog 14']\n"
   ],
   "metadata": {
    "collapsed": false
   },
   "id": "2e386389fe20da3",
   "execution_count": 81
  },
  {
   "cell_type": "code",
   "outputs": [
    {
     "data": {
      "text/plain": "{'Scene': 'A corridor at a sperm bank.',\n 'Participant': ['Sheldon', 'Leonard', 'Receptionist'],\n 'GT': 1,\n 'AV_ID': 'The Big Bang_S0101',\n 'Humor Start Time': '00:01:30',\n 'Humor End Time': '00:01:31',\n 'Dialog Turns 0': {'Recipients': ['Leonard', 'Receptionist'],\n  'Speaker': 'Sheldon',\n  'Dialog': \"Leonard, I don't think I can do this.\",\n  'Dialog Start time': '00:01:25:22',\n  'Dialog End time': '00:01:27:23'},\n 'Dialog Turns 1': {'Recipients': ['Sheldon', 'Receptionist'],\n  'Speaker': 'Leonard',\n  'Dialog': \"What, are you kidding? You're a semi-pro.\",\n  'Dialog Start time': '00:01:28:04',\n  'Dialog End time': '00:01:30:12'}}"
     },
     "execution_count": 83,
     "metadata": {},
     "output_type": "execute_result"
    }
   ],
   "source": [
    "dTurns2['Dialog 15']\n"
   ],
   "metadata": {
    "collapsed": false,
    "ExecuteTime": {
     "end_time": "2024-03-04T20:33:53.511546Z",
     "start_time": "2024-03-04T20:33:53.503786Z"
    }
   },
   "id": "75206f1d9ac0f0ee",
   "execution_count": 83
  },
  {
   "cell_type": "code",
   "outputs": [
    {
     "data": {
      "text/plain": "{'Scene': 'A corridor at a sperm bank.',\n 'Participant': ['Sheldon', 'Leonard', 'Receptionist'],\n 'GT': 1,\n 'AV_ID': 'The Big Bang_S0101',\n 'Humor Start Time': '00:01:30',\n 'Humor End Time': '00:01:31',\n 'Dialog Turns 0': {'Recipients': ['Leonard', 'Receptionist'],\n  'Speaker': 'Sheldon',\n  'Dialog': \"Leonard, I don't think I can do this.\",\n  'Dialog Start time': '00:01:25:22',\n  'Dialog End time': '00:01:27:23'},\n 'Dialog Turns 1': {'Recipients': ['Sheldon', 'Receptionist'],\n  'Speaker': 'Leonard',\n  'Dialog': \"What, are you kidding? You're a semi-pro.\",\n  'Dialog Start time': '00:01:28:04',\n  'Dialog End time': '00:01:30:12'}}"
     },
     "execution_count": 87,
     "metadata": {},
     "output_type": "execute_result"
    }
   ],
   "source": [
    "dTurns2[\"Dialog 15\"]"
   ],
   "metadata": {
    "collapsed": false,
    "ExecuteTime": {
     "end_time": "2024-03-04T20:34:33.745023Z",
     "start_time": "2024-03-04T20:34:33.741362Z"
    }
   },
   "id": "bd3d5930932b42d2",
   "execution_count": 87
  },
  {
   "cell_type": "code",
   "outputs": [
    {
     "data": {
      "text/plain": "{'Scene': 'A corridor at a sperm bank.',\n 'Participant': ['Sheldon', 'Leonard', 'Receptionist'],\n 'GT': 1,\n 'AV_ID': 'The Big Bang_S0101',\n 'Humor Start Time': '00:02:25',\n 'Humor End Time': '00:02:30',\n 'Dialog Turns 0': {'Recipients': ['Sheldon', 'Receptionist'],\n  'Speaker': 'Leonard',\n  'Dialog': 'Well, what do you want to do?',\n  'Dialog Start time': '00:02:07:18',\n  'Dialog End time': '00:02:09:06'},\n 'Dialog Turns 1': {'Recipients': ['Leonard', 'Receptionist'],\n  'Speaker': 'Sheldon',\n  'Dialog': \"I want to leave. What's the protocol for leaving?\",\n  'Dialog Start time': '00:02:09:09',\n  'Dialog End time': '00:02:13:12'},\n 'Dialog Turns 2': {'Recipients': ['Sheldon', 'Receptionist'],\n  'Speaker': 'Leonard',\n  'Dialog': \"I don't know... I've never reneged on a proffer of sperm before.\",\n  'Dialog Start time': '00:02:13:20',\n  'Dialog End time': '00:02:17:02'},\n 'Dialog Turns 3': {'Recipients': ['Leonard', 'Receptionist'],\n  'Speaker': 'Sheldon',\n  'Dialog': \"Let's try just walking out.\",\n  'Dialog Start time': '00:02:18:15',\n  'Dialog End time': '00:02:20:02'}}"
     },
     "execution_count": 60,
     "metadata": {},
     "output_type": "execute_result"
    }
   ],
   "source": [
    "dTurns4[\"Dialog 17\"]"
   ],
   "metadata": {
    "collapsed": false,
    "ExecuteTime": {
     "end_time": "2024-03-04T19:32:10.866766Z",
     "start_time": "2024-03-04T19:32:10.863650Z"
    }
   },
   "id": "e193ecaad5b2b49c",
   "execution_count": 60
  },
  {
   "cell_type": "code",
   "outputs": [
    {
     "data": {
      "text/plain": "{'Scene': 'A corridor at a sperm bank.',\n 'Participant': ['Sheldon', 'Leonard', 'Receptionist'],\n 'GT': 1,\n 'AV_ID': 'The Big Bang_S0101',\n 'Humor Start Time': '00:02:34',\n 'Humor End Time': '00:02:35',\n 'Dialog Turns 0': {'Recipients': ['Sheldon', 'Receptionist'],\n  'Speaker': 'Leonard',\n  'Dialog': \"I don't know... I've never reneged on a proffer of sperm before.\",\n  'Dialog Start time': '00:02:13:20',\n  'Dialog End time': '00:02:17:02'},\n 'Dialog Turns 1': {'Recipients': ['Leonard', 'Receptionist'],\n  'Speaker': 'Sheldon',\n  'Dialog': \"Let's try just walking out.\",\n  'Dialog Start time': '00:02:18:15',\n  'Dialog End time': '00:02:20:02'},\n 'Dialog Turns 2': {'Recipients': ['Sheldon', 'Leonard'],\n  'Speaker': 'Receptionist',\n  'Dialog': 'Bye. ',\n  'Dialog Start time': '00:02:32:06',\n  'Dialog End time': '00:02:34:11'},\n 'Dialog Turns 3': {'Recipients': ['Sheldon', 'Leonard', 'Receptionist'],\n  'Speaker': 'sheldon',\n  'Dialog': 'Bye. Nice meeting you.',\n  'Dialog Start time': '00:02:32:06',\n  'Dialog End time': '00:02:34:11'}}"
     },
     "execution_count": 61,
     "metadata": {},
     "output_type": "execute_result"
    }
   ],
   "source": [
    "dTurns4[\"Dialog 18\"]\n"
   ],
   "metadata": {
    "collapsed": false,
    "ExecuteTime": {
     "end_time": "2024-03-04T19:32:20.129520Z",
     "start_time": "2024-03-04T19:32:20.124443Z"
    }
   },
   "id": "6a881bcab5c5f4c3",
   "execution_count": 61
  },
  {
   "cell_type": "code",
   "outputs": [],
   "source": [],
   "metadata": {
    "collapsed": false
   },
   "id": "ad482a6cde54cecd"
  }
 ],
 "metadata": {
  "kernelspec": {
   "display_name": "Python 3",
   "language": "python",
   "name": "python3"
  },
  "language_info": {
   "codemirror_mode": {
    "name": "ipython",
    "version": 2
   },
   "file_extension": ".py",
   "mimetype": "text/x-python",
   "name": "python",
   "nbconvert_exporter": "python",
   "pygments_lexer": "ipython2",
   "version": "2.7.6"
  }
 },
 "nbformat": 4,
 "nbformat_minor": 5
}
