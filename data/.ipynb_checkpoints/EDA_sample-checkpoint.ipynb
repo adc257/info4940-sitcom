{
 "cells": [
  {
   "cell_type": "markdown",
   "id": "37361edd-f18b-455e-a306-289e42a489e4",
   "metadata": {},
   "source": [
    "# The Big Bang Theory Exploratory Data Analysis"
   ]
  },
  {
   "cell_type": "markdown",
   "id": "91e29354-f5cd-4a30-8cbe-abc0f4c50ed3",
   "metadata": {
    "tags": []
   },
   "source": [
    "### Imports:"
   ]
  },
  {
   "cell_type": "code",
   "execution_count": 160,
   "id": "f5c043b3-5369-4a0d-a3ea-ccb6b5f74949",
   "metadata": {
    "tags": []
   },
   "outputs": [],
   "source": [
    "import json\n",
    "import pandas as pd\n",
    "import numpy as np\n",
    "from datetime import datetime"
   ]
  },
  {
   "cell_type": "markdown",
   "id": "51db49bb-fd2a-4501-a25f-1197f02b94f4",
   "metadata": {},
   "source": [
    "## Loading sample data file:"
   ]
  },
  {
   "cell_type": "code",
   "execution_count": 161,
   "id": "8e1a8919-43b0-42a9-82d2-48e86b60797a",
   "metadata": {
    "tags": []
   },
   "outputs": [],
   "source": [
    "# with open(\"sample.json\", 'r') as file:\n",
    "#     sampleData = json.load(file)"
   ]
  },
  {
   "cell_type": "code",
   "execution_count": 165,
   "id": "edfef5af-e471-4797-bbe7-01202fbc59bb",
   "metadata": {
    "tags": []
   },
   "outputs": [],
   "source": [
    "with open(\"DT_2/Raw/S1/The Big Bang_S0101.json\", 'r') as file:\n",
    "    sampleData = json.load(file)"
   ]
  },
  {
   "cell_type": "code",
   "execution_count": 166,
   "id": "16bac2f2-3ff0-4825-8108-520c8cbf52b6",
   "metadata": {
    "tags": []
   },
   "outputs": [
    {
     "name": "stdout",
     "output_type": "stream",
     "text": [
      "0\n"
     ]
    }
   ],
   "source": [
    "laughter_b4_dialog_count = 0\n",
    "laughter_b4_dialog = []\n",
    "\n",
    "def laughterBeforeDialog(sampleData):\n",
    "\n",
    "    for dialog_num, info in sampleData.items():\n",
    "        num_dialog_turns = \"Dialog Turns \"+ str(sum(1 for key in info if key.startswith('Dialog Turns'))-1)\n",
    "        start_dialog = info[\"Dialog Turns 0\"][\"Dialog Start time\"]\n",
    "        end_dialog = info[num_dialog_turns][\"Dialog End time\"]\n",
    "\n",
    "        try:\n",
    "            laughter_start = info[\"Laughter starts time\"]\n",
    "            laughter_end = info[\"Laughter end time\"]\n",
    "\n",
    "            try:\n",
    "                start_dialog_datetime = datetime.strptime(start_dialog.strip(), '%H:%M:%S:%f')\n",
    "\n",
    "            except ValueError:\n",
    "                start_dialog_datetime = datetime.strptime(start_dialog.strip(), '%H:%M:%S,%f')\n",
    "\n",
    "            laughter_start_datetime = datetime.strptime(laughter_start, '%H:%M:%S')\n",
    "\n",
    "            if laughter_start_datetime < start_dialog_datetime:\n",
    "                print(\"Laughter starts BEFORE dialog\")\n",
    "                laughter_b4_dialog_count += 1 \n",
    "                laughter_b4_dialog.append(dialog_num)\n",
    "\n",
    "        except KeyError:\n",
    "            laughter_start = None\n",
    "            laughter_end = None\n",
    "\n",
    "print(laughter_b4_dialog_count)"
   ]
  },
  {
   "cell_type": "code",
   "execution_count": null,
   "id": "0dc18a5e-28e4-43b8-bef5-dc240a038ed3",
   "metadata": {},
   "outputs": [],
   "source": [
    "laughterBeforeDialog()"
   ]
  }
 ],
 "metadata": {
  "kernelspec": {
   "display_name": "Python 3 (ipykernel)",
   "language": "python",
   "name": "python3"
  },
  "language_info": {
   "codemirror_mode": {
    "name": "ipython",
    "version": 3
   },
   "file_extension": ".py",
   "mimetype": "text/x-python",
   "name": "python",
   "nbconvert_exporter": "python",
   "pygments_lexer": "ipython3",
   "version": "3.10.12"
  }
 },
 "nbformat": 4,
 "nbformat_minor": 5
}
