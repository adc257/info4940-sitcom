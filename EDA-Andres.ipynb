{
 "cells": [
  {
   "cell_type": "markdown",
   "id": "37361edd-f18b-455e-a306-289e42a489e4",
   "metadata": {},
   "source": [
    "# The Big Bang Theory Exploratory Data Analysis"
   ]
  },
  {
   "cell_type": "markdown",
   "id": "91e29354-f5cd-4a30-8cbe-abc0f4c50ed3",
   "metadata": {
    "tags": []
   },
   "source": [
    "### Imports:"
   ]
  },
  {
   "cell_type": "code",
   "execution_count": 1,
   "id": "f5c043b3-5369-4a0d-a3ea-ccb6b5f74949",
   "metadata": {
    "ExecuteTime": {
     "end_time": "2024-03-05T08:05:04.798902Z",
     "start_time": "2024-03-05T08:05:04.795466Z"
    },
    "tags": []
   },
   "outputs": [],
   "source": [
    "import json\n",
    "import pandas as pd\n",
    "import numpy as np\n",
    "import matplotlib.pyplot as plt\n",
    "from datetime import datetime, timedelta, time"
   ]
  },
  {
   "cell_type": "markdown",
   "id": "51db49bb-fd2a-4501-a25f-1197f02b94f4",
   "metadata": {},
   "source": [
    "## Loading sample data file:"
   ]
  },
  {
   "cell_type": "code",
   "execution_count": 2,
   "id": "edfef5af-e471-4797-bbe7-01202fbc59bb",
   "metadata": {
    "ExecuteTime": {
     "end_time": "2024-03-05T08:05:05.268703Z",
     "start_time": "2024-03-05T08:05:05.258113Z"
    },
    "tags": []
   },
   "outputs": [],
   "source": [
    "with open(\"data/DT_2/Raw/S1/The Big Bang_S0101.json\", 'r') as file:\n",
    "    s1e1Data = json.load(file)"
   ]
  },
  {
   "cell_type": "code",
   "execution_count": 4,
   "id": "1b43b6e3",
   "metadata": {
    "ExecuteTime": {
     "end_time": "2024-03-05T08:05:24.924965Z",
     "start_time": "2024-03-05T08:05:24.919430Z"
    }
   },
   "outputs": [],
   "source": [
    "# two different time formats in data, this cleans them into datetime objects\n",
    "def string2datetime(string):\n",
    "    try:\n",
    "        return datetime.strptime(string.strip(), '%H:%M:%S:%f')\n",
    "\n",
    "    except ValueError:\n",
    "        try:\n",
    "            return datetime.strptime(string.strip(), '%H:%M:%S,%f')\n",
    "        \n",
    "        except ValueError:\n",
    "            return datetime.strptime(string.strip(), '%H:%M:%S')\n"
   ]
  },
  {
   "cell_type": "code",
   "execution_count": 5,
   "id": "702690396350a53f",
   "metadata": {
    "ExecuteTime": {
     "end_time": "2024-03-05T08:40:02.951717Z",
     "start_time": "2024-03-05T08:40:02.944343Z"
    },
    "collapsed": false
   },
   "outputs": [],
   "source": [
    "def datetime2String(date):\n",
<<<<<<< HEAD
    "    # try:\n",
    "    return datetime.strftime(date, '%H:%M:%S:%f')\n",
    "    # \n",
    "    # except ValueError:\n",
    "    #     try:\n",
    "    #         return datetime.strptime(string.strip(), '%H:%M:%S,%f')\n",
    "    #     \n",
    "    #     except ValueError:\n",
    "    #         return datetime.strptime(string.strip(), '%H:%M:%S')\n"
   ]
=======
    "    return datetime.strftime(date, '%H:%M:%S:%f')"
   ],
   "metadata": {
    "collapsed": false,
    "ExecuteTime": {
     "end_time": "2024-03-05T16:35:24.260222Z",
     "start_time": "2024-03-05T16:35:24.251739Z"
    }
   },
   "id": "702690396350a53f",
   "execution_count": 196
>>>>>>> 8188bedd3e73d42be7b48fd85e543ecd64e37e68
  },
  {
   "cell_type": "code",
   "execution_count": 6,
   "id": "efc3b0f0527b098",
   "metadata": {
    "ExecuteTime": {
     "end_time": "2024-03-05T16:17:47.260368Z",
     "start_time": "2024-03-05T16:17:47.235472Z"
    },
    "collapsed": false
   },
   "outputs": [],
   "source": [
    "def findHumor(file_path1, file_path2):\n",
    "    humor_dict = {}\n",
    "    for file_path in [file_path1, file_path2]:\n",
    "        # print(file_path.upper())\n",
    "        with open(file_path, 'r') as file:\n",
    "            data = json.load(file)\n",
    "            for dialog_num, info in data.items():\n",
    "                if info['GT'] == 1:\n",
    "                    # print(\"humor\")\n",
    "                    humor_start, humor_end = string2datetime(info[\"Humor Start Time\"]), string2datetime(info[\"Humor End Time\"])\n",
    "                    duration = humor_end - humor_start\n",
    "                    if timedelta(seconds=0) <= duration < timedelta(seconds=10):\n",
    "                        humor_dict[humor_start] = humor_end\n",
    "    return dict(sorted(humor_dict.items(), key=lambda x: x[0]))\n",
    "    "
<<<<<<< HEAD
   ]
  },
  {
   "cell_type": "code",
   "execution_count": 7,
=======
   ],
   "metadata": {
    "collapsed": false,
    "ExecuteTime": {
     "end_time": "2024-03-05T16:37:57.536929Z",
     "start_time": "2024-03-05T16:37:57.532605Z"
    }
   },
   "id": "efc3b0f0527b098",
   "execution_count": 210
  },
  {
   "cell_type": "code",
   "execution_count": 206,
>>>>>>> 8188bedd3e73d42be7b48fd85e543ecd64e37e68
   "id": "215f7c06-5d82-437c-9c37-aacd39bf9c4a",
   "metadata": {
    "ExecuteTime": {
<<<<<<< HEAD
     "end_time": "2024-03-05T16:17:47.559909Z",
     "start_time": "2024-03-05T16:17:47.555240Z"
    },
    "tags": []
=======
     "end_time": "2024-03-05T16:37:47.482636Z",
     "start_time": "2024-03-05T16:37:47.476554Z"
    }
>>>>>>> 8188bedd3e73d42be7b48fd85e543ecd64e37e68
   },
   "outputs": [],
   "source": [
    "def reorganize_data(file):\n",
    "    lines_dict = {}\n",
    "    for dialog_num, info in file.items():            \n",
    "        dialog_turns = [key for key in info if key.startswith('Dialog Turn')]\n",
    "        for turn in dialog_turns:\n",
    "            start_time = string2datetime(info[turn][\"Dialog Start time\"])\n",
    "            if start_time in lines_dict: \n",
    "                pass\n",
    "            else:\n",
    "                lines_dict[start_time] = {\n",
    "                    \"Scene\": info[\"Scene\"],\n",
    "                    \"Recipients\": info[turn][\"Recipients\"],\n",
    "                    \"Speaker\": info[turn][\"Speaker\"],\n",
    "                    \"Dialogue\": info[turn][\"Dialog\"],\n",
    "                    \"Dialogue Start Time\": string2datetime(info[turn][\"Dialog Start time\"]),\n",
    "                    \"Dialogue End Time\": string2datetime(info[turn][\"Dialog End time\"])\n",
    "                }\n",
    "\n",
    "    return dict(sorted(lines_dict.items(), key=lambda x: x[0]))\n",
    "\n",
    "            \n",
    "        \n",
    "        "
   ]
  },
  {
   "cell_type": "code",
   "execution_count": 8,
   "id": "d519c1cf1237708d",
   "metadata": {
    "ExecuteTime": {
     "end_time": "2024-03-05T16:17:47.757533Z",
     "start_time": "2024-03-05T16:17:47.743698Z"
    },
    "collapsed": false
   },
   "outputs": [],
   "source": [
    "path1 = \"data/DT_2/Raw/S1/The Big Bang_S0101.json\"\n",
    "path2 = \"data/DT_3/Raw/S1/The Big Bang_S0101.json\"\n",
    "\n",
    "humor_dict = findHumor(path1, path2)"
<<<<<<< HEAD
   ]
  },
  {
   "cell_type": "code",
   "execution_count": 9,
=======
   ],
   "metadata": {
    "collapsed": false,
    "ExecuteTime": {
     "end_time": "2024-03-05T16:38:01.249802Z",
     "start_time": "2024-03-05T16:38:01.212809Z"
    }
   },
   "id": "d519c1cf1237708d",
   "execution_count": 211
  },
  {
   "cell_type": "code",
   "execution_count": 212,
>>>>>>> 8188bedd3e73d42be7b48fd85e543ecd64e37e68
   "id": "e966afe0",
   "metadata": {
    "ExecuteTime": {
     "end_time": "2024-03-05T16:38:01.819482Z",
     "start_time": "2024-03-05T16:38:01.816326Z"
    }
   },
   "outputs": [],
   "source": [
    "lines_dict = reorganize_data(s1e1Data)"
   ]
  },
  {
   "cell_type": "code",
   "execution_count": 10,
   "id": "86d6da19b4f27516",
   "metadata": {
    "ExecuteTime": {
     "end_time": "2024-03-05T16:17:48.458479Z",
     "start_time": "2024-03-05T16:17:48.425528Z"
    },
    "collapsed": false
   },
   "outputs": [],
   "source": [
    "# TODO: set buffer\n",
    "buffer = timedelta(seconds=1)\n",
    "\n",
    "nHumorMissingLine = 0\n",
    "idxsHumorMissingLine = []\n",
    "\n",
    "humor_times = list(humor_dict.keys())\n",
    "dialog_times = list(lines_dict.keys())\n",
    "humorN = 0\n",
    "dialogN = 0\n",
    "while humorN < len(humor_dict):\n",
    "    found_humor = False\n",
    "    while dialogN < len(dialog_times) - 1 and not found_humor:\n",
    "        laugh_start = humor_times[humorN]\n",
    "        laugh_end = humor_dict[laugh_start]\n",
    "        duration = laugh_end - laugh_start            \n",
    "        \n",
    "        current_dialog_start = dialog_times[dialogN]\n",
    "        current_dialog_end = lines_dict[current_dialog_start]['Dialogue End Time']\n",
    "        next_dialog_start = dialog_times[dialogN + 1]\n",
    "\n",
    "        if current_dialog_start <= laugh_start < next_dialog_start and laugh_start <= (current_dialog_end + buffer):\n",
    "            lines_dict[current_dialog_start]['isHumor'] = True\n",
    "            lines_dict[current_dialog_start]['humorDuration'] = duration\n",
    "            \n",
    "            # print(\"Humor line: \", lines_dict[current_dialog_start]['Dialogue'])\n",
    "            # print(\"Humor duration: \", humor_dict[laugh_start] - laugh_start)\n",
    "            # print(\"Speaker: \", lines_dict[current_dialog_start]['Speaker'])\n",
    "            # # print(\"\\n\")\n",
    "            # print(f\"Dialogue start: {lines_dict[current_dialog_start]['Dialogue Start Time']}\")\n",
    "            # print(f\"Dialogue end: {lines_dict[current_dialog_start]['Dialogue End Time']}\")\n",
    "            # print(f\"Humor start: {laugh_start}\")\n",
    "            # print(\"Humor end: \", humor_dict[laugh_start])\n",
    "            # print(\"\\n\\n\")\n",
    "            found_humor = True\n",
    "        dialogN += 1\n",
    "\n",
    "    if not found_humor:\n",
    "        dialogN = 0\n",
    "        nHumorMissingLine += 1\n",
    "        idxsHumorMissingLine.append(humorN)\n",
    "\n",
    "    humorN += 1"
<<<<<<< HEAD
   ]
=======
   ],
   "metadata": {
    "collapsed": false,
    "ExecuteTime": {
     "end_time": "2024-03-05T16:38:02.255472Z",
     "start_time": "2024-03-05T16:38:02.243734Z"
    }
   },
   "id": "86d6da19b4f27516",
   "execution_count": 213
>>>>>>> 8188bedd3e73d42be7b48fd85e543ecd64e37e68
  },
  {
   "cell_type": "code",
   "execution_count": 11,
   "id": "3f15ce8aa866363",
   "metadata": {
    "ExecuteTime": {
     "end_time": "2024-03-05T16:17:49.206052Z",
     "start_time": "2024-03-05T16:17:49.199544Z"
    },
    "collapsed": false
   },
   "outputs": [],
   "source": [
    "# startTime and endTime must be in format String: \"HH:MM:SS\"\n",
    "def getLinesBetween(startTime, endTime, lines_dict):\n",
    "    \n",
    "    return {\n",
    "        lineStartTime: data\n",
    "        for lineStartTime, data in lines_dict.items()\n",
    "        if  string2datetime(startTime) <= lineStartTime <= string2datetime(endTime)}"
<<<<<<< HEAD
   ]
=======
   ],
   "metadata": {
    "collapsed": false,
    "ExecuteTime": {
     "end_time": "2024-03-05T16:38:03.081433Z",
     "start_time": "2024-03-05T16:38:03.064310Z"
    }
   },
   "id": "3f15ce8aa866363",
   "execution_count": 214
>>>>>>> 8188bedd3e73d42be7b48fd85e543ecd64e37e68
  },
  {
   "cell_type": "markdown",
   "id": "2439ca1b61232326",
   "metadata": {
    "collapsed": false
   },
<<<<<<< HEAD
   "source": [
    "## Instances where humor wasn't matched with a line "
   ]
=======
   "id": "2439ca1b61232326"
  },
  {
   "cell_type": "code",
   "outputs": [
    {
     "data": {
      "text/plain": "140"
     },
     "execution_count": 215,
     "metadata": {},
     "output_type": "execute_result"
    }
   ],
   "source": [
    "len(humor_times)"
   ],
   "metadata": {
    "collapsed": false,
    "ExecuteTime": {
     "end_time": "2024-03-05T16:38:04.164349Z",
     "start_time": "2024-03-05T16:38:04.147442Z"
    }
   },
   "id": "8f49de19997d2c69",
   "execution_count": 215
>>>>>>> 8188bedd3e73d42be7b48fd85e543ecd64e37e68
  },
  {
   "cell_type": "code",
   "execution_count": 13,
   "id": "e9dec085c8a44481",
   "metadata": {
    "ExecuteTime": {
     "end_time": "2024-03-05T16:17:56.353449Z",
     "start_time": "2024-03-05T16:17:56.347445Z"
    },
    "collapsed": false
   },
   "outputs": [
    {
     "name": "stdout",
     "output_type": "stream",
     "text": [
      "Laughtrack missing line:\n",
      "\t15 / 140 total lines\n"
     ]
    }
   ],
   "source": [
    "print(f\"Laughtrack missing line:\\n\\t{nHumorMissingLine} / {len(humor_times)} total lines\")"
<<<<<<< HEAD
   ]
=======
   ],
   "metadata": {
    "collapsed": false,
    "ExecuteTime": {
     "end_time": "2024-03-05T16:38:05.038403Z",
     "start_time": "2024-03-05T16:38:05.031731Z"
    }
   },
   "id": "e9dec085c8a44481",
   "execution_count": 216
>>>>>>> 8188bedd3e73d42be7b48fd85e543ecd64e37e68
  },
  {
   "cell_type": "code",
   "execution_count": 54,
   "id": "aa37f126",
   "metadata": {},
   "outputs": [],
   "source": [
    "\n",
    "\n",
    "def missingHumorInfo(missingHumorIndex):\n",
    "    missingHumor = {}\n",
    "    \n",
    "    before_time = None\n",
    "    after_time = None\n",
    "\n",
    "    for index in missingHumorIndex:\n",
    "        humorStart = humor_times[index]\n",
    "        humorEnd = humor_dict[humorStart]\n",
    "\n",
    "        for time_key in lines_dict.keys():\n",
    "            if time_key < humorStart:\n",
    "                \n",
    "                before_time = time_key\n",
    "            elif time_key > humorStart:\n",
    "                after_time = time_key\n",
    "                break\n",
    "\n",
    "        missingHumor[humorStart] = {\"Humor Start\": humorStart,\n",
    "                                    \"Humor End\": humorEnd,\n",
    "                                    \"Humor Duration\":humorEnd-humorStart,\n",
    "                                    \"DialogEnd to HumorStart\": humorStart - lines_dict[before_time]['Dialogue End Time'],\n",
    "                                    \"HumorEnd to NextDialogStart\": lines_dict[after_time]['Dialogue Start Time'] - humorEnd\n",
    "                                    }\n",
    "        \n",
    "    return missingHumor"
   ]
  },
  {
   "cell_type": "code",
   "execution_count": 55,
   "id": "14b21f5b",
   "metadata": {},
   "outputs": [
    {
     "data": {
      "text/plain": [
       "{datetime.datetime(1900, 1, 1, 0, 0, 28): {'Humor Start': datetime.datetime(1900, 1, 1, 0, 0, 28),\n",
       "  'Humor End': datetime.datetime(1900, 1, 1, 0, 0, 29),\n",
       "  'Humor Duration': datetime.timedelta(seconds=1),\n",
       "  'DialogEnd to HumorStart': datetime.timedelta(seconds=2, microseconds=940000),\n",
       "  'HumorEnd to NextDialogStart': datetime.timedelta(microseconds=150000)},\n",
       " datetime.datetime(1900, 1, 1, 0, 0, 57): {'Humor Start': datetime.datetime(1900, 1, 1, 0, 0, 57),\n",
       "  'Humor End': datetime.datetime(1900, 1, 1, 0, 0, 59),\n",
       "  'Humor Duration': datetime.timedelta(seconds=2),\n",
       "  'DialogEnd to HumorStart': datetime.timedelta(seconds=5, microseconds=820000),\n",
       "  'HumorEnd to NextDialogStart': datetime.timedelta(microseconds=120000)},\n",
       " datetime.datetime(1900, 1, 1, 0, 2, 25): {'Humor Start': datetime.datetime(1900, 1, 1, 0, 2, 25),\n",
       "  'Humor End': datetime.datetime(1900, 1, 1, 0, 2, 30),\n",
       "  'Humor Duration': datetime.timedelta(seconds=5),\n",
       "  'DialogEnd to HumorStart': datetime.timedelta(seconds=4, microseconds=980000),\n",
       "  'HumorEnd to NextDialogStart': datetime.timedelta(seconds=2, microseconds=60000)},\n",
       " datetime.datetime(1900, 1, 1, 0, 3, 27): {'Humor Start': datetime.datetime(1900, 1, 1, 0, 3, 27),\n",
       "  'Humor End': datetime.datetime(1900, 1, 1, 0, 3, 30),\n",
       "  'Humor Duration': datetime.timedelta(seconds=3),\n",
       "  'DialogEnd to HumorStart': datetime.timedelta(seconds=1, microseconds=770000),\n",
       "  'HumorEnd to NextDialogStart': datetime.timedelta(microseconds=210000)},\n",
       " datetime.datetime(1900, 1, 1, 0, 7, 2): {'Humor Start': datetime.datetime(1900, 1, 1, 0, 7, 2),\n",
       "  'Humor End': datetime.datetime(1900, 1, 1, 0, 7, 3),\n",
       "  'Humor Duration': datetime.timedelta(seconds=1),\n",
       "  'DialogEnd to HumorStart': datetime.timedelta(seconds=2, microseconds=770000),\n",
       "  'HumorEnd to NextDialogStart': datetime.timedelta(microseconds=60000)},\n",
       " datetime.datetime(1900, 1, 1, 0, 7, 16): {'Humor Start': datetime.datetime(1900, 1, 1, 0, 7, 16),\n",
       "  'Humor End': datetime.datetime(1900, 1, 1, 0, 7, 17),\n",
       "  'Humor Duration': datetime.timedelta(seconds=1),\n",
       "  'DialogEnd to HumorStart': datetime.timedelta(seconds=2, microseconds=880000),\n",
       "  'HumorEnd to NextDialogStart': datetime.timedelta(microseconds=150000)},\n",
       " datetime.datetime(1900, 1, 1, 0, 11, 5): {'Humor Start': datetime.datetime(1900, 1, 1, 0, 11, 5),\n",
       "  'Humor End': datetime.datetime(1900, 1, 1, 0, 11, 8),\n",
       "  'Humor Duration': datetime.timedelta(seconds=3),\n",
       "  'DialogEnd to HumorStart': datetime.timedelta(seconds=1, microseconds=770000),\n",
       "  'HumorEnd to NextDialogStart': datetime.timedelta(microseconds=230000)},\n",
       " datetime.datetime(1900, 1, 1, 0, 12, 6): {'Humor Start': datetime.datetime(1900, 1, 1, 0, 12, 6),\n",
       "  'Humor End': datetime.datetime(1900, 1, 1, 0, 12, 7),\n",
       "  'Humor Duration': datetime.timedelta(seconds=1),\n",
       "  'DialogEnd to HumorStart': datetime.timedelta(seconds=1, microseconds=790000),\n",
       "  'HumorEnd to NextDialogStart': datetime.timedelta(microseconds=210000)},\n",
       " datetime.datetime(1900, 1, 1, 0, 15, 21): {'Humor Start': datetime.datetime(1900, 1, 1, 0, 15, 21),\n",
       "  'Humor End': datetime.datetime(1900, 1, 1, 0, 15, 22),\n",
       "  'Humor Duration': datetime.timedelta(seconds=1),\n",
       "  'DialogEnd to HumorStart': datetime.timedelta(seconds=2, microseconds=780000),\n",
       "  'HumorEnd to NextDialogStart': datetime.timedelta(microseconds=20000)},\n",
       " datetime.datetime(1900, 1, 1, 0, 15, 44): {'Humor Start': datetime.datetime(1900, 1, 1, 0, 15, 44),\n",
       "  'Humor End': datetime.datetime(1900, 1, 1, 0, 15, 46),\n",
       "  'Humor Duration': datetime.timedelta(seconds=2),\n",
       "  'DialogEnd to HumorStart': datetime.timedelta(seconds=1, microseconds=980000),\n",
       "  'HumorEnd to NextDialogStart': datetime.timedelta(seconds=2, microseconds=190000)},\n",
       " datetime.datetime(1900, 1, 1, 0, 17, 14): {'Humor Start': datetime.datetime(1900, 1, 1, 0, 17, 14),\n",
       "  'Humor End': datetime.datetime(1900, 1, 1, 0, 17, 17),\n",
       "  'Humor Duration': datetime.timedelta(seconds=3),\n",
       "  'DialogEnd to HumorStart': datetime.timedelta(seconds=2, microseconds=880000),\n",
       "  'HumorEnd to NextDialogStart': datetime.timedelta(microseconds=70000)},\n",
       " datetime.datetime(1900, 1, 1, 0, 18, 13): {'Humor Start': datetime.datetime(1900, 1, 1, 0, 18, 13),\n",
       "  'Humor End': datetime.datetime(1900, 1, 1, 0, 18, 20),\n",
       "  'Humor Duration': datetime.timedelta(seconds=7),\n",
       "  'DialogEnd to HumorStart': datetime.timedelta(seconds=6, microseconds=810000),\n",
       "  'HumorEnd to NextDialogStart': datetime.timedelta(microseconds=230000)},\n",
       " datetime.datetime(1900, 1, 1, 0, 18, 32): {'Humor Start': datetime.datetime(1900, 1, 1, 0, 18, 32),\n",
       "  'Humor End': datetime.datetime(1900, 1, 1, 0, 18, 34),\n",
       "  'Humor Duration': datetime.timedelta(seconds=2),\n",
       "  'DialogEnd to HumorStart': datetime.timedelta(seconds=1, microseconds=900000),\n",
       "  'HumorEnd to NextDialogStart': datetime.timedelta(microseconds=130000)},\n",
       " datetime.datetime(1900, 1, 1, 0, 21, 21): {'Humor Start': datetime.datetime(1900, 1, 1, 0, 21, 21),\n",
       "  'Humor End': datetime.datetime(1900, 1, 1, 0, 21, 23),\n",
       "  'Humor Duration': datetime.timedelta(seconds=2),\n",
       "  'DialogEnd to HumorStart': datetime.timedelta(seconds=7, microseconds=900000),\n",
       "  'HumorEnd to NextDialogStart': datetime.timedelta(microseconds=70000)},\n",
       " datetime.datetime(1900, 1, 1, 0, 22, 19): {'Humor Start': datetime.datetime(1900, 1, 1, 0, 22, 19),\n",
       "  'Humor End': datetime.datetime(1900, 1, 1, 0, 22, 22),\n",
       "  'Humor Duration': datetime.timedelta(seconds=3),\n",
       "  'DialogEnd to HumorStart': datetime.timedelta(days=-1, seconds=86399, microseconds=900000),\n",
       "  'HumorEnd to NextDialogStart': datetime.timedelta(days=-1, seconds=86341, microseconds=70000)}}"
      ]
     },
     "execution_count": 55,
     "metadata": {},
     "output_type": "execute_result"
    }
   ],
   "source": [
    "missingHumorInfo(idxsHumorMissingLine)"
   ]
  },
  {
   "cell_type": "code",
   "execution_count": 42,
   "id": "3e842667",
   "metadata": {},
   "outputs": [
    {
     "data": {
      "text/plain": [
       "datetime.timedelta(seconds=2, microseconds=940000)"
      ]
     },
     "execution_count": 42,
     "metadata": {},
     "output_type": "execute_result"
    }
   ],
   "source": [
    "humorStart - lines_dict[before_time]['Dialogue End Time']"
   ]
  },
  {
   "cell_type": "code",
   "execution_count": 43,
   "id": "d910e611",
   "metadata": {},
   "outputs": [
    {
     "data": {
      "text/plain": [
       "datetime.timedelta(seconds=1, microseconds=150000)"
      ]
     },
     "execution_count": 43,
     "metadata": {},
     "output_type": "execute_result"
    }
   ],
   "source": [
    "lines_dict[after_time]['Dialogue Start Time'] - humorStart"
   ]
  },
  {
   "cell_type": "code",
   "execution_count": 44,
   "id": "d594ddd1",
   "metadata": {},
   "outputs": [
    {
     "data": {
      "text/plain": [
       "{'Scene': 'A corridor at a sperm bank.',\n",
       " 'Recipients': ['Sheldon', 'Receptionist'],\n",
       " 'Speaker': 'Leonard',\n",
       " 'Dialogue': 'Excuse me.',\n",
       " 'Dialogue Start Time': datetime.datetime(1900, 1, 1, 0, 0, 23, 140000),\n",
       " 'Dialogue End Time': datetime.datetime(1900, 1, 1, 0, 0, 25, 60000)}"
      ]
     },
     "execution_count": 44,
     "metadata": {},
     "output_type": "execute_result"
    }
   ],
   "source": [
    "lines_dict[before_time]"
   ]
  },
  {
   "cell_type": "code",
   "execution_count": 45,
   "id": "ad801b22",
   "metadata": {},
   "outputs": [
    {
     "data": {
      "text/plain": [
       "{'Scene': 'A corridor at a sperm bank.',\n",
       " 'Recipients': ['Sheldon', 'Receptionist'],\n",
       " 'Speaker': 'Leonard',\n",
       " 'Dialogue': 'One across is Aegean. Eight down is Nabokov. 26 across is MCM.',\n",
       " 'Dialogue Start Time': datetime.datetime(1900, 1, 1, 0, 0, 29, 150000),\n",
       " 'Dialogue End Time': datetime.datetime(1900, 1, 1, 0, 0, 35, 60000),\n",
       " 'isHumor': True,\n",
       " 'humorDuration': datetime.timedelta(seconds=1)}"
      ]
     },
     "execution_count": 45,
     "metadata": {},
     "output_type": "execute_result"
    }
   ],
   "source": [
    "lines_dict[after_time]"
   ]
  },
  {
   "cell_type": "code",
   "execution_count": 20,
   "id": "5d59cf5b2bc6825b",
   "metadata": {
    "ExecuteTime": {
     "end_time": "2024-03-05T08:40:08.308979Z",
     "start_time": "2024-03-05T08:40:08.293745Z"
    },
    "collapsed": false
   },
   "outputs": [
    {
     "name": "stdout",
     "output_type": "stream",
     "text": [
      "1900-01-01 00:00:28\n",
      "1900-01-01 00:00:57\n",
      "1900-01-01 00:02:25\n",
      "1900-01-01 00:03:27\n",
      "1900-01-01 00:07:02\n",
      "1900-01-01 00:07:16\n",
      "1900-01-01 00:11:05\n",
      "1900-01-01 00:12:06\n",
      "1900-01-01 00:15:21\n",
      "1900-01-01 00:15:44\n",
      "1900-01-01 00:17:14\n",
      "1900-01-01 00:18:13\n",
      "1900-01-01 00:18:32\n",
      "1900-01-01 00:21:21\n",
      "1900-01-01 00:22:19\n"
     ]
    }
   ],
   "source": [
    "missingHumorInfo = {}\n",
    "for idx in idxsHumorMissingLine:\n",
<<<<<<< HEAD
    "    start_time = humor_times[idx]\n",
    "    end_time = humor_dict[start_time]\n",
    "    duration = end_time - start_time\n",
    "    \n",
    "    missingHumorInfo[start_time]= {\n",
    "                \"End Humor\": end_time,\n",
    "                \"Humor Duration\": duration,\n",
    "                \"∆ Dialog-End and Laugh-Start\": ,\n",
    "                \"∆ Laugh-End and Next Dialog-Start\"\n",
    "            }\n",
    "\n",
    "\n",
    "# print(f\"length: {len(idxsHumorMissingLine)}\")"
   ]
=======
    "    print(humor_times[idx])\n"
   ],
   "metadata": {
    "collapsed": false,
    "ExecuteTime": {
     "end_time": "2024-03-05T16:38:06.120860Z",
     "start_time": "2024-03-05T16:38:06.117178Z"
    }
   },
   "id": "5d59cf5b2bc6825b",
   "execution_count": 217
>>>>>>> 8188bedd3e73d42be7b48fd85e543ecd64e37e68
  },
  {
   "cell_type": "code",
   "execution_count": 15,
   "id": "4c47428abaf7ea67",
   "metadata": {
    "ExecuteTime": {
     "end_time": "2024-03-05T08:41:26.324211Z",
     "start_time": "2024-03-05T08:41:26.319156Z"
    },
    "collapsed": false
   },
   "outputs": [],
   "source": [
    "def getLinesAroundHumor(humorStartTime, threshold, lines_dict):\n",
    "    startTime = humorStartTime - threshold\n",
    "    endTime = humorStartTime + threshold\n",
    "    return getLinesBetween(startTime.strftime('%H:%M:%S:%f'), endTime.strftime('%H:%M:%S:%f'), lines_dict)\n",
    "     "
   ]
  },
  {
   "cell_type": "code",
<<<<<<< HEAD
   "execution_count": 16,
   "id": "f292bc7165a77326",
   "metadata": {
    "ExecuteTime": {
     "end_time": "2024-03-05T15:55:27.247444Z",
     "start_time": "2024-03-05T15:55:27.242805Z"
    },
    "collapsed": false
   },
   "outputs": [
    {
     "name": "stdout",
     "output_type": "stream",
     "text": [
      "1900-01-01 00:00:28\n"
     ]
    },
    {
     "data": {
      "text/plain": [
       "{datetime.datetime(1900, 1, 1, 0, 0, 23, 140000): {'Scene': 'A corridor at a sperm bank.',\n",
       "  'Recipients': ['Sheldon', 'Receptionist'],\n",
       "  'Speaker': 'Leonard',\n",
       "  'Dialogue': 'Excuse me.',\n",
       "  'Dialogue Start Time': datetime.datetime(1900, 1, 1, 0, 0, 23, 140000),\n",
       "  'Dialogue End Time': datetime.datetime(1900, 1, 1, 0, 0, 25, 60000)},\n",
       " datetime.datetime(1900, 1, 1, 0, 0, 29, 150000): {'Scene': 'A corridor at a sperm bank.',\n",
       "  'Recipients': ['Sheldon', 'Receptionist'],\n",
       "  'Speaker': 'Leonard',\n",
       "  'Dialogue': 'One across is Aegean. Eight down is Nabokov. 26 across is MCM.',\n",
       "  'Dialogue Start Time': datetime.datetime(1900, 1, 1, 0, 0, 29, 150000),\n",
       "  'Dialogue End Time': datetime.datetime(1900, 1, 1, 0, 0, 35, 60000),\n",
       "  'isHumor': True,\n",
       "  'humorDuration': datetime.timedelta(seconds=1)}}"
      ]
     },
     "metadata": {},
     "output_type": "display_data"
    }
   ],
   "source": [
    "idx1 = idxsHumorMissingLine[0]\n",
    "humorTime1 = humor_times[idx1]\n",
    "\n",
    "surrounding_lines = getLinesAroundHumor(humorTime1, timedelta(seconds=6), lines_dict)\n",
    "\n",
    "print(humorTime1)\n",
    "display(surrounding_lines)"
   ]
  },
  {
   "cell_type": "code",
   "execution_count": 19,
   "id": "81fdba5fbe05504a",
=======
   "outputs": [],
   "source": [
    "# idx1 = idxsHumorMissingLine[0]\n",
    "# humorTime1 = humor_times[idx1]\n",
    "# \n",
    "# surrounding_lines = getLinesAroundHumor(humorTime1, timedelta(seconds=6), lines_dict)\n",
    "# \n",
    "# print(humorTime1)\n",
    "# display(surrounding_lines)"
   ],
   "metadata": {
    "collapsed": false,
    "ExecuteTime": {
     "end_time": "2024-03-05T16:26:57.583492Z",
     "start_time": "2024-03-05T16:26:57.573335Z"
    }
   },
   "id": "f292bc7165a77326",
   "execution_count": 192
  },
  {
   "cell_type": "code",
   "outputs": [
    {
     "data": {
      "text/plain": "{datetime.datetime(1900, 1, 1, 0, 0, 0, 140000): {'Scene': 'A corridor at a sperm bank.',\n  'Recipients': ['Leonard'],\n  'Speaker': 'Sheldon',\n  'Dialogue': \"So if a photon is directed through a plane with two slits in it and either slit is observed, it will not go through both slits. If it's unobserved, it will. However, if it's observed after it's left the plane but before it hits its target, it won't have gone through both slits.\",\n  'Dialogue Start Time': datetime.datetime(1900, 1, 1, 0, 0, 0, 140000),\n  'Dialogue End Time': datetime.datetime(1900, 1, 1, 0, 0, 12, 140000)},\n datetime.datetime(1900, 1, 1, 0, 0, 12, 180000): {'Scene': 'A corridor at a sperm bank.',\n  'Recipients': ['Sheldon'],\n  'Speaker': 'Leonard',\n  'Dialogue': \"Agreed. What's your point?\",\n  'Dialogue Start Time': datetime.datetime(1900, 1, 1, 0, 0, 12, 180000),\n  'Dialogue End Time': datetime.datetime(1900, 1, 1, 0, 0, 14, 180000)},\n datetime.datetime(1900, 1, 1, 0, 0, 14, 230000): {'Scene': 'A corridor at a sperm bank.',\n  'Recipients': ['Leonard'],\n  'Speaker': 'Sheldon',\n  'Dialogue': \"There's no point, I just think it's a good idea for a T-shirt.\",\n  'Dialogue Start Time': datetime.datetime(1900, 1, 1, 0, 0, 14, 230000),\n  'Dialogue End Time': datetime.datetime(1900, 1, 1, 0, 0, 18, 30000),\n  'isHumor': True,\n  'humorDuration': datetime.timedelta(seconds=2)},\n datetime.datetime(1900, 1, 1, 0, 0, 23, 140000): {'Scene': 'A corridor at a sperm bank.',\n  'Recipients': ['Sheldon', 'Receptionist'],\n  'Speaker': 'Leonard',\n  'Dialogue': 'Excuse me.',\n  'Dialogue Start Time': datetime.datetime(1900, 1, 1, 0, 0, 23, 140000),\n  'Dialogue End Time': datetime.datetime(1900, 1, 1, 0, 0, 25, 60000)},\n datetime.datetime(1900, 1, 1, 0, 0, 29, 150000): {'Scene': 'A corridor at a sperm bank.',\n  'Recipients': ['Sheldon', 'Receptionist'],\n  'Speaker': 'Leonard',\n  'Dialogue': 'One across is Aegean. Eight down is Nabokov. 26 across is MCM.',\n  'Dialogue Start Time': datetime.datetime(1900, 1, 1, 0, 0, 29, 150000),\n  'Dialogue End Time': datetime.datetime(1900, 1, 1, 0, 0, 35, 60000),\n  'isHumor': True,\n  'humorDuration': datetime.timedelta(seconds=1)},\n datetime.datetime(1900, 1, 1, 0, 0, 35, 120000): {'Scene': 'A corridor at a sperm bank.',\n  'Recipients': ['Sheldon', 'Receptionist'],\n  'Speaker': 'Leonard',\n  'Dialogue': '14 down is... Move your finger...',\n  'Dialogue Start Time': datetime.datetime(1900, 1, 1, 0, 0, 35, 120000),\n  'Dialogue End Time': datetime.datetime(1900, 1, 1, 0, 0, 37, 190000),\n  'isHumor': True,\n  'humorDuration': datetime.timedelta(seconds=1)},\n datetime.datetime(1900, 1, 1, 0, 0, 38, 160000): {'Scene': 'A corridor at a sperm bank.',\n  'Recipients': ['Sheldon', 'Receptionist'],\n  'Speaker': 'Leonard',\n  'Dialogue': 'Phylum which makes 14 across Port-au-Prince',\n  'Dialogue Start Time': datetime.datetime(1900, 1, 1, 0, 0, 38, 160000),\n  'Dialogue End Time': datetime.datetime(1900, 1, 1, 0, 0, 41, 70000),\n  'isHumor': True,\n  'humorDuration': datetime.timedelta(seconds=1)},\n datetime.datetime(1900, 1, 1, 0, 0, 42, 230000): {'Scene': 'A corridor at a sperm bank.',\n  'Recipients': ['Sheldon', 'Receptionist'],\n  'Speaker': 'Leonard',\n  'Dialogue': \"See, Papa Doc's capitol idea, that's Port-au-Prince.\",\n  'Dialogue Start Time': datetime.datetime(1900, 1, 1, 0, 0, 42, 230000),\n  'Dialogue End Time': datetime.datetime(1900, 1, 1, 0, 0, 46, 40000),\n  'isHumor': True,\n  'humorDuration': datetime.timedelta(seconds=1)},\n datetime.datetime(1900, 1, 1, 0, 0, 47, 160000): {'Scene': 'A corridor at a sperm bank.',\n  'Recipients': ['Sheldon', 'Receptionist'],\n  'Speaker': 'Leonard',\n  'Dialogue': 'Haiti.',\n  'Dialogue Start Time': datetime.datetime(1900, 1, 1, 0, 0, 47, 160000),\n  'Dialogue End Time': datetime.datetime(1900, 1, 1, 0, 0, 48, 160000),\n  'isHumor': True,\n  'humorDuration': datetime.timedelta(seconds=2)},\n datetime.datetime(1900, 1, 1, 0, 0, 50, 40000): {'Scene': 'A corridor at a sperm bank.',\n  'Recipients': ['Sheldon', 'Leonard'],\n  'Speaker': 'Receptionist',\n  'Dialogue': 'Can I help you?',\n  'Dialogue Start Time': datetime.datetime(1900, 1, 1, 0, 0, 50, 40000),\n  'Dialogue End Time': datetime.datetime(1900, 1, 1, 0, 0, 51, 180000)},\n datetime.datetime(1900, 1, 1, 0, 0, 59, 120000): {'Scene': 'A corridor at a sperm bank.',\n  'Recipients': ['Sheldon', 'Leonard'],\n  'Speaker': 'Receptionist',\n  'Dialogue': \"If you have to ask, maybe you shouldn't be here.\",\n  'Dialogue Start Time': datetime.datetime(1900, 1, 1, 0, 0, 59, 120000),\n  'Dialogue End Time': datetime.datetime(1900, 1, 1, 0, 1, 2, 50000),\n  'isHumor': True,\n  'humorDuration': datetime.timedelta(seconds=1)},\n datetime.datetime(1900, 1, 1, 0, 1, 3, 90000): {'Scene': 'A corridor at a sperm bank.',\n  'Recipients': ['Leonard', 'Receptionist'],\n  'Speaker': 'Sheldon',\n  'Dialogue': 'I think this is the place.',\n  'Dialogue Start Time': datetime.datetime(1900, 1, 1, 0, 1, 3, 90000),\n  'Dialogue End Time': datetime.datetime(1900, 1, 1, 0, 1, 4, 230000),\n  'isHumor': True,\n  'humorDuration': datetime.timedelta(seconds=2)},\n datetime.datetime(1900, 1, 1, 0, 1, 6, 40000): {'Scene': 'A corridor at a sperm bank.',\n  'Recipients': ['Sheldon', 'Receptionist'],\n  'Speaker': 'Leonard',\n  'Dialogue': \"Thank you. We'll be right back.\",\n  'Dialogue Start Time': datetime.datetime(1900, 1, 1, 0, 1, 6, 40000),\n  'Dialogue End Time': datetime.datetime(1900, 1, 1, 0, 1, 9, 200000)},\n datetime.datetime(1900, 1, 1, 0, 1, 8): {'Scene': 'A corridor at a sperm bank.',\n  'Recipients': ['Sheldon', 'Leonard'],\n  'Speaker': 'Receptionist',\n  'Dialogue': \"Take your time. I'll just finish my crossword puzzle.\",\n  'Dialogue Start Time': datetime.datetime(1900, 1, 1, 0, 1, 8),\n  'Dialogue End Time': datetime.datetime(1900, 1, 1, 0, 1, 12, 40000),\n  'isHumor': True,\n  'humorDuration': datetime.timedelta(seconds=1)},\n datetime.datetime(1900, 1, 1, 0, 1, 13, 110000): {'Scene': 'A corridor at a sperm bank.',\n  'Recipients': ['Sheldon', 'Leonard'],\n  'Speaker': 'Receptionist',\n  'Dialogue': 'Oh, wait.',\n  'Dialogue Start Time': datetime.datetime(1900, 1, 1, 0, 1, 13, 110000),\n  'Dialogue End Time': datetime.datetime(1900, 1, 1, 0, 1, 14, 180000),\n  'isHumor': True,\n  'humorDuration': datetime.timedelta(seconds=3)},\n datetime.datetime(1900, 1, 1, 0, 1, 25, 220000): {'Scene': 'A corridor at a sperm bank.',\n  'Recipients': ['Leonard', 'Receptionist'],\n  'Speaker': 'Sheldon',\n  'Dialogue': \"Leonard, I don't think I can do this.\",\n  'Dialogue Start Time': datetime.datetime(1900, 1, 1, 0, 1, 25, 220000),\n  'Dialogue End Time': datetime.datetime(1900, 1, 1, 0, 1, 27, 230000)},\n datetime.datetime(1900, 1, 1, 0, 1, 28, 40000): {'Scene': 'A corridor at a sperm bank.',\n  'Recipients': ['Sheldon', 'Receptionist'],\n  'Speaker': 'Leonard',\n  'Dialogue': \"What, are you kidding? You're a semi-pro.\",\n  'Dialogue Start Time': datetime.datetime(1900, 1, 1, 0, 1, 28, 40000),\n  'Dialogue End Time': datetime.datetime(1900, 1, 1, 0, 1, 30, 120000),\n  'isHumor': True,\n  'humorDuration': datetime.timedelta(seconds=1)},\n datetime.datetime(1900, 1, 1, 0, 1, 31, 160000): {'Scene': 'A corridor at a sperm bank.',\n  'Recipients': ['Leonard', 'Receptionist'],\n  'Speaker': 'Sheldon',\n  'Dialogue': \"No. We are committing genetic fraud. There's no guarantee that our sperm is going to generate high-IQ offspring. Think about that. I have a sister with the same basic DNA mix who hostesses at Fuddruckers.\",\n  'Dialogue Start Time': datetime.datetime(1900, 1, 1, 0, 1, 31, 160000),\n  'Dialogue End Time': datetime.datetime(1900, 1, 1, 0, 1, 41, 230000),\n  'isHumor': True,\n  'humorDuration': datetime.timedelta(seconds=2)},\n datetime.datetime(1900, 1, 1, 0, 1, 43, 90000): {'Scene': 'A corridor at a sperm bank.',\n  'Recipients': ['Sheldon', 'Receptionist'],\n  'Speaker': 'Leonard',\n  'Dialogue': 'Sheldon, this was your idea. A little extra money to get fractional T-1 bandwidth in the apartment.',\n  'Dialogue Start Time': datetime.datetime(1900, 1, 1, 0, 1, 43, 90000),\n  'Dialogue End Time': datetime.datetime(1900, 1, 1, 0, 1, 48, 140000)},\n datetime.datetime(1900, 1, 1, 0, 1, 48, 170000): {'Scene': 'A corridor at a sperm bank.',\n  'Recipients': ['Leonard', 'Receptionist'],\n  'Speaker': 'Sheldon',\n  'Dialogue': 'I know, and I do yearn for faster downloads.',\n  'Dialogue Start Time': datetime.datetime(1900, 1, 1, 0, 1, 48, 170000),\n  'Dialogue End Time': datetime.datetime(1900, 1, 1, 0, 1, 51, 130000),\n  'isHumor': True,\n  'humorDuration': datetime.timedelta(seconds=1)},\n datetime.datetime(1900, 1, 1, 0, 1, 52, 180000): {'Scene': 'A corridor at a sperm bank.',\n  'Recipients': ['Leonard', 'Receptionist'],\n  'Speaker': 'Sheldon',\n  'Dialogue': \"But there's some poor woman who's gonna pin her hopes on my sperm. What if she winds up with a toddler who doesn't know if he should use an integral or a differential to solve the area under a curve?\",\n  'Dialogue Start Time': datetime.datetime(1900, 1, 1, 0, 1, 52, 180000),\n  'Dialogue End Time': datetime.datetime(1900, 1, 1, 0, 2, 2, 70000)},\n datetime.datetime(1900, 1, 1, 0, 2, 2, 230000): {'Scene': 'A corridor at a sperm bank.',\n  'Recipients': ['Sheldon', 'Receptionist'],\n  'Speaker': 'Leonard',\n  'Dialogue': \"I'm sure she'll still love him.\",\n  'Dialogue Start Time': datetime.datetime(1900, 1, 1, 0, 2, 2, 230000),\n  'Dialogue End Time': datetime.datetime(1900, 1, 1, 0, 2, 5, 140000),\n  'isHumor': True,\n  'humorDuration': datetime.timedelta(seconds=2)},\n datetime.datetime(1900, 1, 1, 0, 2, 7, 180000): {'Scene': 'A corridor at a sperm bank.',\n  'Recipients': ['Sheldon', 'Receptionist'],\n  'Speaker': 'Leonard',\n  'Dialogue': 'Well, what do you want to do?',\n  'Dialogue Start Time': datetime.datetime(1900, 1, 1, 0, 2, 7, 180000),\n  'Dialogue End Time': datetime.datetime(1900, 1, 1, 0, 2, 9, 60000)},\n datetime.datetime(1900, 1, 1, 0, 2, 9, 90000): {'Scene': 'A corridor at a sperm bank.',\n  'Recipients': ['Leonard', 'Receptionist'],\n  'Speaker': 'Sheldon',\n  'Dialogue': \"I want to leave. What's the protocol for leaving?\",\n  'Dialogue Start Time': datetime.datetime(1900, 1, 1, 0, 2, 9, 90000),\n  'Dialogue End Time': datetime.datetime(1900, 1, 1, 0, 2, 13, 120000)},\n datetime.datetime(1900, 1, 1, 0, 2, 13, 200000): {'Scene': 'A corridor at a sperm bank.',\n  'Recipients': ['Sheldon', 'Receptionist'],\n  'Speaker': 'Leonard',\n  'Dialogue': \"I don't know... I've never reneged on a proffer of sperm before.\",\n  'Dialogue Start Time': datetime.datetime(1900, 1, 1, 0, 2, 13, 200000),\n  'Dialogue End Time': datetime.datetime(1900, 1, 1, 0, 2, 17, 20000),\n  'isHumor': True,\n  'humorDuration': datetime.timedelta(seconds=1)},\n datetime.datetime(1900, 1, 1, 0, 2, 18, 150000): {'Scene': 'A corridor at a sperm bank.',\n  'Recipients': ['Leonard', 'Receptionist'],\n  'Speaker': 'Sheldon',\n  'Dialogue': \"Let's try just walking out.\",\n  'Dialogue Start Time': datetime.datetime(1900, 1, 1, 0, 2, 18, 150000),\n  'Dialogue End Time': datetime.datetime(1900, 1, 1, 0, 2, 20, 20000)},\n datetime.datetime(1900, 1, 1, 0, 2, 32, 60000): {'Scene': 'A corridor at a sperm bank.',\n  'Recipients': ['Sheldon', 'Leonard'],\n  'Speaker': 'Receptionist',\n  'Dialogue': 'Bye. ',\n  'Dialogue Start Time': datetime.datetime(1900, 1, 1, 0, 2, 32, 60000),\n  'Dialogue End Time': datetime.datetime(1900, 1, 1, 0, 2, 34, 110000),\n  'isHumor': True,\n  'humorDuration': datetime.timedelta(seconds=1)},\n datetime.datetime(1900, 1, 1, 0, 2, 37, 100000): {'Scene': 'The stairs of the apartment building.',\n  'Recipients': ['Leonard'],\n  'Speaker': 'Sheldon',\n  'Dialogue': 'Are you still mad about the sperm bank? You want to hear an interesting thing about stairs?',\n  'Dialogue Start Time': datetime.datetime(1900, 1, 1, 0, 2, 37, 100000),\n  'Dialogue End Time': datetime.datetime(1900, 1, 1, 0, 2, 44, 110000)},\n datetime.datetime(1900, 1, 1, 0, 2, 44, 220000): {'Scene': 'The stairs of the apartment building.',\n  'Recipients': ['Sheldon'],\n  'Speaker': 'Leonard',\n  'Dialogue': 'Not really.',\n  'Dialogue Start Time': datetime.datetime(1900, 1, 1, 0, 2, 44, 220000),\n  'Dialogue End Time': datetime.datetime(1900, 1, 1, 0, 2, 45, 230000),\n  'isHumor': True,\n  'humorDuration': datetime.timedelta(seconds=1)},\n datetime.datetime(1900, 1, 1, 0, 2, 46, 170000): {'Scene': 'The stairs of the apartment building.',\n  'Recipients': ['Leonard'],\n  'Speaker': 'Sheldon',\n  'Dialogue': 'If the height of a single step is off by as little as two millimeters, most people will trip. ',\n  'Dialogue Start Time': datetime.datetime(1900, 1, 1, 0, 2, 46, 170000),\n  'Dialogue End Time': datetime.datetime(1900, 1, 1, 0, 2, 52)},\n datetime.datetime(1900, 1, 1, 0, 2, 49, 170000): {'Scene': 'The stairs of the apartment building.',\n  'Recipients': ['Sheldon'],\n  'Speaker': 'Leonard',\n  'Dialogue': \"I don't care.\",\n  'Dialogue Start Time': datetime.datetime(1900, 1, 1, 0, 2, 49, 170000),\n  'Dialogue End Time': datetime.datetime(1900, 1, 1, 0, 2, 52),\n  'isHumor': True,\n  'humorDuration': datetime.timedelta(seconds=1)},\n datetime.datetime(1900, 1, 1, 0, 2, 53, 220000): {'Scene': 'The stairs of the apartment building.',\n  'Recipients': ['Sheldon'],\n  'Speaker': 'Leonard',\n  'Dialogue': \"Two milli... That doesn't seem right.\",\n  'Dialogue Start Time': datetime.datetime(1900, 1, 1, 0, 2, 53, 220000),\n  'Dialogue End Time': datetime.datetime(1900, 1, 1, 0, 2, 55, 170000)},\n datetime.datetime(1900, 1, 1, 0, 2, 55, 200000): {'Scene': 'The stairs of the apartment building.',\n  'Recipients': ['Leonard'],\n  'Speaker': 'Sheldon',\n  'Dialogue': \"No, it's true, I did a series of experiments when I was 12. My father broke his clavicle.\",\n  'Dialogue Start Time': datetime.datetime(1900, 1, 1, 0, 2, 55, 200000),\n  'Dialogue End Time': datetime.datetime(1900, 1, 1, 0, 2, 59, 210000)},\n datetime.datetime(1900, 1, 1, 0, 3, 1, 70000): {'Scene': 'The stairs of the apartment building.',\n  'Recipients': ['Sheldon'],\n  'Speaker': 'Leonard',\n  'Dialogue': 'Is that why they sent you to boarding school?',\n  'Dialogue Start Time': datetime.datetime(1900, 1, 1, 0, 3, 1, 70000),\n  'Dialogue End Time': datetime.datetime(1900, 1, 1, 0, 3, 3, 40000)},\n datetime.datetime(1900, 1, 1, 0, 3, 3, 70000): {'Scene': 'The stairs of the apartment building.',\n  'Recipients': ['Leonard'],\n  'Speaker': 'Sheldon',\n  'Dialogue': 'No. That was a result of my work with lasers.',\n  'Dialogue Start Time': datetime.datetime(1900, 1, 1, 0, 3, 3, 70000),\n  'Dialogue End Time': datetime.datetime(1900, 1, 1, 0, 3, 5, 230000),\n  'isHumor': True,\n  'humorDuration': datetime.timedelta(seconds=4)},\n datetime.datetime(1900, 1, 1, 0, 3, 11, 230000): {'Scene': 'The stairs of the apartment building.',\n  'Recipients': ['Sheldon', 'Penny'],\n  'Speaker': 'Leonard',\n  'Dialogue': 'New neighbor?',\n  'Dialogue Start Time': datetime.datetime(1900, 1, 1, 0, 3, 11, 230000),\n  'Dialogue End Time': datetime.datetime(1900, 1, 1, 0, 3, 12, 230000)},\n datetime.datetime(1900, 1, 1, 0, 3, 13, 50000): {'Scene': 'The stairs of the apartment building.',\n  'Recipients': ['Leonard', 'Penny'],\n  'Speaker': 'Sheldon',\n  'Dialogue': 'Evidently.',\n  'Dialogue Start Time': datetime.datetime(1900, 1, 1, 0, 3, 13, 50000),\n  'Dialogue End Time': datetime.datetime(1900, 1, 1, 0, 3, 14, 50000)},\n datetime.datetime(1900, 1, 1, 0, 3, 14, 160000): {'Scene': 'The stairs of the apartment building.',\n  'Recipients': ['Sheldon', 'Penny'],\n  'Speaker': 'Leonard',\n  'Dialogue': 'Significant improvement over the old neighbor.',\n  'Dialogue Start Time': datetime.datetime(1900, 1, 1, 0, 3, 14, 160000),\n  'Dialogue End Time': datetime.datetime(1900, 1, 1, 0, 3, 17, 70000),\n  'isHumor': True,\n  'humorDuration': datetime.timedelta(seconds=1)},\n datetime.datetime(1900, 1, 1, 0, 3, 18, 90000): {'Scene': 'The stairs of the apartment building.',\n  'Recipients': ['Leonard', 'Penny'],\n  'Speaker': 'Sheldon',\n  'Dialogue': '200-pound transvestite with a skin condition? Yes, she is.',\n  'Dialogue Start Time': datetime.datetime(1900, 1, 1, 0, 3, 18, 90000),\n  'Dialogue End Time': datetime.datetime(1900, 1, 1, 0, 3, 21, 140000),\n  'isHumor': True,\n  'humorDuration': datetime.timedelta(seconds=3)},\n datetime.datetime(1900, 1, 1, 0, 3, 24, 20000): {'Scene': 'The stairs of the apartment building.',\n  'Recipients': ['Sheldon', 'Leonard'],\n  'Speaker': 'Penny',\n  'Dialogue': 'Oh, hi.',\n  'Dialogue Start Time': datetime.datetime(1900, 1, 1, 0, 3, 24, 20000),\n  'Dialogue End Time': datetime.datetime(1900, 1, 1, 0, 3, 25, 230000)},\n datetime.datetime(1900, 1, 1, 0, 3, 30, 210000): {'Scene': 'The stairs of the apartment building.',\n  'Recipients': ['Sheldon', 'Penny'],\n  'Speaker': 'Leonard',\n  'Dialogue': \"We don't mean to interrupt. We live across the hall.\",\n  'Dialogue Start Time': datetime.datetime(1900, 1, 1, 0, 3, 30, 210000),\n  'Dialogue End Time': datetime.datetime(1900, 1, 1, 0, 3, 33, 20000)},\n datetime.datetime(1900, 1, 1, 0, 3, 33, 80000): {'Scene': 'The stairs of the apartment building.',\n  'Recipients': ['Sheldon', 'Leonard'],\n  'Speaker': 'Penny',\n  'Dialogue': \"Oh, that's nice.\",\n  'Dialogue Start Time': datetime.datetime(1900, 1, 1, 0, 3, 33, 80000),\n  'Dialogue End Time': datetime.datetime(1900, 1, 1, 0, 3, 34, 230000)},\n datetime.datetime(1900, 1, 1, 0, 3, 36, 10000): {'Scene': 'The stairs of the apartment building.',\n  'Recipients': ['Sheldon', 'Penny'],\n  'Speaker': 'Leonard',\n  'Dialogue': \"We don't live together. I mean...\",\n  'Dialogue Start Time': datetime.datetime(1900, 1, 1, 0, 3, 36, 10000),\n  'Dialogue End Time': datetime.datetime(1900, 1, 1, 0, 3, 37, 230000),\n  'isHumor': True,\n  'humorDuration': datetime.timedelta(seconds=1)},\n datetime.datetime(1900, 1, 1, 0, 3, 38, 170000): {'Scene': 'The stairs of the apartment building.',\n  'Recipients': ['Sheldon', 'Penny'],\n  'Speaker': 'Leonard',\n  'Dialogue': 'We live together, but in separate, heterosexual bedrooms.',\n  'Dialogue Start Time': datetime.datetime(1900, 1, 1, 0, 3, 38, 170000),\n  'Dialogue End Time': datetime.datetime(1900, 1, 1, 0, 3, 42, 210000),\n  'isHumor': True,\n  'humorDuration': datetime.timedelta(seconds=2)},\n datetime.datetime(1900, 1, 1, 0, 3, 44, 80000): {'Scene': 'The stairs of the apartment building.',\n  'Recipients': ['Sheldon', 'Leonard'],\n  'Speaker': 'Penny',\n  'Dialogue': \"Okay, well... Guess I'm your new neighbor. Penny.\",\n  'Dialogue Start Time': datetime.datetime(1900, 1, 1, 0, 3, 44, 80000),\n  'Dialogue End Time': datetime.datetime(1900, 1, 1, 0, 3, 47, 90000)},\n datetime.datetime(1900, 1, 1, 0, 3, 47, 190000): {'Scene': 'The stairs of the apartment building.',\n  'Recipients': ['Sheldon', 'Penny'],\n  'Speaker': 'Leonard',\n  'Dialogue': 'Leonard. Sheldon. ',\n  'Dialogue Start Time': datetime.datetime(1900, 1, 1, 0, 3, 47, 190000),\n  'Dialogue End Time': datetime.datetime(1900, 1, 1, 0, 3, 49, 100000),\n  'isHumor': True,\n  'humorDuration': datetime.timedelta(seconds=4)},\n datetime.datetime(1900, 1, 1, 0, 3, 53, 230000): {'Scene': 'The stairs of the apartment building.',\n  'Recipients': ['Sheldon', 'Penny'],\n  'Speaker': 'Leonard',\n  'Dialogue': 'Well... Welcome to the building.',\n  'Dialogue Start Time': datetime.datetime(1900, 1, 1, 0, 3, 53, 230000),\n  'Dialogue End Time': datetime.datetime(1900, 1, 1, 0, 3, 57, 50000)},\n datetime.datetime(1900, 1, 1, 0, 3, 57, 160000): {'Scene': 'The stairs of the apartment building.',\n  'Recipients': ['Sheldon', 'Leonard'],\n  'Speaker': 'Penny',\n  'Dialogue': 'Thank you. Maybe we can have coffee sometime.',\n  'Dialogue Start Time': datetime.datetime(1900, 1, 1, 0, 3, 57, 160000),\n  'Dialogue End Time': datetime.datetime(1900, 1, 1, 0, 3, 59, 200000)},\n datetime.datetime(1900, 1, 1, 0, 3, 59, 230000): {'Scene': 'The stairs of the apartment building.',\n  'Recipients': ['Sheldon', 'Penny'],\n  'Speaker': 'Leonard',\n  'Dialogue': 'Great.',\n  'Dialogue Start Time': datetime.datetime(1900, 1, 1, 0, 3, 59, 230000),\n  'Dialogue End Time': datetime.datetime(1900, 1, 1, 0, 4, 1, 180000),\n  'isHumor': True,\n  'humorDuration': datetime.timedelta(seconds=2)},\n datetime.datetime(1900, 1, 1, 0, 4, 4, 190000): {'Scene': 'The stairs of the apartment building.',\n  'Recipients': ['Sheldon', 'Penny'],\n  'Speaker': 'Leonard',\n  'Dialogue': 'Well... bye.',\n  'Dialogue Start Time': datetime.datetime(1900, 1, 1, 0, 4, 4, 190000),\n  'Dialogue End Time': datetime.datetime(1900, 1, 1, 0, 4, 7, 10000),\n  'isHumor': True,\n  'humorDuration': datetime.timedelta(seconds=3)},\n datetime.datetime(1900, 1, 1, 0, 4, 11): {'Scene': 'The stairs of the apartment building.',\n  'Recipients': ['Sheldon'],\n  'Speaker': 'Leonard',\n  'Dialogue': 'Should we have invited her for lunch?',\n  'Dialogue Start Time': datetime.datetime(1900, 1, 1, 0, 4, 11),\n  'Dialogue End Time': datetime.datetime(1900, 1, 1, 0, 4, 12, 180000)},\n datetime.datetime(1900, 1, 1, 0, 4, 13, 50000): {'Scene': 'The stairs of the apartment building.',\n  'Recipients': ['Leonard'],\n  'Speaker': 'Sheldon',\n  'Dialogue': \"We're gonna start season two of Battlestar Galactica.\",\n  'Dialogue Start Time': datetime.datetime(1900, 1, 1, 0, 4, 13, 50000),\n  'Dialogue End Time': datetime.datetime(1900, 1, 1, 0, 4, 15, 200000),\n  'isHumor': True,\n  'humorDuration': datetime.timedelta(seconds=1)},\n datetime.datetime(1900, 1, 1, 0, 4, 16, 110000): {'Scene': 'The stairs of the apartment building.',\n  'Recipients': ['Sheldon'],\n  'Speaker': 'Leonard',\n  'Dialogue': 'We already watched the season two DVDs.',\n  'Dialogue Start Time': datetime.datetime(1900, 1, 1, 0, 4, 16, 110000),\n  'Dialogue End Time': datetime.datetime(1900, 1, 1, 0, 4, 18, 100000)},\n datetime.datetime(1900, 1, 1, 0, 4, 18, 130000): {'Scene': 'The stairs of the apartment building.',\n  'Recipients': ['Leonard'],\n  'Speaker': 'Sheldon',\n  'Dialogue': 'Not with commentary.',\n  'Dialogue Start Time': datetime.datetime(1900, 1, 1, 0, 4, 18, 130000),\n  'Dialogue End Time': datetime.datetime(1900, 1, 1, 0, 4, 19, 170000),\n  'isHumor': True,\n  'humorDuration': datetime.timedelta(seconds=3)},\n datetime.datetime(1900, 1, 1, 0, 4, 22, 100000): {'Scene': 'The stairs of the apartment building.',\n  'Recipients': ['Sheldon'],\n  'Speaker': 'Leonard',\n  'Dialogue': 'I think we should be good neighbors and invite her over, make her feel welcome.',\n  'Dialogue Start Time': datetime.datetime(1900, 1, 1, 0, 4, 22, 100000),\n  'Dialogue End Time': datetime.datetime(1900, 1, 1, 0, 4, 26, 90000)},\n datetime.datetime(1900, 1, 1, 0, 4, 26, 210000): {'Scene': 'The stairs of the apartment building.',\n  'Recipients': ['Leonard'],\n  'Speaker': 'Sheldon',\n  'Dialogue': 'We never invited Louie-slash-Louise over.',\n  'Dialogue Start Time': datetime.datetime(1900, 1, 1, 0, 4, 26, 210000),\n  'Dialogue End Time': datetime.datetime(1900, 1, 1, 0, 4, 29, 130000),\n  'isHumor': True,\n  'humorDuration': datetime.timedelta(seconds=1)},\n datetime.datetime(1900, 1, 1, 0, 4, 30, 180000): {'Scene': 'The stairs of the apartment building.',\n  'Recipients': ['Sheldon'],\n  'Speaker': 'Leonard',\n  'Dialogue': 'And that was wrong of us. We need to widen our circle.',\n  'Dialogue Start Time': datetime.datetime(1900, 1, 1, 0, 4, 30, 180000),\n  'Dialogue End Time': datetime.datetime(1900, 1, 1, 0, 4, 33, 230000)},\n datetime.datetime(1900, 1, 1, 0, 4, 34, 90000): {'Scene': 'The stairs of the apartment building.',\n  'Recipients': ['Leonard'],\n  'Speaker': 'Sheldon',\n  'Dialogue': 'I have a very wide circle.',\n  'Dialogue Start Time': datetime.datetime(1900, 1, 1, 0, 4, 34, 90000),\n  'Dialogue End Time': datetime.datetime(1900, 1, 1, 0, 4, 36, 120000),\n  'isHumor': True,\n  'humorDuration': datetime.timedelta(seconds=1)},\n datetime.datetime(1900, 1, 1, 0, 4, 37, 100000): {'Scene': 'The stairs of the apartment building.',\n  'Recipients': ['Leonard'],\n  'Speaker': 'Sheldon',\n  'Dialogue': 'I have 212 friends on MySpace.',\n  'Dialogue Start Time': datetime.datetime(1900, 1, 1, 0, 4, 37, 100000),\n  'Dialogue End Time': datetime.datetime(1900, 1, 1, 0, 4, 39, 100000),\n  'isHumor': True,\n  'humorDuration': datetime.timedelta(seconds=2)},\n datetime.datetime(1900, 1, 1, 0, 4, 41, 100000): {'Scene': 'The stairs of the apartment building.',\n  'Recipients': ['Sheldon'],\n  'Speaker': 'Leonard',\n  'Dialogue': \"Yes, and you've never met one of them.\",\n  'Dialogue Start Time': datetime.datetime(1900, 1, 1, 0, 4, 41, 100000),\n  'Dialogue End Time': datetime.datetime(1900, 1, 1, 0, 4, 43, 140000),\n  'isHumor': True,\n  'humorDuration': datetime.timedelta(seconds=1)},\n datetime.datetime(1900, 1, 1, 0, 4, 44, 70000): {'Scene': 'The stairs of the apartment building.',\n  'Recipients': ['Leonard'],\n  'Speaker': 'Sheldon',\n  'Dialogue': \"That's the beauty of it.\",\n  'Dialogue Start Time': datetime.datetime(1900, 1, 1, 0, 4, 44, 70000),\n  'Dialogue End Time': datetime.datetime(1900, 1, 1, 0, 4, 45, 160000),\n  'isHumor': True,\n  'humorDuration': datetime.timedelta(seconds=3)},\n datetime.datetime(1900, 1, 1, 0, 4, 48, 20000): {'Scene': 'The stairs of the apartment building.',\n  'Recipients': ['Sheldon'],\n  'Speaker': 'Leonard',\n  'Dialogue': \"I'm gonna invite her over. We'll have a nice meal and... chat.\",\n  'Dialogue Start Time': datetime.datetime(1900, 1, 1, 0, 4, 48, 20000),\n  'Dialogue End Time': datetime.datetime(1900, 1, 1, 0, 4, 52, 180000)},\n datetime.datetime(1900, 1, 1, 0, 4, 52, 230000): {'Scene': 'The stairs of the apartment building.',\n  'Recipients': ['Leonard'],\n  'Speaker': 'Sheldon',\n  'Dialogue': \"Chat? We don't chat. At least not offline.\",\n  'Dialogue Start Time': datetime.datetime(1900, 1, 1, 0, 4, 52, 230000),\n  'Dialogue End Time': datetime.datetime(1900, 1, 1, 0, 4, 55, 170000),\n  'isHumor': True,\n  'humorDuration': datetime.timedelta(seconds=3)},\n datetime.datetime(1900, 1, 1, 0, 4, 58, 20000): {'Scene': 'The stairs of the apartment building.',\n  'Recipients': ['Sheldon'],\n  'Speaker': 'Leonard',\n  'Dialogue': \"It's not difficult. You just listen to what she says and then you say something appropriate in response.\",\n  'Dialogue Start Time': datetime.datetime(1900, 1, 1, 0, 4, 58, 20000),\n  'Dialogue End Time': datetime.datetime(1900, 1, 1, 0, 5, 3, 230000)},\n datetime.datetime(1900, 1, 1, 0, 5, 5, 90000): {'Scene': 'The stairs of the apartment building.',\n  'Recipients': ['Leonard'],\n  'Speaker': 'Sheldon',\n  'Dialogue': 'To what end?',\n  'Dialogue Start Time': datetime.datetime(1900, 1, 1, 0, 5, 5, 90000),\n  'Dialogue End Time': datetime.datetime(1900, 1, 1, 0, 5, 6, 90000),\n  'isHumor': True,\n  'humorDuration': datetime.timedelta(seconds=2)},\n datetime.datetime(1900, 1, 1, 0, 5, 8, 90000): {'Scene': 'The stairs of the apartment building.',\n  'Recipients': ['Sheldon', 'Penny'],\n  'Speaker': 'Leonard',\n  'Dialogue': 'Hi... again.',\n  'Dialogue Start Time': datetime.datetime(1900, 1, 1, 0, 5, 8, 90000),\n  'Dialogue End Time': datetime.datetime(1900, 1, 1, 0, 5, 9, 230000)},\n datetime.datetime(1900, 1, 1, 0, 5, 10, 20000): {'Scene': 'The stairs of the apartment building.',\n  'Recipients': ['Sheldon', 'Leonard'],\n  'Speaker': 'Penny',\n  'Dialogue': 'Hi.',\n  'Dialogue Start Time': datetime.datetime(1900, 1, 1, 0, 5, 10, 20000),\n  'Dialogue End Time': datetime.datetime(1900, 1, 1, 0, 5, 11, 230000),\n  'isHumor': True,\n  'humorDuration': datetime.timedelta(seconds=1)},\n datetime.datetime(1900, 1, 1, 0, 5, 13, 60000): {'Scene': 'The stairs of the apartment building.',\n  'Recipients': ['Sheldon', 'Penny'],\n  'Speaker': 'Leonard',\n  'Dialogue': 'Anyway... We brought home Indian food.',\n  'Dialogue Start Time': datetime.datetime(1900, 1, 1, 0, 5, 13, 60000),\n  'Dialogue End Time': datetime.datetime(1900, 1, 1, 0, 5, 16, 90000),\n  'isHumor': True,\n  'humorDuration': datetime.timedelta(seconds=1)},\n datetime.datetime(1900, 1, 1, 0, 5, 17, 90000): {'Scene': 'The stairs of the apartment building.',\n  'Recipients': ['Sheldon', 'Penny'],\n  'Speaker': 'Leonard',\n  'Dialogue': \"And... I know that moving can be stressful, and I find that when I'm undergoing stress, that good food and company can have a comforting effect.\",\n  'Dialogue Start Time': datetime.datetime(1900, 1, 1, 0, 5, 17, 90000),\n  'Dialogue End Time': datetime.datetime(1900, 1, 1, 0, 5, 26, 160000),\n  'isHumor': True,\n  'humorDuration': datetime.timedelta(seconds=1)},\n datetime.datetime(1900, 1, 1, 0, 5, 27, 210000): {'Scene': 'The stairs of the apartment building.',\n  'Recipients': ['Sheldon', 'Penny'],\n  'Speaker': 'Leonard',\n  'Dialogue': \"Also, curry is a natural laxative, and I don't have to tell you\",\n  'Dialogue Start Time': datetime.datetime(1900, 1, 1, 0, 5, 27, 210000),\n  'Dialogue End Time': datetime.datetime(1900, 1, 1, 0, 5, 31, 10000),\n  'isHumor': True,\n  'humorDuration': datetime.timedelta(seconds=1)},\n datetime.datetime(1900, 1, 1, 0, 5, 31, 40000): {'Scene': 'The stairs of the apartment building.',\n  'Recipients': ['Sheldon', 'Penny'],\n  'Speaker': 'Leonard',\n  'Dialogue': 'that, you know, a clean colon is just... one less thing to worry about.',\n  'Dialogue Start Time': datetime.datetime(1900, 1, 1, 0, 5, 31, 40000),\n  'Dialogue End Time': datetime.datetime(1900, 1, 1, 0, 5, 35, 220000),\n  'isHumor': True,\n  'humorDuration': datetime.timedelta(seconds=2)},\n datetime.datetime(1900, 1, 1, 0, 5, 37, 160000): {'Scene': 'The stairs of the apartment building.',\n  'Recipients': ['Leonard', 'Penny'],\n  'Speaker': 'Sheldon',\n  'Dialogue': \"I'm no expert, but I believe in the context of a luncheon invitation, you might want to skip the reference to bowel movements.\",\n  'Dialogue Start Time': datetime.datetime(1900, 1, 1, 0, 5, 37, 160000),\n  'Dialogue End Time': datetime.datetime(1900, 1, 1, 0, 5, 43, 20000),\n  'isHumor': True,\n  'humorDuration': datetime.timedelta(seconds=1)},\n datetime.datetime(1900, 1, 1, 0, 5, 43, 170000): {'Scene': 'The stairs of the apartment building.',\n  'Recipients': ['Sheldon', 'Leonard'],\n  'Speaker': 'Penny',\n  'Dialogue': \"You're inviting me over to eat? Oh, that's so nice. I'd love to.\",\n  'Dialogue Start Time': datetime.datetime(1900, 1, 1, 0, 5, 43, 170000),\n  'Dialogue End Time': datetime.datetime(1900, 1, 1, 0, 5, 49, 200000)},\n datetime.datetime(1900, 1, 1, 0, 5, 50): {'Scene': 'The stairs of the apartment building.',\n  'Recipients': ['Sheldon', 'Penny'],\n  'Speaker': 'Leonard',\n  'Dialogue': 'Great.',\n  'Dialogue Start Time': datetime.datetime(1900, 1, 1, 0, 5, 50),\n  'Dialogue End Time': datetime.datetime(1900, 1, 1, 0, 5, 51)},\n datetime.datetime(1900, 1, 1, 0, 5, 51, 40000): {'Scene': 'The stairs of the apartment building.',\n  'Recipients': ['Sheldon', 'Leonard'],\n  'Speaker': 'Penny',\n  'Dialogue': 'So, what do you guys do for fun around here?',\n  'Dialogue Start Time': datetime.datetime(1900, 1, 1, 0, 5, 51, 40000),\n  'Dialogue End Time': datetime.datetime(1900, 1, 1, 0, 5, 53, 120000)},\n datetime.datetime(1900, 1, 1, 0, 5, 54, 70000): {'Scene': 'The stairs of the apartment building.',\n  'Recipients': ['Leonard', 'Penny'],\n  'Speaker': 'Sheldon',\n  'Dialogue': 'Today we tried masturbating for money.',\n  'Dialogue Start Time': datetime.datetime(1900, 1, 1, 0, 5, 54, 70000),\n  'Dialogue End Time': datetime.datetime(1900, 1, 1, 0, 5, 56, 30000),\n  'isHumor': True,\n  'humorDuration': datetime.timedelta(seconds=4)},\n datetime.datetime(1900, 1, 1, 0, 6, 23, 230000): {'Scene': 'Sheldon and Leonard’s apartment.',\n  'Recipients': ['Sheldon', 'Penny'],\n  'Speaker': 'Leonard',\n  'Dialogue': 'Okay, make yourself at home.',\n  'Dialogue Start Time': datetime.datetime(1900, 1, 1, 0, 6, 23, 230000),\n  'Dialogue End Time': datetime.datetime(1900, 1, 1, 0, 6, 25, 190000)},\n datetime.datetime(1900, 1, 1, 0, 6, 26, 20000): {'Scene': 'Sheldon and Leonard’s apartment.',\n  'Recipients': ['Sheldon', 'Leonard'],\n  'Speaker': 'Penny',\n  'Dialogue': 'Thank you.',\n  'Dialogue Start Time': datetime.datetime(1900, 1, 1, 0, 6, 26, 20000),\n  'Dialogue End Time': datetime.datetime(1900, 1, 1, 0, 6, 27, 20000)},\n datetime.datetime(1900, 1, 1, 0, 6, 27, 100000): {'Scene': 'Sheldon and Leonard’s apartment.',\n  'Recipients': ['Sheldon', 'Penny'],\n  'Speaker': 'Leonard',\n  'Dialogue': \"You're very welcome.\",\n  'Dialogue Start Time': datetime.datetime(1900, 1, 1, 0, 6, 27, 100000),\n  'Dialogue End Time': datetime.datetime(1900, 1, 1, 0, 6, 28, 130000),\n  'isHumor': True,\n  'humorDuration': datetime.timedelta(seconds=4)},\n datetime.datetime(1900, 1, 1, 0, 6, 32, 210000): {'Scene': 'Sheldon and Leonard’s apartment.',\n  'Recipients': ['Sheldon', 'Leonard'],\n  'Speaker': 'Penny',\n  'Dialogue': 'This looks like some serious stuff. Leonard, did you do this? ',\n  'Dialogue Start Time': datetime.datetime(1900, 1, 1, 0, 6, 32, 210000),\n  'Dialogue End Time': datetime.datetime(1900, 1, 1, 0, 6, 37, 190000)},\n datetime.datetime(1900, 1, 1, 0, 6, 34, 180000): {'Scene': 'Sheldon and Leonard’s apartment.',\n  'Recipients': ['Leonard', 'Penny'],\n  'Speaker': 'Sheldon',\n  'Dialogue': \"Actually, that's my work.\",\n  'Dialogue Start Time': datetime.datetime(1900, 1, 1, 0, 6, 34, 180000),\n  'Dialogue End Time': datetime.datetime(1900, 1, 1, 0, 6, 37, 190000),\n  'isHumor': True,\n  'humorDuration': datetime.timedelta(seconds=2)},\n datetime.datetime(1900, 1, 1, 0, 6, 39, 180000): {'Scene': 'Sheldon and Leonard’s apartment.',\n  'Recipients': ['Leonard', 'Penny'],\n  'Speaker': 'Sheldon',\n  'Dialogue': \"Yeah. Well, it's just some quantum mechanics with a little string theory doodling around the edges. That part there, that's just a joke. It's a spoof of the Born-Oppenheimer approximation.\",\n  'Dialogue Start Time': datetime.datetime(1900, 1, 1, 0, 6, 39, 180000),\n  'Dialogue End Time': datetime.datetime(1900, 1, 1, 0, 6, 49, 50000),\n  'isHumor': True,\n  'humorDuration': datetime.timedelta(seconds=1)},\n datetime.datetime(1900, 1, 1, 0, 6, 50, 150000): {'Scene': 'Sheldon and Leonard’s apartment.',\n  'Recipients': ['Sheldon', 'Leonard'],\n  'Speaker': 'Penny',\n  'Dialogue': \"So you're like one of those Beautiful Mind genius guys.\",\n  'Dialogue Start Time': datetime.datetime(1900, 1, 1, 0, 6, 50, 150000),\n  'Dialogue End Time': datetime.datetime(1900, 1, 1, 0, 6, 53, 230000),\n  'isHumor': True,\n  'humorDuration': datetime.timedelta(seconds=4)},\n datetime.datetime(1900, 1, 1, 0, 6, 57, 170000): {'Scene': 'Sheldon and Leonard’s apartment.',\n  'Recipients': ['Sheldon', 'Leonard'],\n  'Speaker': 'Penny',\n  'Dialogue': 'This is really impressive. ',\n  'Dialogue Start Time': datetime.datetime(1900, 1, 1, 0, 6, 57, 170000),\n  'Dialogue End Time': datetime.datetime(1900, 1, 1, 0, 6, 59, 230000)},\n datetime.datetime(1900, 1, 1, 0, 7, 3, 60000): {'Scene': 'Sheldon and Leonard’s apartment.',\n  'Recipients': ['Sheldon', 'Leonard'],\n  'Speaker': 'Penny',\n  'Dialogue': 'Holy smokes.',\n  'Dialogue Start Time': datetime.datetime(1900, 1, 1, 0, 7, 3, 60000),\n  'Dialogue End Time': datetime.datetime(1900, 1, 1, 0, 7, 4, 120000)},\n datetime.datetime(1900, 1, 1, 0, 7, 4, 150000): {'Scene': 'Sheldon and Leonard’s apartment.',\n  'Recipients': ['Leonard', 'Penny'],\n  'Speaker': 'Sheldon',\n  'Dialogue': \"If by holy smokes, you mean a derivative restatement of the kind of stuff you can find scribbled on the wall of any men's room at MIT, sure.\",\n  'Dialogue Start Time': datetime.datetime(1900, 1, 1, 0, 7, 4, 150000),\n  'Dialogue End Time': datetime.datetime(1900, 1, 1, 0, 7, 11, 60000),\n  'isHumor': True,\n  'humorDuration': datetime.timedelta(seconds=1)},\n datetime.datetime(1900, 1, 1, 0, 7, 12, 40000): {'Scene': 'Sheldon and Leonard’s apartment.',\n  'Recipients': ['Sheldon', 'Penny'],\n  'Speaker': 'Leonard',\n  'Dialogue': 'What?',\n  'Dialogue Start Time': datetime.datetime(1900, 1, 1, 0, 7, 12, 40000),\n  'Dialogue End Time': datetime.datetime(1900, 1, 1, 0, 7, 13, 120000)},\n datetime.datetime(1900, 1, 1, 0, 7, 17, 150000): {'Scene': 'Sheldon and Leonard’s apartment.',\n  'Recipients': ['Sheldon', 'Penny'],\n  'Speaker': 'Leonard',\n  'Dialogue': \"At least I didn't have to invent 26 dimensions just to make the math come out.\",\n  'Dialogue Start Time': datetime.datetime(1900, 1, 1, 0, 7, 17, 150000),\n  'Dialogue End Time': datetime.datetime(1900, 1, 1, 0, 7, 21, 130000)},\n datetime.datetime(1900, 1, 1, 0, 7, 21, 160000): {'Scene': 'Sheldon and Leonard’s apartment.',\n  'Recipients': ['Leonard', 'Penny'],\n  'Speaker': 'Sheldon',\n  'Dialogue': \"I didn't invent them. They're there.\",\n  'Dialogue Start Time': datetime.datetime(1900, 1, 1, 0, 7, 21, 160000),\n  'Dialogue End Time': datetime.datetime(1900, 1, 1, 0, 7, 23, 20000)},\n datetime.datetime(1900, 1, 1, 0, 7, 23, 50000): {'Scene': 'Sheldon and Leonard’s apartment.',\n  'Recipients': ['Sheldon', 'Penny'],\n  'Speaker': 'Leonard',\n  'Dialogue': 'In what universe? ',\n  'Dialogue Start Time': datetime.datetime(1900, 1, 1, 0, 7, 23, 50000),\n  'Dialogue End Time': datetime.datetime(1900, 1, 1, 0, 7, 26, 80000),\n  'isHumor': True,\n  'humorDuration': datetime.timedelta(seconds=1)},\n datetime.datetime(1900, 1, 1, 0, 7, 27, 90000): {'Scene': 'Sheldon and Leonard’s apartment.',\n  'Recipients': ['Sheldon', 'Leonard'],\n  'Speaker': 'Penny',\n  'Dialogue': 'Do you guys mind if I start?',\n  'Dialogue Start Time': datetime.datetime(1900, 1, 1, 0, 7, 27, 90000),\n  'Dialogue End Time': datetime.datetime(1900, 1, 1, 0, 7, 28, 190000)},\n datetime.datetime(1900, 1, 1, 0, 7, 29, 90000): {'Scene': 'Sheldon and Leonard’s apartment.',\n  'Recipients': ['Leonard', 'Penny'],\n  'Speaker': 'Sheldon',\n  'Dialogue': \"Penny... that's where l sit.\",\n  'Dialogue Start Time': datetime.datetime(1900, 1, 1, 0, 7, 29, 90000),\n  'Dialogue End Time': datetime.datetime(1900, 1, 1, 0, 7, 32, 120000),\n  'isHumor': True,\n  'humorDuration': datetime.timedelta(seconds=2)},\n datetime.datetime(1900, 1, 1, 0, 7, 34, 120000): {'Scene': 'Sheldon and Leonard’s apartment.',\n  'Recipients': ['Sheldon', 'Leonard'],\n  'Speaker': 'Penny',\n  'Dialogue': 'So, sit next to me.',\n  'Dialogue Start Time': datetime.datetime(1900, 1, 1, 0, 7, 34, 120000),\n  'Dialogue End Time': datetime.datetime(1900, 1, 1, 0, 7, 35, 160000)},\n datetime.datetime(1900, 1, 1, 0, 7, 37, 120000): {'Scene': 'Sheldon and Leonard’s apartment.',\n  'Recipients': ['Leonard', 'Penny'],\n  'Speaker': 'Sheldon',\n  'Dialogue': 'No... I sit there.',\n  'Dialogue Start Time': datetime.datetime(1900, 1, 1, 0, 7, 37, 120000),\n  'Dialogue End Time': datetime.datetime(1900, 1, 1, 0, 7, 38, 220000),\n  'isHumor': True,\n  'humorDuration': datetime.timedelta(seconds=2)},\n datetime.datetime(1900, 1, 1, 0, 7, 40, 140000): {'Scene': 'Sheldon and Leonard’s apartment.',\n  'Recipients': ['Sheldon', 'Leonard'],\n  'Speaker': 'Penny',\n  'Dialogue': \"What's the difference?\",\n  'Dialogue Start Time': datetime.datetime(1900, 1, 1, 0, 7, 40, 140000),\n  'Dialogue End Time': datetime.datetime(1900, 1, 1, 0, 7, 41, 140000)},\n datetime.datetime(1900, 1, 1, 0, 7, 41, 170000): {'Scene': 'Sheldon and Leonard’s apartment.',\n  'Recipients': ['Leonard', 'Penny'],\n  'Speaker': 'Sheldon',\n  'Dialogue': \"What's the difference? \",\n  'Dialogue Start Time': datetime.datetime(1900, 1, 1, 0, 7, 41, 170000),\n  'Dialogue End Time': datetime.datetime(1900, 1, 1, 0, 7, 43, 190000),\n  'isHumor': True,\n  'humorDuration': datetime.timedelta(seconds=1)},\n datetime.datetime(1900, 1, 1, 0, 7, 44, 140000): {'Scene': 'Sheldon and Leonard’s apartment.',\n  'Recipients': ['Leonard', 'Penny'],\n  'Speaker': 'Sheldon',\n  'Dialogue': \"In the winter, that seat is close enough to the radiator to remain warm, and yet not so close as to cause perspiration In the summer, it's directly in the path of a cross-breeze created by opening windows there and there. It faces the television at an angle that is neither direct, thus discouraging conversation, nor so far wide as to create a parallax distortion.\",\n  'Dialogue Start Time': datetime.datetime(1900, 1, 1, 0, 7, 44, 140000),\n  'Dialogue End Time': datetime.datetime(1900, 1, 1, 0, 8, 1, 80000),\n  'isHumor': True,\n  'humorDuration': datetime.timedelta(seconds=1)},\n datetime.datetime(1900, 1, 1, 0, 8, 1, 100000): {'Scene': 'Sheldon and Leonard’s apartment.',\n  'Recipients': ['Leonard', 'Penny'],\n  'Speaker': 'Sheldon',\n  'Dialogue': \"I could go on, but I think I've made my point.\",\n  'Dialogue Start Time': datetime.datetime(1900, 1, 1, 0, 8, 1, 100000),\n  'Dialogue End Time': datetime.datetime(1900, 1, 1, 0, 8, 4, 160000),\n  'isHumor': True,\n  'humorDuration': datetime.timedelta(seconds=3)},\n datetime.datetime(1900, 1, 1, 0, 8, 7, 220000): {'Scene': 'Sheldon and Leonard’s apartment.',\n  'Recipients': ['Sheldon', 'Leonard'],\n  'Speaker': 'Penny',\n  'Dialogue': 'Do you want me to move?',\n  'Dialogue Start Time': datetime.datetime(1900, 1, 1, 0, 8, 7, 220000),\n  'Dialogue End Time': datetime.datetime(1900, 1, 1, 0, 8, 9, 50000)},\n datetime.datetime(1900, 1, 1, 0, 8, 9, 80000): {'Scene': 'Sheldon and Leonard’s apartment.',\n  'Recipients': ['Sheldon', 'Penny'],\n  'Speaker': 'Leonard',\n  'Dialogue': 'Just sit somewhere else.',\n  'Dialogue Start Time': datetime.datetime(1900, 1, 1, 0, 8, 9, 80000),\n  'Dialogue End Time': datetime.datetime(1900, 1, 1, 0, 8, 11, 60000)},\n datetime.datetime(1900, 1, 1, 0, 8, 13, 120000): {'Scene': 'Sheldon and Leonard’s apartment.',\n  'Recipients': ['Leonard', 'Penny'],\n  'Speaker': 'Sheldon',\n  'Dialogue': 'Fine.',\n  'Dialogue Start Time': datetime.datetime(1900, 1, 1, 0, 8, 13, 120000),\n  'Dialogue End Time': datetime.datetime(1900, 1, 1, 0, 8, 14, 120000)},\n datetime.datetime(1900, 1, 1, 0, 8, 32, 180000): {'Scene': 'Sheldon and Leonard’s apartment.',\n  'Recipients': ['Sheldon', 'Penny'],\n  'Speaker': 'Leonard',\n  'Dialogue': 'Sheldon, sit!',\n  'Dialogue Start Time': datetime.datetime(1900, 1, 1, 0, 8, 32, 180000),\n  'Dialogue End Time': datetime.datetime(1900, 1, 1, 0, 8, 33, 190000),\n  'isHumor': True,\n  'humorDuration': datetime.timedelta(seconds=6)},\n datetime.datetime(1900, 1, 1, 0, 8, 39, 100000): {'Scene': 'Sheldon and Leonard’s apartment.',\n  'Recipients': ['Sheldon', 'Penny'],\n  'Speaker': 'Leonard',\n  'Dialogue': \"Well, this is nice. We don't have a lot of company over.\",\n  'Dialogue Start Time': datetime.datetime(1900, 1, 1, 0, 8, 39, 100000),\n  'Dialogue End Time': datetime.datetime(1900, 1, 1, 0, 8, 42, 130000)},\n datetime.datetime(1900, 1, 1, 0, 8, 42, 160000): {'Scene': 'Sheldon and Leonard’s apartment.',\n  'Recipients': ['Sheldon', 'Leonard', 'Penny'],\n  'Speaker': 'sheldon',\n  'Dialogue': \"That's not true. Koothrappali and Wolowitz come over all the time.\",\n  'Dialogue Start Time': datetime.datetime(1900, 1, 1, 0, 8, 42, 160000),\n  'Dialogue End Time': datetime.datetime(1900, 1, 1, 0, 8, 45, 90000)},\n datetime.datetime(1900, 1, 1, 0, 8, 45, 120000): {'Scene': 'Sheldon and Leonard’s apartment.',\n  'Recipients': ['Sheldon', 'Leonard', 'Penny'],\n  'Speaker': 'sheldon',\n  'Dialogue': 'Tuesday night, we played Klingon Boggle till 1:00 a.m.',\n  'Dialogue Start Time': datetime.datetime(1900, 1, 1, 0, 8, 45, 120000),\n  'Dialogue End Time': datetime.datetime(1900, 1, 1, 0, 8, 48, 180000)},\n datetime.datetime(1900, 1, 1, 0, 8, 48, 210000): {'Scene': 'Sheldon and Leonard’s apartment.',\n  'Recipients': ['Sheldon', 'Penny'],\n  'Speaker': 'Leonard',\n  'Dialogue': 'Yeah, I remember.',\n  'Dialogue Start Time': datetime.datetime(1900, 1, 1, 0, 8, 48, 210000),\n  'Dialogue End Time': datetime.datetime(1900, 1, 1, 0, 8, 49, 210000),\n  'isHumor': True,\n  'humorDuration': datetime.timedelta(seconds=1)},\n datetime.datetime(1900, 1, 1, 0, 8, 50): {'Scene': 'Sheldon and Leonard’s apartment.',\n  'Recipients': ['Sheldon', 'Leonard', 'Penny'],\n  'Speaker': 'sheldon',\n  'Dialogue': \"Don't say we don't have company. \",\n  'Dialogue Start Time': datetime.datetime(1900, 1, 1, 0, 8, 50),\n  'Dialogue End Time': datetime.datetime(1900, 1, 1, 0, 8, 51, 200000)},\n datetime.datetime(1900, 1, 1, 0, 8, 51, 230000): {'Scene': 'Sheldon and Leonard’s apartment.',\n  'Recipients': ['Leonard', 'Penny'],\n  'Speaker': 'Sheldon',\n  'Dialogue': 'That has negative social implications. ',\n  'Dialogue Start Time': datetime.datetime(1900, 1, 1, 0, 8, 51, 230000),\n  'Dialogue End Time': datetime.datetime(1900, 1, 1, 0, 8, 54, 210000),\n  'isHumor': True,\n  'humorDuration': datetime.timedelta(seconds=2)},\n datetime.datetime(1900, 1, 1, 0, 8, 56, 10000): {'Scene': 'Sheldon and Leonard’s apartment.',\n  'Recipients': ['Sheldon', 'Leonard'],\n  'Speaker': 'Penny',\n  'Dialogue': 'So... Klingon Boggle?',\n  'Dialogue Start Time': datetime.datetime(1900, 1, 1, 0, 8, 56, 10000),\n  'Dialogue End Time': datetime.datetime(1900, 1, 1, 0, 8, 58, 120000)},\n datetime.datetime(1900, 1, 1, 0, 8, 58, 220000): {'Scene': 'Sheldon and Leonard’s apartment.',\n  'Recipients': ['Sheldon', 'Penny'],\n  'Speaker': 'Leonard',\n  'Dialogue': \"Yeah. It's like regular Boggle, but... in Klingon.\",\n  'Dialogue Start Time': datetime.datetime(1900, 1, 1, 0, 8, 58, 220000),\n  'Dialogue End Time': datetime.datetime(1900, 1, 1, 0, 9, 2, 130000),\n  'isHumor': True,\n  'humorDuration': datetime.timedelta(seconds=3)},\n datetime.datetime(1900, 1, 1, 0, 9, 5, 230000): {'Scene': 'Sheldon and Leonard’s apartment.',\n  'Recipients': ['Sheldon', 'Penny'],\n  'Speaker': 'Leonard',\n  'Dialogue': \"That's probably enough about us. So, tell us about you.\",\n  'Dialogue Start Time': datetime.datetime(1900, 1, 1, 0, 9, 5, 230000),\n  'Dialogue End Time': datetime.datetime(1900, 1, 1, 0, 9, 8, 200000),\n  'isHumor': True,\n  'humorDuration': datetime.timedelta(seconds=1)},\n datetime.datetime(1900, 1, 1, 0, 9, 9, 180000): {'Scene': 'Sheldon and Leonard’s apartment.',\n  'Recipients': ['Sheldon', 'Leonard'],\n  'Speaker': 'Penny',\n  'Dialogue': \"Me? Okay. I'm a Sagittarius, which probably tells you way more than you need to know.\",\n  'Dialogue Start Time': datetime.datetime(1900, 1, 1, 0, 9, 9, 180000),\n  'Dialogue End Time': datetime.datetime(1900, 1, 1, 0, 9, 15, 60000)},\n datetime.datetime(1900, 1, 1, 0, 9, 15, 90000): {'Scene': 'Sheldon and Leonard’s apartment.',\n  'Recipients': ['Leonard', 'Penny'],\n  'Speaker': 'Sheldon',\n  'Dialogue': \"Yes. It tells us that you participate in the mass cultural delusion that the sun's apparent position relative to arbitrarily defined constellations at the time of your birth\",\n  'Dialogue Start Time': datetime.datetime(1900, 1, 1, 0, 9, 15, 90000),\n  'Dialogue End Time': datetime.datetime(1900, 1, 1, 0, 9, 22, 230000),\n  'isHumor': True,\n  'humorDuration': datetime.timedelta(seconds=1)},\n datetime.datetime(1900, 1, 1, 0, 9, 23, 30000): {'Scene': 'Sheldon and Leonard’s apartment.',\n  'Recipients': ['Leonard', 'Penny'],\n  'Speaker': 'Sheldon',\n  'Dialogue': 'somehow affects your personality.',\n  'Dialogue Start Time': datetime.datetime(1900, 1, 1, 0, 9, 23, 30000),\n  'Dialogue End Time': datetime.datetime(1900, 1, 1, 0, 9, 24, 230000),\n  'isHumor': True,\n  'humorDuration': datetime.timedelta(seconds=3)},\n datetime.datetime(1900, 1, 1, 0, 9, 27, 160000): {'Scene': 'Sheldon and Leonard’s apartment.',\n  'Recipients': ['Sheldon', 'Leonard'],\n  'Speaker': 'Penny',\n  'Dialogue': 'Participate in the what?',\n  'Dialogue Start Time': datetime.datetime(1900, 1, 1, 0, 9, 27, 160000),\n  'Dialogue End Time': datetime.datetime(1900, 1, 1, 0, 9, 29, 10000)},\n datetime.datetime(1900, 1, 1, 0, 9, 29, 130000): {'Scene': 'Sheldon and Leonard’s apartment.',\n  'Recipients': ['Sheldon', 'Penny'],\n  'Speaker': 'Leonard',\n  'Dialogue': \"I think what Sheldon's trying to say is that Sagittarius wouldn't have been our first guess.\",\n  'Dialogue Start Time': datetime.datetime(1900, 1, 1, 0, 9, 29, 130000),\n  'Dialogue End Time': datetime.datetime(1900, 1, 1, 0, 9, 34, 110000)},\n datetime.datetime(1900, 1, 1, 0, 9, 34, 220000): {'Scene': 'Sheldon and Leonard’s apartment.',\n  'Recipients': ['Sheldon', 'Leonard'],\n  'Speaker': 'Penny',\n  'Dialogue': \"Yeah, a lot of people think I'm a water sign. Okay, let's see, what else. I'm a vegetarian. Except for fish. And the occasional steak. I love steak!\",\n  'Dialogue Start Time': datetime.datetime(1900, 1, 1, 0, 9, 34, 220000),\n  'Dialogue End Time': datetime.datetime(1900, 1, 1, 0, 9, 44),\n  'isHumor': True,\n  'humorDuration': datetime.timedelta(seconds=2)},\n datetime.datetime(1900, 1, 1, 0, 9, 46, 160000): {'Scene': 'Sheldon and Leonard’s apartment.',\n  'Recipients': ['Leonard', 'Penny'],\n  'Speaker': 'Sheldon',\n  'Dialogue': \"Well, that's interesting. Leonard can't process corn.\",\n  'Dialogue Start Time': datetime.datetime(1900, 1, 1, 0, 9, 46, 160000),\n  'Dialogue End Time': datetime.datetime(1900, 1, 1, 0, 9, 49, 210000),\n  'isHumor': True,\n  'humorDuration': datetime.timedelta(seconds=5)},\n datetime.datetime(1900, 1, 1, 0, 9, 54, 40000): {'Scene': 'Sheldon and Leonard’s apartment.',\n  'Recipients': ['Sheldon', 'Penny'],\n  'Speaker': 'Leonard',\n  'Dialogue': 'Well... do you have some sort of a job?',\n  'Dialogue Start Time': datetime.datetime(1900, 1, 1, 0, 9, 54, 40000),\n  'Dialogue End Time': datetime.datetime(1900, 1, 1, 0, 9, 56, 100000)},\n datetime.datetime(1900, 1, 1, 0, 9, 57, 110000): {'Scene': 'Sheldon and Leonard’s apartment.',\n  'Recipients': ['Sheldon', 'Leonard'],\n  'Speaker': 'Penny',\n  'Dialogue': \"I'm a waitress at The Cheesecake Factory.\",\n  'Dialogue Start Time': datetime.datetime(1900, 1, 1, 0, 9, 57, 110000),\n  'Dialogue End Time': datetime.datetime(1900, 1, 1, 0, 9, 59, 150000)},\n datetime.datetime(1900, 1, 1, 0, 10, 0, 50000): {'Scene': 'Sheldon and Leonard’s apartment.',\n  'Recipients': ['Sheldon', 'Penny'],\n  'Speaker': 'Leonard',\n  'Dialogue': 'I love cheesecake.',\n  'Dialogue Start Time': datetime.datetime(1900, 1, 1, 0, 10, 0, 50000),\n  'Dialogue End Time': datetime.datetime(1900, 1, 1, 0, 10, 1, 110000)},\n datetime.datetime(1900, 1, 1, 0, 10, 1, 140000): {'Scene': 'Sheldon and Leonard’s apartment.',\n  'Recipients': ['Leonard', 'Penny'],\n  'Speaker': 'Sheldon',\n  'Dialogue': \"You're lactose-intolerant.\",\n  'Dialogue Start Time': datetime.datetime(1900, 1, 1, 0, 10, 1, 140000),\n  'Dialogue End Time': datetime.datetime(1900, 1, 1, 0, 10, 2, 160000)},\n datetime.datetime(1900, 1, 1, 0, 10, 2, 190000): {'Scene': 'Sheldon and Leonard’s apartment.',\n  'Recipients': ['Sheldon', 'Penny'],\n  'Speaker': 'Leonard',\n  'Dialogue': \"I don't eat it... I just think it's a good idea.\",\n  'Dialogue Start Time': datetime.datetime(1900, 1, 1, 0, 10, 2, 190000),\n  'Dialogue End Time': datetime.datetime(1900, 1, 1, 0, 10, 5, 50000),\n  'isHumor': True,\n  'humorDuration': datetime.timedelta(seconds=1)},\n datetime.datetime(1900, 1, 1, 0, 10, 6, 90000): {'Scene': 'Sheldon and Leonard’s apartment.',\n  'Recipients': ['Sheldon', 'Leonard'],\n  'Speaker': 'Penny',\n  'Dialogue': \"Anyways, I'm also writing a screenplay. It's about this sensitive girl who comes to L.A. from Lincoln, Nebraska, to be an actress and winds up a waitress at The Cheesecake Factory.\",\n  'Dialogue Start Time': datetime.datetime(1900, 1, 1, 0, 10, 6, 90000),\n  'Dialogue End Time': datetime.datetime(1900, 1, 1, 0, 10, 15, 120000),\n  'isHumor': True,\n  'humorDuration': datetime.timedelta(seconds=2)},\n datetime.datetime(1900, 1, 1, 0, 10, 17, 30000): {'Scene': 'Sheldon and Leonard’s apartment.',\n  'Recipients': ['Sheldon', 'Penny'],\n  'Speaker': 'Leonard',\n  'Dialogue': \"So, it's based on your life.\",\n  'Dialogue Start Time': datetime.datetime(1900, 1, 1, 0, 10, 17, 30000),\n  'Dialogue End Time': datetime.datetime(1900, 1, 1, 0, 10, 18, 210000)},\n datetime.datetime(1900, 1, 1, 0, 10, 19, 20000): {'Scene': 'Sheldon and Leonard’s apartment.',\n  'Recipients': ['Sheldon', 'Leonard'],\n  'Speaker': 'Penny',\n  'Dialogue': \"No, I'm from Omaha.\",\n  'Dialogue Start Time': datetime.datetime(1900, 1, 1, 0, 10, 19, 20000),\n  'Dialogue End Time': datetime.datetime(1900, 1, 1, 0, 10, 20, 40000),\n  'isHumor': True,\n  'humorDuration': datetime.timedelta(seconds=4)},\n datetime.datetime(1900, 1, 1, 0, 10, 24, 100000): {'Scene': 'Sheldon and Leonard’s apartment.',\n  'Recipients': ['Sheldon', 'Penny'],\n  'Speaker': 'Leonard',\n  'Dialogue': 'If that was movie, I would go see it.',\n  'Dialogue Start Time': datetime.datetime(1900, 1, 1, 0, 10, 24, 100000),\n  'Dialogue End Time': datetime.datetime(1900, 1, 1, 0, 10, 26, 110000)},\n datetime.datetime(1900, 1, 1, 0, 10, 26, 140000): {'Scene': 'Sheldon and Leonard’s apartment.',\n  'Recipients': ['Sheldon', 'Leonard'],\n  'Speaker': 'Penny',\n  'Dialogue': 'I know, right?',\n  'Dialogue Start Time': datetime.datetime(1900, 1, 1, 0, 10, 26, 140000),\n  'Dialogue End Time': datetime.datetime(1900, 1, 1, 0, 10, 27, 150000),\n  'isHumor': True,\n  'humorDuration': datetime.timedelta(seconds=1)},\n datetime.datetime(1900, 1, 1, 0, 10, 28, 30000): {'Scene': 'Sheldon and Leonard’s apartment.',\n  'Recipients': ['Sheldon', 'Leonard'],\n  'Speaker': 'Penny',\n  'Dialogue': \"Okay, let's see, what else... Guess that's about it. That's the story of Penny.\",\n  'Dialogue Start Time': datetime.datetime(1900, 1, 1, 0, 10, 28, 30000),\n  'Dialogue End Time': datetime.datetime(1900, 1, 1, 0, 10, 35)},\n datetime.datetime(1900, 1, 1, 0, 10, 36, 50000): {'Scene': 'Sheldon and Leonard’s apartment.',\n  'Recipients': ['Sheldon', 'Penny'],\n  'Speaker': 'Leonard',\n  'Dialogue': 'It sounds wonderful.',\n  'Dialogue Start Time': datetime.datetime(1900, 1, 1, 0, 10, 36, 50000),\n  'Dialogue End Time': datetime.datetime(1900, 1, 1, 0, 10, 37, 170000)},\n datetime.datetime(1900, 1, 1, 0, 10, 39, 20000): {'Scene': 'Sheldon and Leonard’s apartment.',\n  'Recipients': ['Sheldon', 'Leonard'],\n  'Speaker': 'Penny',\n  'Dialogue': 'It was. Until I fell in love with a jerk!',\n  'Dialogue Start Time': datetime.datetime(1900, 1, 1, 0, 10, 39, 20000),\n  'Dialogue End Time': datetime.datetime(1900, 1, 1, 0, 10, 43, 40000)},\n datetime.datetime(1900, 1, 1, 0, 10, 46, 230000): {'Scene': 'Sheldon and Leonard’s apartment.',\n  'Recipients': ['Leonard', 'Penny'],\n  'Speaker': 'Sheldon',\n  'Dialogue': \"What's happening?\",\n  'Dialogue Start Time': datetime.datetime(1900, 1, 1, 0, 10, 46, 230000),\n  'Dialogue End Time': datetime.datetime(1900, 1, 1, 0, 10, 47, 230000),\n  'isHumor': True,\n  'humorDuration': datetime.timedelta(seconds=2)},\n datetime.datetime(1900, 1, 1, 0, 10, 50, 230000): {'Scene': 'Sheldon and Leonard’s apartment.',\n  'Recipients': ['Sheldon', 'Leonard'],\n  'Speaker': 'Penny',\n  'Dialogue': \"God, you know, 4 years I lived with him. 4 years... that's like as long as high school.\",\n  'Dialogue Start Time': datetime.datetime(1900, 1, 1, 0, 10, 50, 230000),\n  'Dialogue End Time': datetime.datetime(1900, 1, 1, 0, 10, 56, 90000)},\n datetime.datetime(1900, 1, 1, 0, 10, 56, 120000): {'Scene': 'Sheldon and Leonard’s apartment.',\n  'Recipients': ['Leonard', 'Penny'],\n  'Speaker': 'Sheldon',\n  'Dialogue': 'It took you 4 years to get through high school?',\n  'Dialogue Start Time': datetime.datetime(1900, 1, 1, 0, 10, 56, 120000),\n  'Dialogue End Time': datetime.datetime(1900, 1, 1, 0, 10, 58, 120000),\n  'isHumor': True,\n  'humorDuration': datetime.timedelta(seconds=3)},\n datetime.datetime(1900, 1, 1, 0, 11, 1, 50000): {'Scene': 'Sheldon and Leonard’s apartment.',\n  'Recipients': ['Sheldon', 'Leonard'],\n  'Speaker': 'Penny',\n  'Dialogue': \"It just... I can't believe I trusted him.\",\n  'Dialogue Start Time': datetime.datetime(1900, 1, 1, 0, 11, 1, 50000),\n  'Dialogue End Time': datetime.datetime(1900, 1, 1, 0, 11, 3, 230000)},\n datetime.datetime(1900, 1, 1, 0, 11, 8, 230000): {'Scene': 'Sheldon and Leonard’s apartment.',\n  'Recipients': ['Sheldon', 'Penny'],\n  'Speaker': 'Leonard',\n  'Dialogue': 'Should I say something? I feel like I should say something.',\n  'Dialogue Start Time': datetime.datetime(1900, 1, 1, 0, 11, 8, 230000),\n  'Dialogue End Time': datetime.datetime(1900, 1, 1, 0, 11, 11, 130000)},\n datetime.datetime(1900, 1, 1, 0, 11, 11, 160000): {'Scene': 'Sheldon and Leonard’s apartment.',\n  'Recipients': ['Leonard', 'Penny'],\n  'Speaker': 'Sheldon',\n  'Dialogue': \"You? No, you'll only make it worse.\",\n  'Dialogue Start Time': datetime.datetime(1900, 1, 1, 0, 11, 11, 160000),\n  'Dialogue End Time': datetime.datetime(1900, 1, 1, 0, 11, 13, 90000)},\n datetime.datetime(1900, 1, 1, 0, 11, 13, 130000): {'Scene': 'Sheldon and Leonard’s apartment.',\n  'Recipients': ['Sheldon', 'Leonard'],\n  'Speaker': 'Penny',\n  'Dialogue': 'You want to know the most pathetic part? Even though I hate his lying, cheating guts... I still love him. Is that crazy?',\n  'Dialogue Start Time': datetime.datetime(1900, 1, 1, 0, 11, 13, 130000),\n  'Dialogue End Time': datetime.datetime(1900, 1, 1, 0, 11, 23, 20000),\n  'isHumor': True,\n  'humorDuration': datetime.timedelta(seconds=1)},\n datetime.datetime(1900, 1, 1, 0, 11, 26, 160000): {'Scene': 'Sheldon and Leonard’s apartment.',\n  'Recipients': ['Sheldon', 'Penny'],\n  'Speaker': 'Leonard',\n  'Dialogue': \"No, it's not crazy. It's a... It's a paradox. Paradoxes are part of nature. Think about light. If you look at Huygens, light is a wave, as confirmed by the double-slit experiments, but then along comes Albert Einstein and discovers that light behaves like particles, too. Well, I didn't make it worse.\",\n  'Dialogue Start Time': datetime.datetime(1900, 1, 1, 0, 11, 26, 160000),\n  'Dialogue End Time': datetime.datetime(1900, 1, 1, 0, 11, 49, 210000),\n  'isHumor': True,\n  'humorDuration': datetime.timedelta(seconds=3)},\n datetime.datetime(1900, 1, 1, 0, 11, 52, 60000): {'Scene': 'Sheldon and Leonard’s apartment.',\n  'Recipients': ['Sheldon', 'Leonard'],\n  'Speaker': 'Penny',\n  'Dialogue': \"I'm so sorry. I'm such a mess. On top of everything else, I'm all gross from moving and my stupid shower doesn't even work.\",\n  'Dialogue Start Time': datetime.datetime(1900, 1, 1, 0, 11, 52, 60000),\n  'Dialogue End Time': datetime.datetime(1900, 1, 1, 0, 11, 58, 130000)},\n datetime.datetime(1900, 1, 1, 0, 11, 58, 160000): {'Scene': 'Sheldon and Leonard’s apartment.',\n  'Recipients': ['Sheldon', 'Penny'],\n  'Speaker': 'Leonard',\n  'Dialogue': 'Our shower works.',\n  'Dialogue Start Time': datetime.datetime(1900, 1, 1, 0, 11, 58, 160000),\n  'Dialogue End Time': datetime.datetime(1900, 1, 1, 0, 11, 59, 180000),\n  'isHumor': True,\n  'humorDuration': datetime.timedelta(seconds=2)},\n datetime.datetime(1900, 1, 1, 0, 12, 1, 140000): {'Scene': 'Sheldon and Leonard’s apartment.',\n  'Recipients': ['Sheldon', 'Leonard'],\n  'Speaker': 'Penny',\n  'Dialogue': 'Really? Would it be totally weird if I used it?',\n  'Dialogue Start Time': datetime.datetime(1900, 1, 1, 0, 12, 1, 140000),\n  'Dialogue End Time': datetime.datetime(1900, 1, 1, 0, 12, 3, 130000)},\n datetime.datetime(1900, 1, 1, 0, 12, 3, 160000): {'Scene': 'Sheldon and Leonard’s apartment.',\n  'Recipients': ['Leonard', 'Penny'],\n  'Speaker': 'Sheldon',\n  'Dialogue': 'Yes. ',\n  'Dialogue Start Time': datetime.datetime(1900, 1, 1, 0, 12, 3, 160000),\n  'Dialogue End Time': datetime.datetime(1900, 1, 1, 0, 12, 4, 210000)},\n datetime.datetime(1900, 1, 1, 0, 12, 7, 210000): {'Scene': 'Sheldon and Leonard’s apartment.',\n  'Recipients': ['Sheldon', 'Penny'],\n  'Speaker': 'Leonard',\n  'Dialogue': \"It's right down the hall.\",\n  'Dialogue Start Time': datetime.datetime(1900, 1, 1, 0, 12, 7, 210000),\n  'Dialogue End Time': datetime.datetime(1900, 1, 1, 0, 12, 9, 60000)},\n datetime.datetime(1900, 1, 1, 0, 12, 9, 120000): {'Scene': 'Sheldon and Leonard’s apartment.',\n  'Recipients': ['Sheldon', 'Leonard'],\n  'Speaker': 'Penny',\n  'Dialogue': 'Thanks. You guys are really sweet.',\n  'Dialogue Start Time': datetime.datetime(1900, 1, 1, 0, 12, 9, 120000),\n  'Dialogue End Time': datetime.datetime(1900, 1, 1, 0, 12, 12, 50000)},\n datetime.datetime(1900, 1, 1, 0, 12, 18, 220000): {'Scene': 'Sheldon and Leonard’s apartment.',\n  'Recipients': ['Leonard'],\n  'Speaker': 'Sheldon',\n  'Dialogue': 'Well, this is an interesting development.',\n  'Dialogue Start Time': datetime.datetime(1900, 1, 1, 0, 12, 18, 220000),\n  'Dialogue End Time': datetime.datetime(1900, 1, 1, 0, 12, 21, 90000),\n  'isHumor': True,\n  'humorDuration': datetime.timedelta(seconds=3)},\n datetime.datetime(1900, 1, 1, 0, 12, 24, 100000): {'Scene': 'Sheldon and Leonard’s apartment.',\n  'Recipients': ['Sheldon'],\n  'Speaker': 'Leonard',\n  'Dialogue': 'How so?',\n  'Dialogue Start Time': datetime.datetime(1900, 1, 1, 0, 12, 24, 100000),\n  'Dialogue End Time': datetime.datetime(1900, 1, 1, 0, 12, 25, 100000)},\n datetime.datetime(1900, 1, 1, 0, 12, 25, 140000): {'Scene': 'Sheldon and Leonard’s apartment.',\n  'Recipients': ['Leonard'],\n  'Speaker': 'Sheldon',\n  'Dialogue': \"It has been some time since we've had a woman take her clothes off in our apartment.\",\n  'Dialogue Start Time': datetime.datetime(1900, 1, 1, 0, 12, 25, 140000),\n  'Dialogue End Time': datetime.datetime(1900, 1, 1, 0, 12, 29, 130000),\n  'isHumor': True,\n  'humorDuration': datetime.timedelta(seconds=1)},\n datetime.datetime(1900, 1, 1, 0, 12, 30, 80000): {'Scene': 'Sheldon and Leonard’s apartment.',\n  'Recipients': ['Sheldon'],\n  'Speaker': 'Leonard',\n  'Dialogue': \"That's not true. Remember at Thanksgiving, my grandmother with Alzheimer's had that episode?\",\n  'Dialogue Start Time': datetime.datetime(1900, 1, 1, 0, 12, 30, 80000),\n  'Dialogue End Time': datetime.datetime(1900, 1, 1, 0, 12, 34, 170000),\n  'isHumor': True,\n  'humorDuration': datetime.timedelta(seconds=2)},\n datetime.datetime(1900, 1, 1, 0, 12, 36, 200000): {'Scene': 'Sheldon and Leonard’s apartment.',\n  'Recipients': ['Leonard'],\n  'Speaker': 'Sheldon',\n  'Dialogue': \"Point taken. It has been some time since we've had a woman take her clothes off, after which we didn't want to rip our eyes out.\",\n  'Dialogue Start Time': datetime.datetime(1900, 1, 1, 0, 12, 36, 200000),\n  'Dialogue End Time': datetime.datetime(1900, 1, 1, 0, 12, 42, 220000),\n  'isHumor': True,\n  'humorDuration': datetime.timedelta(seconds=2)},\n datetime.datetime(1900, 1, 1, 0, 12, 44, 80000): {'Scene': 'Sheldon and Leonard’s apartment.',\n  'Recipients': ['Sheldon'],\n  'Speaker': 'Leonard',\n  'Dialogue': 'The worst part was watching her carve that turkey.',\n  'Dialogue Start Time': datetime.datetime(1900, 1, 1, 0, 12, 44, 80000),\n  'Dialogue End Time': datetime.datetime(1900, 1, 1, 0, 12, 47, 50000),\n  'isHumor': True,\n  'humorDuration': datetime.timedelta(seconds=1)},\n datetime.datetime(1900, 1, 1, 0, 12, 48, 60000): {'Scene': 'Sheldon and Leonard’s apartment.',\n  'Recipients': ['Leonard'],\n  'Speaker': 'Sheldon',\n  'Dialogue': 'So what exactly are you trying to accomplish here?',\n  'Dialogue Start Time': datetime.datetime(1900, 1, 1, 0, 12, 48, 60000),\n  'Dialogue End Time': datetime.datetime(1900, 1, 1, 0, 12, 51, 30000)},\n datetime.datetime(1900, 1, 1, 0, 12, 52, 10000): {'Scene': 'Sheldon and Leonard’s apartment.',\n  'Recipients': ['Sheldon'],\n  'Speaker': 'Leonard',\n  'Dialogue': 'Excuse me?',\n  'Dialogue Start Time': datetime.datetime(1900, 1, 1, 0, 12, 52, 10000),\n  'Dialogue End Time': datetime.datetime(1900, 1, 1, 0, 12, 53, 30000)},\n datetime.datetime(1900, 1, 1, 0, 12, 53, 90000): {'Scene': 'Sheldon and Leonard’s apartment.',\n  'Recipients': ['Leonard'],\n  'Speaker': 'Sheldon',\n  'Dialogue': 'That woman is not going to have sex with you.',\n  'Dialogue Start Time': datetime.datetime(1900, 1, 1, 0, 12, 53, 90000),\n  'Dialogue End Time': datetime.datetime(1900, 1, 1, 0, 12, 55, 100000)},\n datetime.datetime(1900, 1, 1, 0, 12, 55, 160000): {'Scene': 'Sheldon and Leonard’s apartment.',\n  'Recipients': ['Sheldon'],\n  'Speaker': 'Leonard',\n  'Dialogue': \"I'm not trying to have sex with her.\",\n  'Dialogue Start Time': datetime.datetime(1900, 1, 1, 0, 12, 55, 160000),\n  'Dialogue End Time': datetime.datetime(1900, 1, 1, 0, 12, 57, 220000)},\n datetime.datetime(1900, 1, 1, 0, 12, 58, 10000): {'Scene': 'Sheldon and Leonard’s apartment.',\n  'Recipients': ['Leonard'],\n  'Speaker': 'Sheldon',\n  'Dialogue': \"Good. Then you won't be disappointed.\",\n  'Dialogue Start Time': datetime.datetime(1900, 1, 1, 0, 12, 58, 10000),\n  'Dialogue End Time': datetime.datetime(1900, 1, 1, 0, 13, 0, 10000),\n  'isHumor': True,\n  'humorDuration': datetime.timedelta(seconds=1)},\n datetime.datetime(1900, 1, 1, 0, 13, 1, 80000): {'Scene': 'Sheldon and Leonard’s apartment.',\n  'Recipients': ['Sheldon'],\n  'Speaker': 'Leonard',\n  'Dialogue': \"What makes you think she wouldn't have sex with me? I'm a male and she's a female.\",\n  'Dialogue Start Time': datetime.datetime(1900, 1, 1, 0, 13, 1, 80000),\n  'Dialogue End Time': datetime.datetime(1900, 1, 1, 0, 13, 5, 160000)},\n datetime.datetime(1900, 1, 1, 0, 13, 6, 40000): {'Scene': 'Sheldon and Leonard’s apartment.',\n  'Recipients': ['Leonard'],\n  'Speaker': 'Sheldon',\n  'Dialogue': 'Yes, but not of the same species.',\n  'Dialogue Start Time': datetime.datetime(1900, 1, 1, 0, 13, 6, 40000),\n  'Dialogue End Time': datetime.datetime(1900, 1, 1, 0, 13, 8, 80000),\n  'isHumor': True,\n  'humorDuration': datetime.timedelta(seconds=1)},\n datetime.datetime(1900, 1, 1, 0, 13, 9, 80000): {'Scene': 'Sheldon and Leonard’s apartment.',\n  'Recipients': ['Sheldon'],\n  'Speaker': 'Leonard',\n  'Dialogue': \"I'm not going to engage in hypotheticals here. I'm just trying to be a good neighbor.\",\n  'Dialogue Start Time': datetime.datetime(1900, 1, 1, 0, 13, 9, 80000),\n  'Dialogue End Time': datetime.datetime(1900, 1, 1, 0, 13, 13, 130000)},\n datetime.datetime(1900, 1, 1, 0, 13, 13, 220000): {'Scene': 'Sheldon and Leonard’s apartment.',\n  'Recipients': ['Leonard'],\n  'Speaker': 'Sheldon',\n  'Dialogue': 'Of course.',\n  'Dialogue Start Time': datetime.datetime(1900, 1, 1, 0, 13, 13, 220000),\n  'Dialogue End Time': datetime.datetime(1900, 1, 1, 0, 13, 15)},\n datetime.datetime(1900, 1, 1, 0, 13, 15, 160000): {'Scene': 'Sheldon and Leonard’s apartment.',\n  'Recipients': ['Sheldon'],\n  'Speaker': 'Leonard',\n  'Dialogue': \"That's not to say that if a carnal relationship were to develop, that I wouldn't participate.\",\n  'Dialogue Start Time': datetime.datetime(1900, 1, 1, 0, 13, 15, 160000),\n  'Dialogue End Time': datetime.datetime(1900, 1, 1, 0, 13, 20, 60000),\n  'isHumor': True,\n  'humorDuration': datetime.timedelta(seconds=2)},\n datetime.datetime(1900, 1, 1, 0, 13, 22, 150000): {'Scene': 'Sheldon and Leonard’s apartment.',\n  'Recipients': ['Sheldon'],\n  'Speaker': 'Leonard',\n  'Dialogue': 'However briefly.',\n  'Dialogue Start Time': datetime.datetime(1900, 1, 1, 0, 13, 22, 150000),\n  'Dialogue End Time': datetime.datetime(1900, 1, 1, 0, 13, 23, 180000),\n  'isHumor': True,\n  'humorDuration': datetime.timedelta(seconds=2)},\n datetime.datetime(1900, 1, 1, 0, 13, 25, 80000): {'Scene': 'Sheldon and Leonard’s apartment.',\n  'Recipients': ['Leonard'],\n  'Speaker': 'Sheldon',\n  'Dialogue': 'Do you think this possibility will be helped or hindered when she discovers your Luke Skywalker no-more-tears shampoo?',\n  'Dialogue Start Time': datetime.datetime(1900, 1, 1, 0, 13, 25, 80000),\n  'Dialogue End Time': datetime.datetime(1900, 1, 1, 0, 13, 31, 40000),\n  'isHumor': True,\n  'humorDuration': datetime.timedelta(seconds=1)},\n datetime.datetime(1900, 1, 1, 0, 13, 32, 110000): {'Scene': 'Sheldon and Leonard’s apartment.',\n  'Recipients': ['Sheldon'],\n  'Speaker': 'Leonard',\n  'Dialogue': \"It's Darth Vader shampoo.\",\n  'Dialogue Start Time': datetime.datetime(1900, 1, 1, 0, 13, 32, 110000),\n  'Dialogue End Time': datetime.datetime(1900, 1, 1, 0, 13, 33, 210000),\n  'isHumor': True,\n  'humorDuration': datetime.timedelta(seconds=2)},\n datetime.datetime(1900, 1, 1, 0, 13, 35, 200000): {'Scene': 'Sheldon and Leonard’s apartment.',\n  'Recipients': ['Sheldon'],\n  'Speaker': 'Leonard',\n  'Dialogue': \"Luke Skywalker's the conditioner.\",\n  'Dialogue Start Time': datetime.datetime(1900, 1, 1, 0, 13, 35, 200000),\n  'Dialogue End Time': datetime.datetime(1900, 1, 1, 0, 13, 37, 180000),\n  'isHumor': True,\n  'humorDuration': datetime.timedelta(seconds=3)},\n datetime.datetime(1900, 1, 1, 0, 13, 40, 80000): {'Scene': 'Sheldon and Leonard’s apartment.',\n  'Recipients': ['Sheldon', 'Leonard', 'Howard'],\n  'Speaker': 'Raj',\n  'Dialogue': \"It's fantastic, unbelievable.\",\n  'Dialogue Start Time': datetime.datetime(1900, 1, 1, 0, 13, 40, 80000),\n  'Dialogue End Time': datetime.datetime(1900, 1, 1, 0, 13, 43, 20000)},\n datetime.datetime(1900, 1, 1, 0, 13, 43, 50000): {'Scene': 'Sheldon and Leonard’s apartment.',\n  'Recipients': ['Sheldon', 'Howard', 'Raj'],\n  'Speaker': 'Leonard',\n  'Dialogue': 'See what?',\n  'Dialogue Start Time': datetime.datetime(1900, 1, 1, 0, 13, 43, 50000),\n  'Dialogue End Time': datetime.datetime(1900, 1, 1, 0, 13, 44, 50000),\n  'isHumor': True,\n  'humorDuration': datetime.timedelta(seconds=1)},\n datetime.datetime(1900, 1, 1, 0, 13, 45, 100000): {'Scene': 'Sheldon and Leonard’s apartment.',\n  'Recipients': ['Sheldon', 'Leonard', 'Raj'],\n  'Speaker': 'Howard',\n  'Dialogue': \"It's a Stephen Hawking lecture from MIT in 1974.\",\n  'Dialogue Start Time': datetime.datetime(1900, 1, 1, 0, 13, 45, 100000),\n  'Dialogue End Time': datetime.datetime(1900, 1, 1, 0, 13, 49, 130000)},\n datetime.datetime(1900, 1, 1, 0, 13, 49, 160000): {'Scene': 'Sheldon and Leonard’s apartment.',\n  'Recipients': ['Sheldon', 'Howard', 'Raj'],\n  'Speaker': 'Leonard',\n  'Dialogue': \"This isn't a good time.\",\n  'Dialogue Start Time': datetime.datetime(1900, 1, 1, 0, 13, 49, 160000),\n  'Dialogue End Time': datetime.datetime(1900, 1, 1, 0, 13, 50, 180000)},\n datetime.datetime(1900, 1, 1, 0, 13, 50, 210000): {'Scene': 'Sheldon and Leonard’s apartment.',\n  'Recipients': ['Sheldon', 'Leonard', 'Raj'],\n  'Speaker': 'Howard',\n  'Dialogue': \"It's before he became a creepy computer voice.\",\n  'Dialogue Start Time': datetime.datetime(1900, 1, 1, 0, 13, 50, 210000),\n  'Dialogue End Time': datetime.datetime(1900, 1, 1, 0, 13, 53, 220000),\n  'isHumor': True,\n  'humorDuration': datetime.timedelta(seconds=4)},\n datetime.datetime(1900, 1, 1, 0, 13, 57, 70000): {'Scene': 'Sheldon and Leonard’s apartment.',\n  'Recipients': ['Sheldon', 'Howard', 'Raj'],\n  'Speaker': 'Leonard',\n  'Dialogue': \"That's great. You guys have to go. \",\n  'Dialogue Start Time': datetime.datetime(1900, 1, 1, 0, 13, 57, 70000),\n  'Dialogue End Time': datetime.datetime(1900, 1, 1, 0, 13, 59, 60000)},\n datetime.datetime(1900, 1, 1, 0, 13, 59, 90000): {'Scene': 'Sheldon and Leonard’s apartment.',\n  'Recipients': ['Sheldon', 'Howard', 'Raj'],\n  'Speaker': 'Leonard',\n  'Dialogue': \"It's just not a good time.\",\n  'Dialogue Start Time': datetime.datetime(1900, 1, 1, 0, 13, 59, 90000),\n  'Dialogue End Time': datetime.datetime(1900, 1, 1, 0, 14, 0, 140000)},\n datetime.datetime(1900, 1, 1, 0, 14, 0, 170000): {'Scene': 'Sheldon and Leonard’s apartment.',\n  'Recipients': ['Leonard', 'Howard', 'Raj'],\n  'Speaker': 'Sheldon',\n  'Dialogue': 'Leonard has a lady over.',\n  'Dialogue Start Time': datetime.datetime(1900, 1, 1, 0, 14, 0, 170000),\n  'Dialogue End Time': datetime.datetime(1900, 1, 1, 0, 14, 2, 70000)},\n datetime.datetime(1900, 1, 1, 0, 14, 2, 220000): {'Scene': 'Sheldon and Leonard’s apartment.',\n  'Recipients': ['Sheldon', 'Leonard', 'Raj'],\n  'Speaker': 'Howard',\n  'Dialogue': 'Yeah, right... your grandmother back in town?',\n  'Dialogue Start Time': datetime.datetime(1900, 1, 1, 0, 14, 2, 220000),\n  'Dialogue End Time': datetime.datetime(1900, 1, 1, 0, 14, 5, 90000),\n  'isHumor': True,\n  'humorDuration': datetime.timedelta(seconds=3)},\n datetime.datetime(1900, 1, 1, 0, 14, 8, 160000): {'Scene': 'Sheldon and Leonard’s apartment.',\n  'Recipients': ['Sheldon', 'Howard', 'Raj'],\n  'Speaker': 'Leonard',\n  'Dialogue': \"And she's not a lady. She's just a new neighbor.\",\n  'Dialogue Start Time': datetime.datetime(1900, 1, 1, 0, 14, 8, 160000),\n  'Dialogue End Time': datetime.datetime(1900, 1, 1, 0, 14, 11, 50000)},\n datetime.datetime(1900, 1, 1, 0, 14, 11, 110000): {'Scene': 'Sheldon and Leonard’s apartment.',\n  'Recipients': ['Sheldon', 'Leonard', 'Raj'],\n  'Speaker': 'Howard',\n  'Dialogue': \"Hang on, there really is a lady here? And you want us out because you're anticipating coitus?\",\n  'Dialogue Start Time': datetime.datetime(1900, 1, 1, 0, 14, 11, 110000),\n  'Dialogue End Time': datetime.datetime(1900, 1, 1, 0, 14, 18, 20000),\n  'isHumor': True,\n  'humorDuration': datetime.timedelta(seconds=1)},\n datetime.datetime(1900, 1, 1, 0, 14, 18, 150000): {'Scene': 'Sheldon and Leonard’s apartment.',\n  'Recipients': ['Sheldon', 'Howard', 'Raj'],\n  'Speaker': 'Leonard',\n  'Dialogue': \"I'm not anticipating coitus.\",\n  'Dialogue Start Time': datetime.datetime(1900, 1, 1, 0, 14, 18, 150000),\n  'Dialogue End Time': datetime.datetime(1900, 1, 1, 0, 14, 20, 60000)},\n datetime.datetime(1900, 1, 1, 0, 14, 20, 90000): {'Scene': 'Sheldon and Leonard’s apartment.',\n  'Recipients': ['Sheldon', 'Leonard', 'Raj'],\n  'Speaker': 'Howard',\n  'Dialogue': \"So she's available for coitus?\",\n  'Dialogue Start Time': datetime.datetime(1900, 1, 1, 0, 14, 20, 90000),\n  'Dialogue End Time': datetime.datetime(1900, 1, 1, 0, 14, 21, 160000)},\n datetime.datetime(1900, 1, 1, 0, 14, 21, 190000): {'Scene': 'Sheldon and Leonard’s apartment.',\n  'Recipients': ['Sheldon', 'Howard', 'Raj'],\n  'Speaker': 'Leonard',\n  'Dialogue': 'Can we please just stop saying coitus?',\n  'Dialogue Start Time': datetime.datetime(1900, 1, 1, 0, 14, 21, 190000),\n  'Dialogue End Time': datetime.datetime(1900, 1, 1, 0, 14, 24, 40000)},\n datetime.datetime(1900, 1, 1, 0, 14, 24, 70000): {'Scene': 'Sheldon and Leonard’s apartment.',\n  'Recipients': ['Leonard', 'Howard', 'Raj'],\n  'Speaker': 'Sheldon',\n  'Dialogue': 'Technically, that would becoitus interruptus. ',\n  'Dialogue Start Time': datetime.datetime(1900, 1, 1, 0, 14, 24, 70000),\n  'Dialogue End Time': datetime.datetime(1900, 1, 1, 0, 14, 27, 20000),\n  'isHumor': True,\n  'humorDuration': datetime.timedelta(seconds=1)},\n datetime.datetime(1900, 1, 1, 0, 14, 27, 190000): {'Scene': 'Sheldon and Leonard’s apartment.',\n  'Recipients': ['Sheldon', 'Leonard', 'Howard', 'Raj'],\n  'Speaker': 'Penny',\n  'Dialogue': 'Hey, is there a trick to getting it to switch from tub to shower...? Hi. Sorry. Hello.',\n  'Dialogue Start Time': datetime.datetime(1900, 1, 1, 0, 14, 27, 190000),\n  'Dialogue End Time': datetime.datetime(1900, 1, 1, 0, 14, 33, 110000),\n  'isHumor': True,\n  'humorDuration': datetime.timedelta(seconds=2)},\n datetime.datetime(1900, 1, 1, 0, 14, 35, 140000): {'Scene': 'Sheldon and Leonard’s apartment.',\n  'Recipients': ['Sheldon', 'Leonard', 'Raj', 'Penny'],\n  'Speaker': 'Howard',\n  'Dialogue': 'Enchant\\\\E9, mademoiselle.',\n  'Dialogue Start Time': datetime.datetime(1900, 1, 1, 0, 14, 35, 140000),\n  'Dialogue End Time': datetime.datetime(1900, 1, 1, 0, 14, 37, 30000),\n  'isHumor': True,\n  'humorDuration': datetime.timedelta(seconds=2)},\n datetime.datetime(1900, 1, 1, 0, 14, 39, 110000): {'Scene': 'Sheldon and Leonard’s apartment.',\n  'Recipients': ['Sheldon', 'Leonard', 'Raj', 'Penny'],\n  'Speaker': 'Howard',\n  'Dialogue': \"Howard Wolowitz, Caltech department of applied physics. You may be familiar with some of my work. It's currently orbiting Jupiter's largest moon taking high-resolution digital photographs.\",\n  'Dialogue Start Time': datetime.datetime(1900, 1, 1, 0, 14, 39, 110000),\n  'Dialogue End Time': datetime.datetime(1900, 1, 1, 0, 14, 49, 230000),\n  'isHumor': True,\n  'humorDuration': datetime.timedelta(seconds=2)},\n datetime.datetime(1900, 1, 1, 0, 14, 51, 10000): {'Scene': 'Sheldon and Leonard’s apartment.',\n  'Recipients': ['Sheldon', 'Leonard', 'Howard', 'Raj'],\n  'Speaker': 'Penny',\n  'Dialogue': 'Penny. I work at The Cheesecake Factory.',\n  'Dialogue Start Time': datetime.datetime(1900, 1, 1, 0, 14, 51, 10000),\n  'Dialogue End Time': datetime.datetime(1900, 1, 1, 0, 14, 53, 90000)},\n datetime.datetime(1900, 1, 1, 0, 14, 53, 230000): {'Scene': 'Sheldon and Leonard’s apartment.',\n  'Recipients': ['Sheldon', 'Howard', 'Raj', 'Penny'],\n  'Speaker': 'Leonard',\n  'Dialogue': \"I'll show you the trick with the shower.\",\n  'Dialogue Start Time': datetime.datetime(1900, 1, 1, 0, 14, 53, 230000),\n  'Dialogue End Time': datetime.datetime(1900, 1, 1, 0, 14, 55, 190000)},\n datetime.datetime(1900, 1, 1, 0, 14, 56, 80000): {'Scene': 'Sheldon and Leonard’s apartment.',\n  'Recipients': ['Sheldon', 'Leonard', 'Raj', 'Penny'],\n  'Speaker': 'Howard',\n  'Dialogue': 'Bonne douche.',\n  'Dialogue Start Time': datetime.datetime(1900, 1, 1, 0, 14, 56, 80000),\n  'Dialogue End Time': datetime.datetime(1900, 1, 1, 0, 14, 57, 80000)},\n datetime.datetime(1900, 1, 1, 0, 14, 58, 20000): {'Scene': 'Sheldon and Leonard’s apartment.',\n  'Recipients': ['Sheldon', 'Leonard', 'Howard', 'Raj'],\n  'Speaker': 'Penny',\n  'Dialogue': \"I'm sorry?\",\n  'Dialogue Start Time': datetime.datetime(1900, 1, 1, 0, 14, 58, 20000),\n  'Dialogue End Time': datetime.datetime(1900, 1, 1, 0, 14, 59, 110000)},\n datetime.datetime(1900, 1, 1, 0, 14, 59, 150000): {'Scene': 'Sheldon and Leonard’s apartment.',\n  'Recipients': ['Sheldon', 'Leonard', 'Raj', 'Penny'],\n  'Speaker': 'Howard',\n  'Dialogue': \"It's French for good shower.  It's a sentiment I can express in six languages.\",\n  'Dialogue Start Time': datetime.datetime(1900, 1, 1, 0, 14, 59, 150000),\n  'Dialogue End Time': datetime.datetime(1900, 1, 1, 0, 15, 4, 60000),\n  'isHumor': True,\n  'humorDuration': datetime.timedelta(seconds=1)},\n datetime.datetime(1900, 1, 1, 0, 15, 5, 30000): {'Scene': 'Sheldon and Leonard’s apartment.',\n  'Recipients': ['Sheldon', 'Howard', 'Raj', 'Penny'],\n  'Speaker': 'Leonard',\n  'Dialogue': 'Save it for your blog, Howard.',\n  'Dialogue Start Time': datetime.datetime(1900, 1, 1, 0, 15, 5, 30000),\n  'Dialogue End Time': datetime.datetime(1900, 1, 1, 0, 15, 6, 200000)},\n datetime.datetime(1900, 1, 1, 0, 15, 14, 220000): {'Scene': 'In the bathroom.',\n  'Recipients': ['Sheldon', 'Howard', 'Raj', 'Penny'],\n  'Speaker': 'Leonard',\n  'Dialogue': \"All right, there it goes. It sticks. I'm sorry.\",\n  'Dialogue Start Time': datetime.datetime(1900, 1, 1, 0, 15, 14, 220000),\n  'Dialogue End Time': datetime.datetime(1900, 1, 1, 0, 15, 17, 60000)},\n datetime.datetime(1900, 1, 1, 0, 15, 17, 90000): {'Scene': 'In the bathroom.',\n  'Recipients': ['Sheldon', 'Leonard', 'Howard', 'Raj'],\n  'Speaker': 'Penny',\n  'Dialogue': 'Okay, thanks.',\n  'Dialogue Start Time': datetime.datetime(1900, 1, 1, 0, 15, 17, 90000),\n  'Dialogue End Time': datetime.datetime(1900, 1, 1, 0, 15, 18, 220000)},\n datetime.datetime(1900, 1, 1, 0, 15, 22, 20000): {'Scene': 'In the bathroom.',\n  'Recipients': ['Sheldon', 'Leonard', 'Howard', 'Raj'],\n  'Speaker': 'Penny',\n  'Dialogue': 'Hey, Leonard? ',\n  'Dialogue Start Time': datetime.datetime(1900, 1, 1, 0, 15, 22, 20000),\n  'Dialogue End Time': datetime.datetime(1900, 1, 1, 0, 15, 24, 170000),\n  'isHumor': True,\n  'humorDuration': datetime.timedelta(seconds=2)},\n datetime.datetime(1900, 1, 1, 0, 15, 26, 230000): {'Scene': 'In the bathroom.',\n  'Recipients': ['Sheldon', 'Leonard', 'Howard', 'Raj'],\n  'Speaker': 'Penny',\n  'Dialogue': 'Can I ask you a favor?',\n  'Dialogue Start Time': datetime.datetime(1900, 1, 1, 0, 15, 26, 230000),\n  'Dialogue End Time': datetime.datetime(1900, 1, 1, 0, 15, 28, 140000)},\n datetime.datetime(1900, 1, 1, 0, 15, 28, 170000): {'Scene': 'In the bathroom.',\n  'Recipients': ['Sheldon', 'Howard', 'Raj', 'Penny'],\n  'Speaker': 'Leonard',\n  'Dialogue': 'A favor? Sure, you can ask me a favor. I would do you a favor for you.',\n  'Dialogue Start Time': datetime.datetime(1900, 1, 1, 0, 15, 28, 170000),\n  'Dialogue End Time': datetime.datetime(1900, 1, 1, 0, 15, 33, 100000),\n  'isHumor': True,\n  'humorDuration': datetime.timedelta(seconds=1)},\n datetime.datetime(1900, 1, 1, 0, 15, 34, 90000): {'Scene': 'In the bathroom.',\n  'Recipients': ['Sheldon', 'Leonard', 'Howard', 'Raj'],\n  'Speaker': 'Penny',\n  'Dialogue': \"It's okay if you say no.\",\n  'Dialogue Start Time': datetime.datetime(1900, 1, 1, 0, 15, 34, 90000),\n  'Dialogue End Time': datetime.datetime(1900, 1, 1, 0, 15, 35, 180000)},\n datetime.datetime(1900, 1, 1, 0, 15, 35, 230000): {'Scene': 'In the bathroom.',\n  'Recipients': ['Sheldon', 'Howard', 'Raj', 'Penny'],\n  'Speaker': 'Leonard',\n  'Dialogue': \"I'll probably say yes.\",\n  'Dialogue Start Time': datetime.datetime(1900, 1, 1, 0, 15, 35, 230000),\n  'Dialogue End Time': datetime.datetime(1900, 1, 1, 0, 15, 37, 120000),\n  'isHumor': True,\n  'humorDuration': datetime.timedelta(seconds=1)},\n datetime.datetime(1900, 1, 1, 0, 15, 38, 180000): {'Scene': 'In the bathroom.',\n  'Recipients': ['Sheldon', 'Leonard', 'Howard', 'Raj'],\n  'Speaker': 'Penny',\n  'Dialogue': \"It's just not the kind of thing you ask a guy you just met.\",\n  'Dialogue Start Time': datetime.datetime(1900, 1, 1, 0, 15, 38, 180000),\n  'Dialogue End Time': datetime.datetime(1900, 1, 1, 0, 15, 42, 20000)},\n datetime.datetime(1900, 1, 1, 0, 15, 48, 190000): {'Scene': 'Leonard and Sheldon, Inside Leonard’s car',\n  'Recipients': ['Leonard'],\n  'Speaker': 'Sheldon',\n  'Dialogue': 'I really think we should examine the chain of causality here.',\n  'Dialogue Start Time': datetime.datetime(1900, 1, 1, 0, 15, 48, 190000),\n  'Dialogue End Time': datetime.datetime(1900, 1, 1, 0, 15, 51, 210000)},\n datetime.datetime(1900, 1, 1, 0, 15, 51, 230000): {'Scene': 'Leonard and Sheldon, Inside Leonard’s car',\n  'Recipients': ['Sheldon'],\n  'Speaker': 'Leonard',\n  'Dialogue': 'Must we? ',\n  'Dialogue Start Time': datetime.datetime(1900, 1, 1, 0, 15, 51, 230000),\n  'Dialogue End Time': datetime.datetime(1900, 1, 1, 0, 15, 53, 90000)},\n datetime.datetime(1900, 1, 1, 0, 16, 7, 220000): {'Scene': 'Leonard and Sheldon, Inside Leonard’s car',\n  'Recipients': ['Sheldon'],\n  'Speaker': 'Leonard',\n  'Dialogue': 'She asked me to do her a favor, Sheldon.',\n  'Dialogue Start Time': datetime.datetime(1900, 1, 1, 0, 16, 7, 220000),\n  'Dialogue End Time': datetime.datetime(1900, 1, 1, 0, 16, 10, 50000)},\n datetime.datetime(1900, 1, 1, 0, 16, 10, 140000): {'Scene': 'Leonard and Sheldon, Inside Leonard’s car',\n  'Recipients': ['Leonard'],\n  'Speaker': 'Sheldon',\n  'Dialogue': 'Yes, well, that may be the proximal cause of our journey, but we both know it only exists in contradistinction to the higher level distal cause.',\n  'Dialogue Start Time': datetime.datetime(1900, 1, 1, 0, 16, 10, 140000),\n  'Dialogue End Time': datetime.datetime(1900, 1, 1, 0, 16, 17, 130000)},\n datetime.datetime(1900, 1, 1, 0, 16, 17, 160000): {'Scene': 'Leonard and Sheldon, Inside Leonard’s car',\n  'Recipients': ['Sheldon'],\n  'Speaker': 'Leonard',\n  'Dialogue': 'Which is? ',\n  'Dialogue Start Time': datetime.datetime(1900, 1, 1, 0, 16, 17, 160000),\n  'Dialogue End Time': datetime.datetime(1900, 1, 1, 0, 16, 19, 220000),\n  'isHumor': True,\n  'humorDuration': datetime.timedelta(seconds=2)},\n datetime.datetime(1900, 1, 1, 0, 16, 21, 60000): {'Scene': 'Leonard and Sheldon, Inside Leonard’s car',\n  'Recipients': ['Sheldon'],\n  'Speaker': 'Leonard',\n  'Dialogue': \"That's a biological impossibility. And you didn't have to come.\",\n  'Dialogue Start Time': datetime.datetime(1900, 1, 1, 0, 16, 21, 60000),\n  'Dialogue End Time': datetime.datetime(1900, 1, 1, 0, 16, 24, 180000)},\n datetime.datetime(1900, 1, 1, 0, 16, 24, 210000): {'Scene': 'Leonard and Sheldon, Inside Leonard’s car',\n  'Recipients': ['Sheldon', 'Leonard'],\n  'Speaker': 'sheldon',\n  'Dialogue': 'Right, I could have stayed behind and watch Wolowitz try to hit on Penny',\n  'Dialogue Start Time': datetime.datetime(1900, 1, 1, 0, 16, 24, 210000),\n  'Dialogue End Time': datetime.datetime(1900, 1, 1, 0, 16, 27, 210000)},\n datetime.datetime(1900, 1, 1, 0, 16, 28): {'Scene': 'Leonard and Sheldon, Inside Leonard’s car',\n  'Recipients': ['Leonard'],\n  'Speaker': 'Sheldon',\n  'Dialogue': 'in Russian, Arabic and Farsi.',\n  'Dialogue Start Time': datetime.datetime(1900, 1, 1, 0, 16, 28),\n  'Dialogue End Time': datetime.datetime(1900, 1, 1, 0, 16, 29, 140000),\n  'isHumor': True,\n  'humorDuration': datetime.timedelta(seconds=1)},\n datetime.datetime(1900, 1, 1, 0, 16, 30, 130000): {'Scene': 'Leonard and Sheldon, Inside Leonard’s car',\n  'Recipients': ['Leonard'],\n  'Speaker': 'Sheldon',\n  'Dialogue': \"Why can't she get her own TV?\",\n  'Dialogue Start Time': datetime.datetime(1900, 1, 1, 0, 16, 30, 130000),\n  'Dialogue End Time': datetime.datetime(1900, 1, 1, 0, 16, 32, 60000)},\n datetime.datetime(1900, 1, 1, 0, 16, 32, 110000): {'Scene': 'Leonard and Sheldon, Inside Leonard’s car',\n  'Recipients': ['Sheldon'],\n  'Speaker': 'Leonard',\n  'Dialogue': 'Come on, you know how it is with breakups.',\n  'Dialogue Start Time': datetime.datetime(1900, 1, 1, 0, 16, 32, 110000),\n  'Dialogue End Time': datetime.datetime(1900, 1, 1, 0, 16, 34, 80000)},\n datetime.datetime(1900, 1, 1, 0, 16, 34, 100000): {'Scene': 'Leonard and Sheldon, Inside Leonard’s car',\n  'Recipients': ['Leonard'],\n  'Speaker': 'Sheldon',\n  'Dialogue': \"No, I don't... and neither do you.\",\n  'Dialogue Start Time': datetime.datetime(1900, 1, 1, 0, 16, 34, 100000),\n  'Dialogue End Time': datetime.datetime(1900, 1, 1, 0, 16, 36, 130000)},\n datetime.datetime(1900, 1, 1, 0, 16, 37, 180000): {'Scene': 'Leonard and Sheldon, Inside Leonard’s car',\n  'Recipients': ['Sheldon'],\n  'Speaker': 'Leonard',\n  'Dialogue': 'I broke up with Joyce Kim.',\n  'Dialogue Start Time': datetime.datetime(1900, 1, 1, 0, 16, 37, 180000),\n  'Dialogue End Time': datetime.datetime(1900, 1, 1, 0, 16, 39, 50000)},\n datetime.datetime(1900, 1, 1, 0, 16, 39, 80000): {'Scene': 'Leonard and Sheldon, Inside Leonard’s car',\n  'Recipients': ['Leonard'],\n  'Speaker': 'Sheldon',\n  'Dialogue': 'You did not break up with Joyce Kim. She defected to North Korea.',\n  'Dialogue Start Time': datetime.datetime(1900, 1, 1, 0, 16, 39, 80000),\n  'Dialogue End Time': datetime.datetime(1900, 1, 1, 0, 16, 42, 140000),\n  'isHumor': True,\n  'humorDuration': datetime.timedelta(seconds=1)},\n datetime.datetime(1900, 1, 1, 0, 16, 42, 210000): {'Scene': 'Leonard and Sheldon, Inside Leonard’s car',\n  'Recipients': ['Sheldon'],\n  'Speaker': 'Leonard',\n  'Dialogue': 'To mend her broken heart.',\n  'Dialogue Start Time': datetime.datetime(1900, 1, 1, 0, 16, 42, 210000),\n  'Dialogue End Time': datetime.datetime(1900, 1, 1, 0, 16, 44, 130000),\n  'isHumor': True,\n  'humorDuration': datetime.timedelta(seconds=4)},\n datetime.datetime(1900, 1, 1, 0, 16, 48, 10000): {'Scene': 'Leonard and Sheldon, Inside Leonard’s car',\n  'Recipients': ['Sheldon'],\n  'Speaker': 'Leonard',\n  'Dialogue': \"This situation is much less complicated. There's some kind of dispute between Penny and her ex-boyfriend as to who gets custody of the TV. She just wanted to avoid having a scene with him.\",\n  'Dialogue Start Time': datetime.datetime(1900, 1, 1, 0, 16, 48, 10000),\n  'Dialogue End Time': datetime.datetime(1900, 1, 1, 0, 16, 57, 100000)},\n datetime.datetime(1900, 1, 1, 0, 16, 57, 130000): {'Scene': 'Leonard and Sheldon, Inside Leonard’s car',\n  'Recipients': ['Sheldon'],\n  'Speaker': 'Leonard',\n  'Dialogue': \"No, there's not going to be a scene. There's two of us and one of him.\",\n  'Dialogue Start Time': datetime.datetime(1900, 1, 1, 0, 16, 57, 130000),\n  'Dialogue End Time': datetime.datetime(1900, 1, 1, 0, 17, 3, 140000)},\n datetime.datetime(1900, 1, 1, 0, 17, 3, 210000): {'Scene': 'Leonard and Sheldon, Inside Leonard’s car',\n  'Recipients': ['Leonard'],\n  'Speaker': 'Sheldon',\n  'Dialogue': \"Leonard, the two of us can't even carry a TV.\",\n  'Dialogue Start Time': datetime.datetime(1900, 1, 1, 0, 17, 3, 210000),\n  'Dialogue End Time': datetime.datetime(1900, 1, 1, 0, 17, 6, 120000),\n  'isHumor': True,\n  'humorDuration': datetime.timedelta(seconds=2)},\n datetime.datetime(1900, 1, 1, 0, 17, 8, 150000): {'Scene': 'Back at the apartment.',\n  'Recipients': ['Raj', 'Howard'],\n  'Speaker': 'Penny',\n  'Dialogue': 'So, you guys work with Leonard and Sheldon at the university?',\n  'Dialogue Start Time': datetime.datetime(1900, 1, 1, 0, 17, 8, 150000),\n  'Dialogue End Time': datetime.datetime(1900, 1, 1, 0, 17, 11, 120000)},\n datetime.datetime(1900, 1, 1, 0, 17, 17, 70000): {'Scene': 'Back at the apartment.',\n  'Recipients': ['Raj', 'Howard'],\n  'Speaker': 'Penny',\n  'Dialogue': \"I'm sorry, do you speak English?\",\n  'Dialogue Start Time': datetime.datetime(1900, 1, 1, 0, 17, 17, 70000),\n  'Dialogue End Time': datetime.datetime(1900, 1, 1, 0, 17, 19, 70000)},\n datetime.datetime(1900, 1, 1, 0, 17, 20, 40000): {'Scene': 'Back at the apartment.',\n  'Recipients': ['Raj', 'Penny'],\n  'Speaker': 'Howard',\n  'Dialogue': \"He speaks English. He just can't speak to women.\",\n  'Dialogue Start Time': datetime.datetime(1900, 1, 1, 0, 17, 20, 40000),\n  'Dialogue End Time': datetime.datetime(1900, 1, 1, 0, 17, 22, 200000),\n  'isHumor': True,\n  'humorDuration': datetime.timedelta(seconds=1)},\n datetime.datetime(1900, 1, 1, 0, 17, 23, 170000): {'Scene': 'Back at the apartment.',\n  'Recipients': ['Raj', 'Howard'],\n  'Speaker': 'Penny',\n  'Dialogue': 'Really? Why?',\n  'Dialogue Start Time': datetime.datetime(1900, 1, 1, 0, 17, 23, 170000),\n  'Dialogue End Time': datetime.datetime(1900, 1, 1, 0, 17, 24, 230000)},\n datetime.datetime(1900, 1, 1, 0, 17, 25, 110000): {'Scene': 'Back at the apartment.',\n  'Recipients': ['Raj', 'Penny'],\n  'Speaker': 'Howard',\n  'Dialogue': \"He's kind of a nerd.\",\n  'Dialogue Start Time': datetime.datetime(1900, 1, 1, 0, 17, 25, 110000),\n  'Dialogue End Time': datetime.datetime(1900, 1, 1, 0, 17, 26, 190000),\n  'isHumor': True,\n  'humorDuration': datetime.timedelta(seconds=3)},\n datetime.datetime(1900, 1, 1, 0, 17, 29, 190000): {'Scene': 'Back at the apartment.',\n  'Recipients': ['Raj', 'Penny'],\n  'Speaker': 'Howard',\n  'Dialogue': 'Juice box?',\n  'Dialogue Start Time': datetime.datetime(1900, 1, 1, 0, 17, 29, 190000),\n  'Dialogue End Time': datetime.datetime(1900, 1, 1, 0, 17, 30, 190000),\n  'isHumor': True,\n  'humorDuration': datetime.timedelta(seconds=4)},\n datetime.datetime(1900, 1, 1, 0, 17, 36, 20000): {'Scene': 'Outside Penny’s old apartment building.',\n  'Recipients': ['Sheldon'],\n  'Speaker': 'Leonard',\n  'Dialogue': \"I'll do the talking.\",\n  'Dialogue Start Time': datetime.datetime(1900, 1, 1, 0, 17, 36, 20000),\n  'Dialogue End Time': datetime.datetime(1900, 1, 1, 0, 17, 37, 40000)},\n datetime.datetime(1900, 1, 1, 0, 17, 37, 160000): {'Scene': 'Outside Penny’s old apartment building.',\n  'Recipients': ['Leonard', 'Sheldon'],\n  'Speaker': 'Voice from buzzer',\n  'Dialogue': 'Yeah? ',\n  'Dialogue Start Time': datetime.datetime(1900, 1, 1, 0, 17, 37, 160000),\n  'Dialogue End Time': datetime.datetime(1900, 1, 1, 0, 17, 40, 110000)},\n datetime.datetime(1900, 1, 1, 0, 17, 40, 150000): {'Scene': 'Outside Penny’s old apartment building.',\n  'Recipients': ['Leonard', 'Sheldon'],\n  'Speaker': 'sheldon',\n  'Dialogue': 'Hello.',\n  'Dialogue Start Time': datetime.datetime(1900, 1, 1, 0, 17, 40, 150000),\n  'Dialogue End Time': datetime.datetime(1900, 1, 1, 0, 17, 42, 50000),\n  'isHumor': True,\n  'humorDuration': datetime.timedelta(seconds=2)},\n datetime.datetime(1900, 1, 1, 0, 17, 44, 120000): {'Scene': 'Outside Penny’s old apartment building.',\n  'Recipients': ['Leonard', 'Sheldon'],\n  'Speaker': 'Voice ',\n  'Dialogue': 'Get lost.',\n  'Dialogue Start Time': datetime.datetime(1900, 1, 1, 0, 17, 44, 120000),\n  'Dialogue End Time': datetime.datetime(1900, 1, 1, 0, 17, 47, 80000)},\n datetime.datetime(1900, 1, 1, 0, 17, 47, 110000): {'Scene': 'Outside Penny’s old apartment building.',\n  'Recipients': ['Leonard'],\n  'Speaker': 'Sheldon',\n  'Dialogue': 'Okay, thanks for you time.',\n  'Dialogue Start Time': datetime.datetime(1900, 1, 1, 0, 17, 47, 110000),\n  'Dialogue End Time': datetime.datetime(1900, 1, 1, 0, 17, 48, 160000),\n  'isHumor': True,\n  'humorDuration': datetime.timedelta(seconds=1)},\n datetime.datetime(1900, 1, 1, 0, 17, 49, 50000): {'Scene': 'Outside Penny’s old apartment building.',\n  'Recipients': ['Sheldon'],\n  'Speaker': 'Leonard',\n  'Dialogue': \"We're not going to give up just like that.\",\n  'Dialogue Start Time': datetime.datetime(1900, 1, 1, 0, 17, 49, 50000),\n  'Dialogue End Time': datetime.datetime(1900, 1, 1, 0, 17, 51, 30000)},\n datetime.datetime(1900, 1, 1, 0, 17, 51, 60000): {'Scene': 'Outside Penny’s old apartment building.',\n  'Recipients': ['Leonard'],\n  'Speaker': 'Sheldon',\n  'Dialogue': \"Leonard, the TV's in the building. We've been denied access to the building, ergo, we are done.\",\n  'Dialogue Start Time': datetime.datetime(1900, 1, 1, 0, 17, 51, 60000),\n  'Dialogue End Time': datetime.datetime(1900, 1, 1, 0, 17, 55, 130000)},\n datetime.datetime(1900, 1, 1, 0, 17, 55, 190000): {'Scene': 'Outside Penny’s old apartment building.',\n  'Recipients': ['Sheldon'],\n  'Speaker': 'Leonard',\n  'Dialogue': 'Excuse me. If I were to give up on the first little hitch, I never would have identified the fingerprints of string theory in the aftermath of the Big Bang.',\n  'Dialogue Start Time': datetime.datetime(1900, 1, 1, 0, 17, 55, 190000),\n  'Dialogue End Time': datetime.datetime(1900, 1, 1, 0, 18, 3, 90000),\n  'isHumor': True,\n  'humorDuration': datetime.timedelta(seconds=1)},\n datetime.datetime(1900, 1, 1, 0, 18, 4, 170000): {'Scene': 'Outside Penny’s old apartment building.',\n  'Recipients': ['Leonard'],\n  'Speaker': 'Sheldon',\n  'Dialogue': \"My apologies. What's your plan?\",\n  'Dialogue Start Time': datetime.datetime(1900, 1, 1, 0, 18, 4, 170000),\n  'Dialogue End Time': datetime.datetime(1900, 1, 1, 0, 18, 6, 190000)},\n datetime.datetime(1900, 1, 1, 0, 18, 20, 230000): {'Scene': 'Outside Penny’s old apartment building.',\n  'Recipients': ['Leonard'],\n  'Speaker': 'Sheldon',\n  'Dialogue': \"It's just a privilege to watch your mind at work.\",\n  'Dialogue Start Time': datetime.datetime(1900, 1, 1, 0, 18, 20, 230000),\n  'Dialogue End Time': datetime.datetime(1900, 1, 1, 0, 18, 23, 120000),\n  'isHumor': True,\n  'humorDuration': datetime.timedelta(seconds=1)},\n datetime.datetime(1900, 1, 1, 0, 18, 24, 170000): {'Scene': 'Outside Penny’s old apartment building.',\n  'Recipients': ['Sheldon'],\n  'Speaker': 'Leonard',\n  'Dialogue': 'Come on, we have a combined IQ of 360. We should be able to figure out how to get into a stupid building.',\n  'Dialogue Start Time': datetime.datetime(1900, 1, 1, 0, 18, 24, 170000),\n  'Dialogue End Time': datetime.datetime(1900, 1, 1, 0, 18, 30, 100000)},\n datetime.datetime(1900, 1, 1, 0, 18, 34, 130000): {'Scene': 'Outside Penny’s old apartment building.',\n  'Recipients': ['Leonard'],\n  'Speaker': 'Sheldon',\n  'Dialogue': 'What do you think their combined IQ is?',\n  'Dialogue Start Time': datetime.datetime(1900, 1, 1, 0, 18, 34, 130000),\n  'Dialogue End Time': datetime.datetime(1900, 1, 1, 0, 18, 36, 40000)},\n datetime.datetime(1900, 1, 1, 0, 18, 36, 70000): {'Scene': 'Outside Penny’s old apartment building.',\n  'Recipients': ['Sheldon'],\n  'Speaker': 'Leonard',\n  'Dialogue': 'Just grab the door!',\n  'Dialogue Start Time': datetime.datetime(1900, 1, 1, 0, 18, 36, 70000),\n  'Dialogue End Time': datetime.datetime(1900, 1, 1, 0, 18, 37, 70000),\n  'isHumor': True,\n  'humorDuration': datetime.timedelta(seconds=2)},\n datetime.datetime(1900, 1, 1, 0, 18, 39, 230000): {'Scene': 'Outside Penny’s ex-boyfriend’s apartment.',\n  'Recipients': ['Sheldon', 'Enormousman'],\n  'Speaker': 'Leonard',\n  'Dialogue': \"This is it. I'll do the talking.\",\n  'Dialogue Start Time': datetime.datetime(1900, 1, 1, 0, 18, 39, 230000),\n  'Dialogue End Time': datetime.datetime(1900, 1, 1, 0, 18, 43, 170000)},\n datetime.datetime(1900, 1, 1, 0, 18, 43, 230000): {'Scene': 'Outside Penny’s ex-boyfriend’s apartment.',\n  'Recipients': ['Leonard', 'Enormousman'],\n  'Speaker': 'Sheldon',\n  'Dialogue': \"Good thinking. I'll just be the muscle.\",\n  'Dialogue Start Time': datetime.datetime(1900, 1, 1, 0, 18, 43, 230000),\n  'Dialogue End Time': datetime.datetime(1900, 1, 1, 0, 18, 46, 30000),\n  'isHumor': True,\n  'humorDuration': datetime.timedelta(seconds=7)},\n datetime.datetime(1900, 1, 1, 0, 18, 53, 190000): {'Scene': 'Outside Penny’s ex-boyfriend’s apartment.',\n  'Recipients': ['Leonard', 'Sheldon', 'Enormousman'],\n  'Speaker': 'Enormous man',\n  'Dialogue': 'Yeah?',\n  'Dialogue Start Time': datetime.datetime(1900, 1, 1, 0, 18, 53, 190000),\n  'Dialogue End Time': datetime.datetime(1900, 1, 1, 0, 18, 54, 190000)},\n datetime.datetime(1900, 1, 1, 0, 18, 54, 230000): {'Scene': 'Outside Penny’s ex-boyfriend’s apartment.',\n  'Recipients': ['Sheldon', 'Enormousman'],\n  'Speaker': 'Leonard',\n  'Dialogue': \"I'm Leonard, this is Sheldon.\",\n  'Dialogue Start Time': datetime.datetime(1900, 1, 1, 0, 18, 54, 230000),\n  'Dialogue End Time': datetime.datetime(1900, 1, 1, 0, 18, 56, 150000)},\n datetime.datetime(1900, 1, 1, 0, 18, 57, 20000): {'Scene': 'Outside Penny’s ex-boyfriend’s apartment.',\n  'Recipients': ['Leonard', 'Enormousman'],\n  'Speaker': 'Sheldon',\n  'Dialogue': 'From the intercom.',\n  'Dialogue Start Time': datetime.datetime(1900, 1, 1, 0, 18, 57, 20000),\n  'Dialogue End Time': datetime.datetime(1900, 1, 1, 0, 18, 58, 30000),\n  'isHumor': True,\n  'humorDuration': datetime.timedelta(seconds=2)},\n datetime.datetime(1900, 1, 1, 0, 19, 0, 40000): {'Scene': 'Outside Penny’s ex-boyfriend’s apartment.',\n  'Recipients': ['Leonard', 'Sheldon', 'Enormousman'],\n  'Speaker': 'Man',\n  'Dialogue': 'How the hell did you get in the building?',\n  'Dialogue Start Time': datetime.datetime(1900, 1, 1, 0, 19, 0, 40000),\n  'Dialogue End Time': datetime.datetime(1900, 1, 1, 0, 19, 1, 210000)},\n datetime.datetime(1900, 1, 1, 0, 19, 3, 60000): {'Scene': 'Outside Penny’s ex-boyfriend’s apartment.',\n  'Recipients': ['Sheldon', 'Enormousman'],\n  'Speaker': 'Leonard',\n  'Dialogue': \"We're scientists.\",\n  'Dialogue Start Time': datetime.datetime(1900, 1, 1, 0, 19, 3, 60000),\n  'Dialogue End Time': datetime.datetime(1900, 1, 1, 0, 19, 4, 160000),\n  'isHumor': True,\n  'humorDuration': datetime.timedelta(seconds=3)},\n datetime.datetime(1900, 1, 1, 0, 19, 7, 20000): {'Scene': 'Outside Penny’s ex-boyfriend’s apartment.',\n  'Recipients': ['Leonard', 'Enormousman'],\n  'Speaker': 'Sheldon',\n  'Dialogue': 'Tell him about our IQ.',\n  'Dialogue Start Time': datetime.datetime(1900, 1, 1, 0, 19, 7, 20000),\n  'Dialogue End Time': datetime.datetime(1900, 1, 1, 0, 19, 8, 110000)},\n datetime.datetime(1900, 1, 1, 0, 19, 21, 90000): {'Scene': 'Outside the apartment building. Leonard and Sheldon exit. They are not wearing trousers.',\n  'Recipients': ['Leonard'],\n  'Speaker': 'Sheldon',\n  'Dialogue': 'Leonard... ',\n  'Dialogue Start Time': datetime.datetime(1900, 1, 1, 0, 19, 21, 90000),\n  'Dialogue End Time': datetime.datetime(1900, 1, 1, 0, 19, 23, 10000)},\n datetime.datetime(1900, 1, 1, 0, 19, 23, 40000): {'Scene': 'Outside the apartment building. Leonard and Sheldon exit. They are not wearing trousers.',\n  'Recipients': ['Leonard'],\n  'Speaker': 'Sheldon',\n  'Dialogue': 'My mom bought me those pants. ',\n  'Dialogue Start Time': datetime.datetime(1900, 1, 1, 0, 19, 23, 40000),\n  'Dialogue End Time': datetime.datetime(1900, 1, 1, 0, 19, 25, 130000),\n  'isHumor': True,\n  'humorDuration': datetime.timedelta(seconds=2)},\n datetime.datetime(1900, 1, 1, 0, 19, 27, 10000): {'Scene': 'Outside the apartment building. Leonard and Sheldon exit. They are not wearing trousers.',\n  'Recipients': ['Leonard'],\n  'Speaker': 'Sheldon',\n  'Dialogue': \"You're going to have to call her.\",\n  'Dialogue Start Time': datetime.datetime(1900, 1, 1, 0, 19, 27, 10000),\n  'Dialogue End Time': datetime.datetime(1900, 1, 1, 0, 19, 28, 210000),\n  'isHumor': True,\n  'humorDuration': datetime.timedelta(seconds=1)},\n datetime.datetime(1900, 1, 1, 0, 19, 31, 150000): {'Scene': 'On the stairs of Sheldon and Leonard’s building.',\n  'Recipients': ['Sheldon'],\n  'Speaker': 'Leonard',\n  'Dialogue': 'Sheldon, I am so sorry I dragged you through this.',\n  'Dialogue Start Time': datetime.datetime(1900, 1, 1, 0, 19, 31, 150000),\n  'Dialogue End Time': datetime.datetime(1900, 1, 1, 0, 19, 34, 100000)},\n datetime.datetime(1900, 1, 1, 0, 19, 34, 160000): {'Scene': 'On the stairs of Sheldon and Leonard’s building.',\n  'Recipients': ['Leonard'],\n  'Speaker': 'Sheldon',\n  'Dialogue': \"It's okay. It wasn't my first pantsing and it won't be my last.\",\n  'Dialogue Start Time': datetime.datetime(1900, 1, 1, 0, 19, 34, 160000),\n  'Dialogue End Time': datetime.datetime(1900, 1, 1, 0, 19, 38, 80000),\n  'isHumor': True,\n  'humorDuration': datetime.timedelta(seconds=1)},\n datetime.datetime(1900, 1, 1, 0, 19, 39, 60000): {'Scene': 'On the stairs of Sheldon and Leonard’s building.',\n  'Recipients': ['Sheldon'],\n  'Speaker': 'Leonard',\n  'Dialogue': 'And you were right about my motives. I was hoping to establish a relationship with Penny that might have someday led to sex.',\n  'Dialogue Start Time': datetime.datetime(1900, 1, 1, 0, 19, 39, 60000),\n  'Dialogue End Time': datetime.datetime(1900, 1, 1, 0, 19, 46, 80000)},\n datetime.datetime(1900, 1, 1, 0, 19, 47, 150000): {'Scene': 'On the stairs of Sheldon and Leonard’s building.',\n  'Recipients': ['Leonard'],\n  'Speaker': 'Sheldon',\n  'Dialogue': 'Well, you got me out of my pants.',\n  'Dialogue Start Time': datetime.datetime(1900, 1, 1, 0, 19, 47, 150000),\n  'Dialogue End Time': datetime.datetime(1900, 1, 1, 0, 19, 49, 100000),\n  'isHumor': True,\n  'humorDuration': datetime.timedelta(seconds=2)},\n datetime.datetime(1900, 1, 1, 0, 19, 51, 140000): {'Scene': 'On the stairs of Sheldon and Leonard’s building.',\n  'Recipients': ['Sheldon'],\n  'Speaker': 'Leonard',\n  'Dialogue': \"Anyway, I've learned my lesson. She's out of my league, I'm done with her. Got my work, one day I'll win the Nobel Prize and then I'll die alone.\",\n  'Dialogue Start Time': datetime.datetime(1900, 1, 1, 0, 19, 51, 140000),\n  'Dialogue End Time': datetime.datetime(1900, 1, 1, 0, 19, 59, 130000)},\n datetime.datetime(1900, 1, 1, 0, 19, 59, 190000): {'Scene': 'On the stairs of Sheldon and Leonard’s building.',\n  'Recipients': ['Leonard'],\n  'Speaker': 'Sheldon',\n  'Dialogue': \"Don't think like that. You're not going to die alone.\",\n  'Dialogue Start Time': datetime.datetime(1900, 1, 1, 0, 19, 59, 190000),\n  'Dialogue End Time': datetime.datetime(1900, 1, 1, 0, 20, 2, 160000)},\n datetime.datetime(1900, 1, 1, 0, 20, 2, 210000): {'Scene': 'On the stairs of Sheldon and Leonard’s building.',\n  'Recipients': ['Sheldon'],\n  'Speaker': 'Leonard',\n  'Dialogue': \"Thank you, Sheldon. You're a good friend.\",\n  'Dialogue Start Time': datetime.datetime(1900, 1, 1, 0, 20, 2, 210000),\n  'Dialogue End Time': datetime.datetime(1900, 1, 1, 0, 20, 5, 50000)},\n datetime.datetime(1900, 1, 1, 0, 20, 7): {'Scene': 'On the stairs of Sheldon and Leonard’s building.',\n  'Recipients': ['Leonard'],\n  'Speaker': 'Sheldon',\n  'Dialogue': \"And you're certainly not going to win a Nobel Prize.\",\n  'Dialogue Start Time': datetime.datetime(1900, 1, 1, 0, 20, 7),\n  'Dialogue End Time': datetime.datetime(1900, 1, 1, 0, 20, 9, 230000),\n  'isHumor': True,\n  'humorDuration': datetime.timedelta(seconds=1)},\n datetime.datetime(1900, 1, 1, 0, 20, 10, 130000): {'Scene': 'Inside Sheldon and Leonard’s apartment.',\n  'Recipients': ['Raj', 'Penny'],\n  'Speaker': 'Howard',\n  'Dialogue': 'This is one of my favorite places to kick back after a quest. They have a great house ale.',\n  'Dialogue Start Time': datetime.datetime(1900, 1, 1, 0, 20, 10, 130000),\n  'Dialogue End Time': datetime.datetime(1900, 1, 1, 0, 20, 15, 210000)},\n datetime.datetime(1900, 1, 1, 0, 20, 16, 110000): {'Scene': 'Inside Sheldon and Leonard’s apartment.',\n  'Recipients': ['Howard', 'Raj'],\n  'Speaker': 'Penny',\n  'Dialogue': 'Cool tiger.',\n  'Dialogue Start Time': datetime.datetime(1900, 1, 1, 0, 20, 16, 110000),\n  'Dialogue End Time': datetime.datetime(1900, 1, 1, 0, 20, 17, 140000)},\n datetime.datetime(1900, 1, 1, 0, 20, 17, 170000): {'Scene': 'Inside Sheldon and Leonard’s apartment.',\n  'Recipients': ['Raj', 'Penny'],\n  'Speaker': 'Howard',\n  'Dialogue': \"Yeah, I've had him since level ten.\",\n  'Dialogue Start Time': datetime.datetime(1900, 1, 1, 0, 20, 17, 170000),\n  'Dialogue End Time': datetime.datetime(1900, 1, 1, 0, 20, 19, 160000),\n  'isHumor': True,\n  'humorDuration': datetime.timedelta(seconds=1)},\n datetime.datetime(1900, 1, 1, 0, 20, 20, 200000): {'Scene': 'Inside Sheldon and Leonard’s apartment.',\n  'Recipients': ['Raj', 'Penny'],\n  'Speaker': 'Howard',\n  'Dialogue': 'His name is Buttons.',\n  'Dialogue Start Time': datetime.datetime(1900, 1, 1, 0, 20, 20, 200000),\n  'Dialogue End Time': datetime.datetime(1900, 1, 1, 0, 20, 22, 40000),\n  'isHumor': True,\n  'humorDuration': datetime.timedelta(seconds=1)},\n datetime.datetime(1900, 1, 1, 0, 20, 23, 40000): {'Scene': 'Inside Sheldon and Leonard’s apartment.',\n  'Recipients': ['Raj', 'Penny'],\n  'Speaker': 'Howard',\n  'Dialogue': 'Anyway, if you had your own game character we could hang out, maybe go on a quest.',\n  'Dialogue Start Time': datetime.datetime(1900, 1, 1, 0, 20, 23, 40000),\n  'Dialogue End Time': datetime.datetime(1900, 1, 1, 0, 20, 27, 200000)},\n datetime.datetime(1900, 1, 1, 0, 20, 28, 150000): {'Scene': 'Inside Sheldon and Leonard’s apartment.',\n  'Recipients': ['Howard', 'Raj'],\n  'Speaker': 'Penny',\n  'Dialogue': 'That sounds interesting.',\n  'Dialogue Start Time': datetime.datetime(1900, 1, 1, 0, 20, 28, 150000),\n  'Dialogue End Time': datetime.datetime(1900, 1, 1, 0, 20, 30, 150000)},\n datetime.datetime(1900, 1, 1, 0, 20, 30, 230000): {'Scene': 'Inside Sheldon and Leonard’s apartment.',\n  'Recipients': ['Raj', 'Penny'],\n  'Speaker': 'Howard',\n  'Dialogue': \"You'll think about it?\",\n  'Dialogue Start Time': datetime.datetime(1900, 1, 1, 0, 20, 30, 230000),\n  'Dialogue End Time': datetime.datetime(1900, 1, 1, 0, 20, 31, 230000)},\n datetime.datetime(1900, 1, 1, 0, 20, 32, 80000): {'Scene': 'Inside Sheldon and Leonard’s apartment.',\n  'Recipients': ['Howard', 'Raj'],\n  'Speaker': 'Penny',\n  'Dialogue': \"I don't think I'll be able to stop thinking about it.\",\n  'Dialogue Start Time': datetime.datetime(1900, 1, 1, 0, 20, 32, 80000),\n  'Dialogue End Time': datetime.datetime(1900, 1, 1, 0, 20, 34, 200000),\n  'isHumor': True,\n  'humorDuration': datetime.timedelta(seconds=2)},\n datetime.datetime(1900, 1, 1, 0, 20, 36, 190000): {'Scene': 'Inside Sheldon and Leonard’s apartment.',\n  'Recipients': ['Howard', 'Penny'],\n  'Speaker': 'Raj',\n  'Dialogue': 'Smooth.',\n  'Dialogue Start Time': datetime.datetime(1900, 1, 1, 0, 20, 36, 190000),\n  'Dialogue End Time': datetime.datetime(1900, 1, 1, 0, 20, 37, 210000),\n  'isHumor': True,\n  'humorDuration': datetime.timedelta(seconds=3)},\n datetime.datetime(1900, 1, 1, 0, 20, 40, 50000): {'Scene': 'Inside Sheldon and Leonard’s apartment.',\n  'Recipients': ['Howard', 'Raj', 'Penny', 'Sheldon'],\n  'Speaker': 'Leonard',\n  'Dialogue': \"We're home.\",\n  'Dialogue Start Time': datetime.datetime(1900, 1, 1, 0, 20, 40, 50000),\n  'Dialogue End Time': datetime.datetime(1900, 1, 1, 0, 20, 41, 50000)},\n datetime.datetime(1900, 1, 1, 0, 20, 41, 190000): {'Scene': 'Inside Sheldon and Leonard’s apartment.',\n  'Recipients': ['Howard', 'Raj', 'Sheldon', 'Leonard'],\n  'Speaker': 'Penny',\n  'Dialogue': 'My God, what happened?',\n  'Dialogue Start Time': datetime.datetime(1900, 1, 1, 0, 20, 41, 190000),\n  'Dialogue End Time': datetime.datetime(1900, 1, 1, 0, 20, 43, 100000)},\n datetime.datetime(1900, 1, 1, 0, 20, 43, 140000): {'Scene': 'Inside Sheldon and Leonard’s apartment.',\n  'Recipients': ['Howard', 'Raj', 'Penny', 'Sheldon'],\n  'Speaker': 'Leonard',\n  'Dialogue': 'Well, your ex-boyfriend sends his regards and I think the rest is fairly self-explanatory.',\n  'Dialogue Start Time': datetime.datetime(1900, 1, 1, 0, 20, 43, 140000),\n  'Dialogue End Time': datetime.datetime(1900, 1, 1, 0, 20, 48, 130000),\n  'isHumor': True,\n  'humorDuration': datetime.timedelta(seconds=1)},\n datetime.datetime(1900, 1, 1, 0, 20, 49, 60000): {'Scene': 'Inside Sheldon and Leonard’s apartment.',\n  'Recipients': ['Howard', 'Raj', 'Sheldon', 'Leonard'],\n  'Speaker': 'Penny',\n  'Dialogue': \"I'm so sorry. I really thought if you guys went instead of me he wouldn't be such an ass.\",\n  'Dialogue Start Time': datetime.datetime(1900, 1, 1, 0, 20, 49, 60000),\n  'Dialogue End Time': datetime.datetime(1900, 1, 1, 0, 20, 53, 220000)},\n datetime.datetime(1900, 1, 1, 0, 20, 54): {'Scene': 'Inside Sheldon and Leonard’s apartment.',\n  'Recipients': ['Howard', 'Raj', 'Penny', 'Leonard'],\n  'Speaker': 'Sheldon',\n  'Dialogue': 'What is happening to you? That was a valid...? ',\n  'Dialogue Start Time': datetime.datetime(1900, 1, 1, 0, 20, 54),\n  'Dialogue End Time': datetime.datetime(1900, 1, 1, 0, 20, 58, 190000)},\n datetime.datetime(1900, 1, 1, 0, 20, 59, 220000): {'Scene': 'Inside Sheldon and Leonard’s apartment.',\n  'Recipients': ['Howard', 'Raj', 'Sheldon', 'Leonard'],\n  'Speaker': 'Penny',\n  'Dialogue': \"Really, thank you so much for going and trying, you're just... You're so terrific. Really.\",\n  'Dialogue Start Time': datetime.datetime(1900, 1, 1, 0, 20, 59, 220000),\n  'Dialogue End Time': datetime.datetime(1900, 1, 1, 0, 21, 7, 10000),\n  'isHumor': True,\n  'humorDuration': datetime.timedelta(seconds=1)},\n datetime.datetime(1900, 1, 1, 0, 21, 8, 90000): {'Scene': 'Inside Sheldon and Leonard’s apartment.',\n  'Recipients': ['Howard', 'Raj', 'Sheldon', 'Leonard'],\n  'Speaker': 'Penny',\n  'Dialogue': \"Why don't you put some clothes on, I'll get my purse, and dinner is on me, okay?\",\n  'Dialogue Start Time': datetime.datetime(1900, 1, 1, 0, 21, 8, 90000),\n  'Dialogue End Time': datetime.datetime(1900, 1, 1, 0, 21, 12, 20000)},\n datetime.datetime(1900, 1, 1, 0, 21, 12, 50000): {'Scene': 'Inside Sheldon and Leonard’s apartment.',\n  'Recipients': ['Howard', 'Raj', 'Penny', 'Sheldon'],\n  'Speaker': 'Leonard',\n  'Dialogue': 'Really? Great. ',\n  'Dialogue Start Time': datetime.datetime(1900, 1, 1, 0, 21, 12, 50000),\n  'Dialogue End Time': datetime.datetime(1900, 1, 1, 0, 21, 13, 100000)},\n datetime.datetime(1900, 1, 1, 0, 21, 23, 70000): {'Scene': 'Inside Sheldon and Leonard’s apartment.',\n  'Recipients': ['Howard', 'Raj', 'Sheldon'],\n  'Speaker': 'Leonard',\n  'Dialogue': 'Are babies will be smart and beautiful.',\n  'Dialogue Start Time': datetime.datetime(1900, 1, 1, 0, 21, 23, 70000),\n  'Dialogue End Time': datetime.datetime(1900, 1, 1, 0, 21, 25, 130000),\n  'isHumor': True,\n  'humorDuration': datetime.timedelta(seconds=3)},\n datetime.datetime(1900, 1, 1, 0, 21, 28, 60000): {'Scene': 'Inside Sheldon and Leonard’s apartment.',\n  'Recipients': ['Howard', 'Raj', 'Leonard'],\n  'Speaker': 'Sheldon',\n  'Dialogue': 'Not to mention imaginary.',\n  'Dialogue Start Time': datetime.datetime(1900, 1, 1, 0, 21, 28, 60000),\n  'Dialogue End Time': datetime.datetime(1900, 1, 1, 0, 21, 29, 180000),\n  'isHumor': True,\n  'humorDuration': datetime.timedelta(seconds=5)},\n datetime.datetime(1900, 1, 1, 0, 21, 35, 180000): {'Scene': 'All five in Leonard’s car.',\n  'Recipients': ['Howard', 'Raj', 'Penny', 'Sheldon'],\n  'Speaker': 'Leonard',\n  'Dialogue': 'Is Thai food okay with you, Penny?',\n  'Dialogue Start Time': datetime.datetime(1900, 1, 1, 0, 21, 35, 180000),\n  'Dialogue End Time': datetime.datetime(1900, 1, 1, 0, 21, 37, 150000)},\n datetime.datetime(1900, 1, 1, 0, 21, 37, 180000): {'Scene': 'All five in Leonard’s car.',\n  'Recipients': ['Howard', 'Raj', 'Penny', 'Leonard'],\n  'Speaker': 'Sheldon',\n  'Dialogue': \"We can't have Thai food, we had Indian for lunch.\",\n  'Dialogue Start Time': datetime.datetime(1900, 1, 1, 0, 21, 37, 180000),\n  'Dialogue End Time': datetime.datetime(1900, 1, 1, 0, 21, 40, 120000)},\n datetime.datetime(1900, 1, 1, 0, 21, 38, 210000): {'Scene': 'All five in Leonard’s car.',\n  'Recipients': ['Howard', 'Raj', 'Sheldon', 'Leonard'],\n  'Speaker': 'Penny',\n  'Dialogue': 'So?',\n  'Dialogue Start Time': datetime.datetime(1900, 1, 1, 0, 21, 38, 210000),\n  'Dialogue End Time': datetime.datetime(1900, 1, 1, 0, 21, 40, 120000)},\n datetime.datetime(1900, 1, 1, 0, 21, 40, 210000): {'Scene': 'All five in Leonard’s car.',\n  'Recipients': ['Howard', 'Raj', 'Sheldon', 'Leonard'],\n  'Speaker': 'Penny',\n  'Dialogue': 'So?',\n  'Dialogue Start Time': datetime.datetime(1900, 1, 1, 0, 21, 40, 210000),\n  'Dialogue End Time': datetime.datetime(1900, 1, 1, 0, 21, 43, 50000)},\n datetime.datetime(1900, 1, 1, 0, 21, 43, 90000): {'Scene': 'All five in Leonard’s car.',\n  'Recipients': ['Howard', 'Raj', 'Penny', 'Leonard'],\n  'Speaker': 'Sheldon',\n  'Dialogue': \"It would be gastronomically redundant. I can see we're going to have to spell out everything for this girl.\",\n  'Dialogue Start Time': datetime.datetime(1900, 1, 1, 0, 21, 43, 90000),\n  'Dialogue End Time': datetime.datetime(1900, 1, 1, 0, 21, 49, 60000),\n  'isHumor': True,\n  'humorDuration': datetime.timedelta(seconds=1)},\n datetime.datetime(1900, 1, 1, 0, 21, 49, 180000): {'Scene': 'All five in Leonard’s car.',\n  'Recipients': ['Howard', 'Raj', 'Sheldon', 'Leonard'],\n  'Speaker': 'Penny',\n  'Dialogue': 'Any ideas, Raj?',\n  'Dialogue Start Time': datetime.datetime(1900, 1, 1, 0, 21, 49, 180000),\n  'Dialogue End Time': datetime.datetime(1900, 1, 1, 0, 21, 50, 230000)},\n datetime.datetime(1900, 1, 1, 0, 21, 53, 110000): {'Scene': 'All five in Leonard’s car.',\n  'Recipients': ['Raj', 'Penny', 'Sheldon', 'Leonard'],\n  'Speaker': 'Howard',\n  'Dialogue': 'Turn left on Lake Street and head up to Colorado. I know a wonderful little sushi bar that has karaoke.',\n  'Dialogue Start Time': datetime.datetime(1900, 1, 1, 0, 21, 53, 110000),\n  'Dialogue End Time': datetime.datetime(1900, 1, 1, 0, 21, 58, 110000)},\n datetime.datetime(1900, 1, 1, 0, 21, 58, 140000): {'Scene': 'All five in Leonard’s car.',\n  'Recipients': ['Howard', 'Raj', 'Sheldon', 'Leonard'],\n  'Speaker': 'Penny',\n  'Dialogue': 'That sounds like fun.',\n  'Dialogue Start Time': datetime.datetime(1900, 1, 1, 0, 21, 58, 140000),\n  'Dialogue End Time': datetime.datetime(1900, 1, 1, 0, 21, 59, 190000)},\n datetime.datetime(1900, 1, 1, 0, 22, 13, 60000): {'Scene': 'All five in Leonard’s car.',\n  'Recipients': ['Howard', 'Raj', 'Penny', 'Leonard'],\n  'Speaker': 'Sheldon',\n  'Dialogue': \"I don't know what your odds are in the world as a whole, but as far as the population of this car goes, you're a veritable mack daddy.\",\n  'Dialogue Start Time': datetime.datetime(1900, 1, 1, 0, 22, 13, 60000),\n  'Dialogue End Time': datetime.datetime(1900, 1, 1, 0, 22, 19, 100000)}}"
     },
     "execution_count": 191,
     "metadata": {},
     "output_type": "execute_result"
    }
   ],
   "source": [
    "lines_dict"
   ],
>>>>>>> 8188bedd3e73d42be7b48fd85e543ecd64e37e68
   "metadata": {
    "collapsed": false,
    "ExecuteTime": {
     "end_time": "2024-03-05T16:25:47.173499Z",
     "start_time": "2024-03-05T16:25:47.148375Z"
    }
   },
<<<<<<< HEAD
   "outputs": [],
   "source": [
    "# lines_dict"
   ]
=======
   "id": "81fdba5fbe05504a",
   "execution_count": 191
>>>>>>> 8188bedd3e73d42be7b48fd85e543ecd64e37e68
  },
  {
   "cell_type": "code",
   "execution_count": 18,
   "id": "d41905e74be2efb7",
   "metadata": {
    "ExecuteTime": {
     "end_time": "2024-03-05T08:41:41.725631Z",
     "start_time": "2024-03-05T08:41:41.722272Z"
    },
    "collapsed": false
   },
   "outputs": [
    {
     "data": {
      "text/plain": [
       "[1, 7, 17, 24, 50, 52, 74, 78, 100, 104, 110, 117, 119, 135, 139]"
      ]
     },
     "execution_count": 18,
     "metadata": {},
     "output_type": "execute_result"
    }
   ],
   "source": [
    "idxsHumorMissingLine"
   ]
  },
  {
   "cell_type": "code",
   "execution_count": null,
   "id": "ab7f48c3acc7bd4",
   "metadata": {
    "collapsed": false
   },
   "outputs": [],
   "source": [
    "for index, (key, value) in enumerate(humor_dict.items()):\n",
    "    for i in idxsHumorMissingLine:\n",
    "        print(index)"
   ]
  }
 ],
 "metadata": {
  "kernelspec": {
   "display_name": "Python 3 (ipykernel)",
   "language": "python",
   "name": "python3"
  },
  "language_info": {
   "codemirror_mode": {
    "name": "ipython",
    "version": 3
   },
   "file_extension": ".py",
   "mimetype": "text/x-python",
   "name": "python",
   "nbconvert_exporter": "python",
   "pygments_lexer": "ipython3",
   "version": "3.10.12"
  }
 },
 "nbformat": 4,
 "nbformat_minor": 5
}
