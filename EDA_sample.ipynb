{
 "cells": [
  {
   "cell_type": "markdown",
   "id": "37361edd-f18b-455e-a306-289e42a489e4",
   "metadata": {},
   "source": [
    "# The Big Bang Theory Exploratory Data Analysis"
   ]
  },
  {
   "cell_type": "markdown",
   "id": "91e29354-f5cd-4a30-8cbe-abc0f4c50ed3",
   "metadata": {
    "tags": []
   },
   "source": [
    "### Imports:"
   ]
  },
  {
   "cell_type": "code",
   "execution_count": 2,
   "id": "f5c043b3-5369-4a0d-a3ea-ccb6b5f74949",
   "metadata": {
    "tags": []
   },
   "outputs": [],
   "source": [
    "import json\n",
    "import pandas as pd\n",
    "import numpy as np\n",
    "from datetime import datetime"
   ]
  },
  {
   "cell_type": "markdown",
   "id": "51db49bb-fd2a-4501-a25f-1197f02b94f4",
   "metadata": {},
   "source": [
    "## Loading sample data file:"
   ]
  },
  {
   "cell_type": "code",
   "execution_count": null,
   "id": "8e1a8919-43b0-42a9-82d2-48e86b60797a",
   "metadata": {
    "tags": []
   },
   "outputs": [],
   "source": [
    "# with open(\"sample.json\", 'r') as file:\n",
    "#     sampleData = json.load(file)"
   ]
  },
  {
   "cell_type": "code",
   "execution_count": 3,
   "id": "edfef5af-e471-4797-bbe7-01202fbc59bb",
   "metadata": {
    "tags": []
   },
   "outputs": [
    {
     "ename": "FileNotFoundError",
     "evalue": "[Errno 2] No such file or directory: 'DT_2/Raw/S1/The Big Bang_S0104.json'",
     "output_type": "error",
     "traceback": [
      "\u001b[0;31m---------------------------------------------------------------------------\u001b[0m",
      "\u001b[0;31mFileNotFoundError\u001b[0m                         Traceback (most recent call last)",
      "Cell \u001b[0;32mIn[3], line 1\u001b[0m\n\u001b[0;32m----> 1\u001b[0m \u001b[38;5;28;01mwith\u001b[39;00m \u001b[38;5;28;43mopen\u001b[39;49m\u001b[43m(\u001b[49m\u001b[38;5;124;43m\"\u001b[39;49m\u001b[38;5;124;43mDT_2/Raw/S1/The Big Bang_S0104.json\u001b[39;49m\u001b[38;5;124;43m\"\u001b[39;49m\u001b[43m,\u001b[49m\u001b[43m \u001b[49m\u001b[38;5;124;43m'\u001b[39;49m\u001b[38;5;124;43mr\u001b[39;49m\u001b[38;5;124;43m'\u001b[39;49m\u001b[43m)\u001b[49m \u001b[38;5;28;01mas\u001b[39;00m file:\n\u001b[1;32m      2\u001b[0m     sampleData \u001b[38;5;241m=\u001b[39m json\u001b[38;5;241m.\u001b[39mload(file)\n",
      "File \u001b[0;32m~/opt/anaconda3/envs/3350/lib/python3.10/site-packages/IPython/core/interactiveshell.py:284\u001b[0m, in \u001b[0;36m_modified_open\u001b[0;34m(file, *args, **kwargs)\u001b[0m\n\u001b[1;32m    277\u001b[0m \u001b[38;5;28;01mif\u001b[39;00m file \u001b[38;5;129;01min\u001b[39;00m {\u001b[38;5;241m0\u001b[39m, \u001b[38;5;241m1\u001b[39m, \u001b[38;5;241m2\u001b[39m}:\n\u001b[1;32m    278\u001b[0m     \u001b[38;5;28;01mraise\u001b[39;00m \u001b[38;5;167;01mValueError\u001b[39;00m(\n\u001b[1;32m    279\u001b[0m         \u001b[38;5;124mf\u001b[39m\u001b[38;5;124m\"\u001b[39m\u001b[38;5;124mIPython won\u001b[39m\u001b[38;5;124m'\u001b[39m\u001b[38;5;124mt let you open fd=\u001b[39m\u001b[38;5;132;01m{\u001b[39;00mfile\u001b[38;5;132;01m}\u001b[39;00m\u001b[38;5;124m by default \u001b[39m\u001b[38;5;124m\"\u001b[39m\n\u001b[1;32m    280\u001b[0m         \u001b[38;5;124m\"\u001b[39m\u001b[38;5;124mas it is likely to crash IPython. If you know what you are doing, \u001b[39m\u001b[38;5;124m\"\u001b[39m\n\u001b[1;32m    281\u001b[0m         \u001b[38;5;124m\"\u001b[39m\u001b[38;5;124myou can use builtins\u001b[39m\u001b[38;5;124m'\u001b[39m\u001b[38;5;124m open.\u001b[39m\u001b[38;5;124m\"\u001b[39m\n\u001b[1;32m    282\u001b[0m     )\n\u001b[0;32m--> 284\u001b[0m \u001b[38;5;28;01mreturn\u001b[39;00m \u001b[43mio_open\u001b[49m\u001b[43m(\u001b[49m\u001b[43mfile\u001b[49m\u001b[43m,\u001b[49m\u001b[43m \u001b[49m\u001b[38;5;241;43m*\u001b[39;49m\u001b[43margs\u001b[49m\u001b[43m,\u001b[49m\u001b[43m \u001b[49m\u001b[38;5;241;43m*\u001b[39;49m\u001b[38;5;241;43m*\u001b[39;49m\u001b[43mkwargs\u001b[49m\u001b[43m)\u001b[49m\n",
      "\u001b[0;31mFileNotFoundError\u001b[0m: [Errno 2] No such file or directory: 'DT_2/Raw/S1/The Big Bang_S0104.json'"
     ]
    }
   ],
   "source": [
    "with open(\"DT_2/Raw/S1/The Big Bang_S0104.json\", 'r') as file:\n",
    "    sampleData = json.load(file)"
   ]
  },
  {
   "cell_type": "code",
   "execution_count": 27,
   "id": "215f7c06-5d82-437c-9c37-aacd39bf9c4a",
   "metadata": {
    "tags": []
   },
   "outputs": [
    {
     "data": {
      "text/plain": [
       "{'Scene': 'Sheldon and Leonard’s apartment.',\n",
       " 'Participant': ['Sheldon', 'Leonard'],\n",
       " 'GT': 1,\n",
       " 'AV_ID': 'The Big Bang_S0104',\n",
       " 'Humor Start Time': '00:00:19',\n",
       " 'Humor End Time': '00:00:20',\n",
       " 'Dialog Turns 0': {'Recipients': ['Leonard'],\n",
       "  'Speaker': 'Sheldon',\n",
       "  'Dialog': 'Put it on a backburner.',\n",
       "  'Dialog Start time': '00:00:08:00',\n",
       "  'Dialog End time': '00:00:09:09'},\n",
       " 'Dialog Turns 1': {'Recipients': ['Leonard'],\n",
       "  'Speaker': 'Sheldon',\n",
       "  'Dialog': \"Anyway. It occurs to me, If I have ever did perfect time machine, I'd just go into the past and give it to myself. That's eliminating the need for me to invent it in the first place.\",\n",
       "  'Dialog Start time': '00:00:10:09',\n",
       "  'Dialog End time': '00:00:19:09'}}"
      ]
     },
     "execution_count": 27,
     "metadata": {},
     "output_type": "execute_result"
    }
   ],
   "source": [
    "sampleData[\"Dialog 3\"]"
   ]
  },
  {
   "cell_type": "code",
   "execution_count": null,
   "id": "1c7a4e9e-2e2e-4427-a2ff-06522ef2488d",
   "metadata": {},
   "outputs": [],
   "source": [
    "num_dialog_turns = sum(1 for key in sampleData[] if key.startswith('Dialog Turns'))-1"
   ]
  },
  {
   "cell_type": "code",
   "execution_count": 26,
   "id": "16bac2f2-3ff0-4825-8108-520c8cbf52b6",
   "metadata": {
    "tags": []
   },
   "outputs": [],
   "source": [
    "laughter_b4_dialog_count = 0\n",
    "laughter_b4_dialog = []\n",
    "\n",
    "# def laughterBeforeDialog(sampleData):\n",
    "\n",
    "for dialog_num, info in sampleData.items():\n",
    "    num_dialog_turns = \"Dialog Turns \"+ str(sum(1 for key in info if key.startswith('Dialog Turns'))-1)\n",
    "    start_dialog = info[\"Dialog Turns 0\"][\"Dialog Start time\"]\n",
    "    end_dialog = info[num_dialog_turns][\"Dialog End time\"]\n",
    "\n",
    "    try:\n",
    "        laughter_start = info[\"Humor start time\"]\n",
    "        laughter_end = info[\"Laughter end time\"]\n",
    "\n",
    "        print(laughter_start)\n",
    "        \n",
    "        try:\n",
    "            start_dialog_datetime = datetime.strptime(start_dialog.strip(), '%H:%M:%S:%f')\n",
    "\n",
    "        except ValueError:\n",
    "            start_dialog_datetime = datetime.strptime(start_dialog.strip(), '%H:%M:%S,%f')\n",
    "\n",
    "        laughter_start_datetime = datetime.strptime(laughter_start, '%H:%M:%S')\n",
    "\n",
    "        if laughter_start_datetime < start_dialog_datetime:\n",
    "            print(\"Laughter starts BEFORE dialog\")\n",
    "            laughter_b4_dialog_count += 1 \n",
    "            laughter_b4_dialog.append(dialog_num)\n",
    "        else:\n",
    "            print(\"Laughter starts BEFORE dialog\")\n",
    "\n",
    "    except KeyError:\n",
    "        laughter_start = None\n",
    "        laughter_end = None"
   ]
  },
  {
   "cell_type": "code",
   "execution_count": 13,
   "id": "0dc18a5e-28e4-43b8-bef5-dc240a038ed3",
   "metadata": {
    "tags": []
   },
   "outputs": [],
   "source": [
    "# laughterBeforeDialog(sampleData42)"
   ]
  },
  {
   "cell_type": "code",
   "execution_count": null,
   "id": "81ed10ed-4fdb-44ac-9fb7-c5b2e10ac3f5",
   "metadata": {},
   "outputs": [],
   "source": []
  }
 ],
 "metadata": {
  "kernelspec": {
   "display_name": "Python 3 (ipykernel)",
   "language": "python",
   "name": "python3"
  },
  "language_info": {
   "codemirror_mode": {
    "name": "ipython",
    "version": 3
   },
   "file_extension": ".py",
   "mimetype": "text/x-python",
   "name": "python",
   "nbconvert_exporter": "python",
   "pygments_lexer": "ipython3",
   "version": "3.10.12"
  }
 },
 "nbformat": 4,
 "nbformat_minor": 5
}
