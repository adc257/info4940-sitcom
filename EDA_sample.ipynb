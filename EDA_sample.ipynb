{
 "cells": [
  {
   "cell_type": "markdown",
   "id": "37361edd-f18b-455e-a306-289e42a489e4",
   "metadata": {},
   "source": [
    "# The Big Bang Theory Exploratory Data Analysis"
   ]
  },
  {
   "cell_type": "markdown",
   "id": "91e29354-f5cd-4a30-8cbe-abc0f4c50ed3",
   "metadata": {
    "tags": []
   },
   "source": [
    "### Imports:"
   ]
  },
  {
   "cell_type": "code",
   "execution_count": 64,
   "id": "f5c043b3-5369-4a0d-a3ea-ccb6b5f74949",
   "metadata": {
    "tags": [],
    "ExecuteTime": {
     "end_time": "2024-03-05T08:05:04.798902Z",
     "start_time": "2024-03-05T08:05:04.795466Z"
    }
   },
   "outputs": [],
   "source": [
    "import json\n",
    "import pandas as pd\n",
    "import numpy as np\n",
    "from datetime import datetime, timedelta, time"
   ]
  },
  {
   "cell_type": "markdown",
   "id": "51db49bb-fd2a-4501-a25f-1197f02b94f4",
   "metadata": {},
   "source": [
    "## Loading sample data file:"
   ]
  },
  {
   "cell_type": "code",
   "execution_count": 65,
   "id": "edfef5af-e471-4797-bbe7-01202fbc59bb",
   "metadata": {
    "tags": [],
    "ExecuteTime": {
     "end_time": "2024-03-05T08:05:05.268703Z",
     "start_time": "2024-03-05T08:05:05.258113Z"
    }
   },
   "outputs": [],
   "source": [
    "with open(\"data/DT_2/Raw/S1/The Big Bang_S0101.json\", 'r') as file:\n",
    "    s1e1Data = json.load(file)"
   ]
  },
  {
   "cell_type": "code",
   "outputs": [
    {
     "data": {
      "text/plain": "{'Scene': 'A corridor at a sperm bank.',\n 'Participant': ['Sheldon', 'Leonard'],\n 'GT': 1,\n 'AV_ID': 'The Big Bang_S0101',\n 'Humor Start Time': '00:00:18',\n 'Humor End Time': '00:00:20',\n 'Dialog Turns 0': {'Recipients': ['Sheldon'],\n  'Speaker': 'Leonard',\n  'Dialog': \"Agreed. What's your point?\",\n  'Dialog Start time': '00:00:12:18',\n  'Dialog End time': '00:00:14:18'},\n 'Dialog Turns 1': {'Recipients': ['Leonard'],\n  'Speaker': 'Sheldon',\n  'Dialog': \"There's no point, I just think it's a good idea for a T-shirt.\",\n  'Dialog Start time': '00:00:14:23',\n  'Dialog End time': '00:00:18:03'}}"
     },
     "execution_count": 66,
     "metadata": {},
     "output_type": "execute_result"
    }
   ],
   "source": [
    "s1e1Data['Dialog 1']"
   ],
   "metadata": {
    "collapsed": false,
    "ExecuteTime": {
     "end_time": "2024-03-05T08:05:05.773973Z",
     "start_time": "2024-03-05T08:05:05.770146Z"
    }
   },
   "id": "cd06f25afcb412c3",
   "execution_count": 66
  },
  {
   "cell_type": "code",
   "outputs": [],
   "source": [],
   "metadata": {
    "collapsed": false,
    "ExecuteTime": {
     "end_time": "2024-03-05T08:05:06.434336Z",
     "start_time": "2024-03-05T08:05:06.416828Z"
    }
   },
   "id": "6dd6efc4813de73a",
   "execution_count": 66
  },
  {
   "cell_type": "code",
   "execution_count": 69,
   "id": "1b43b6e3",
   "metadata": {
    "ExecuteTime": {
     "end_time": "2024-03-05T08:05:24.924965Z",
     "start_time": "2024-03-05T08:05:24.919430Z"
    }
   },
   "outputs": [],
   "source": [
    "# two different time formats in data, this cleans them into datetime objects\n",
    "def string2datetime(string):\n",
    "    try:\n",
    "        return datetime.strptime(string.strip(), '%H:%M:%S:%f')\n",
    "\n",
    "    except ValueError:\n",
    "        try:\n",
    "            return datetime.strptime(string.strip(), '%H:%M:%S,%f')\n",
    "        \n",
    "        except ValueError:\n",
    "            return datetime.strptime(string.strip(), '%H:%M:%S')\n"
   ]
  },
  {
   "cell_type": "code",
   "outputs": [],
   "source": [
    "# two different time formats in data, this cleans them into datetime objects\n",
    "def datetime2String(date):\n",
    "    # try:\n",
    "    return datetime.strftime(date, '%H:%M:%S:%f')\n",
    "    # \n",
    "    # except ValueError:\n",
    "    #     try:\n",
    "    #         return datetime.strptime(string.strip(), '%H:%M:%S,%f')\n",
    "    #     \n",
    "    #     except ValueError:\n",
    "    #         return datetime.strptime(string.strip(), '%H:%M:%S')\n"
   ],
   "metadata": {
    "collapsed": false,
    "ExecuteTime": {
     "end_time": "2024-03-05T08:40:02.951717Z",
     "start_time": "2024-03-05T08:40:02.944343Z"
    }
   },
   "id": "702690396350a53f",
   "execution_count": 124
  },
  {
   "cell_type": "code",
   "outputs": [],
   "source": [
    "def findHumor(file_path1, file_path2):\n",
    "    humor_dict = {}\n",
    "    for file_path in [file_path1, file_path2]:\n",
    "        # print(file_path.upper())\n",
    "        with open(file_path, 'r') as file:\n",
    "            data = json.load(file)\n",
    "            for dialog_num, info in data.items():\n",
    "                if info['GT'] == 1:\n",
    "                    # print(\"humor\")\n",
    "                    humor_start, humor_end = string2datetime(info[\"Humor Start Time\"]), string2datetime(info[\"Humor End Time\"])\n",
    "                    # if humor_start in humor_dict:\n",
    "                    #     print(\"already in\")\n",
    "                    #     if humor_dict[humor_start] != humor_end:\n",
    "                    #         print(\"CHANGING END TIMEEEE\")\n",
    "                    # else:\n",
    "                    #     print(\"not already in\")\n",
    "                    humor_dict[humor_start] = humor_end\n",
    "    return dict(sorted(humor_dict.items(), key=lambda x: x[0]))\n",
    "    "
   ],
   "metadata": {
    "collapsed": false,
    "ExecuteTime": {
     "end_time": "2024-03-05T08:40:03.504465Z",
     "start_time": "2024-03-05T08:40:03.500924Z"
    }
   },
   "id": "efc3b0f0527b098",
   "execution_count": 125
  },
  {
   "cell_type": "code",
   "execution_count": 126,
   "id": "215f7c06-5d82-437c-9c37-aacd39bf9c4a",
   "metadata": {
    "tags": [],
    "ExecuteTime": {
     "end_time": "2024-03-05T08:40:04.111760Z",
     "start_time": "2024-03-05T08:40:04.102803Z"
    }
   },
   "outputs": [],
   "source": [
    "def reorganize_data(file):\n",
    "    lines_dict = {}\n",
    "    for dialog_num, info in file.items():            \n",
    "        dialog_turns = [key for key in info if key.startswith('Dialog Turn')]\n",
    "        for turn in dialog_turns:\n",
    "            start_time = string2datetime(info[turn][\"Dialog Start time\"])\n",
    "            if start_time in lines_dict: \n",
    "                pass\n",
    "            else:\n",
    "                lines_dict[start_time] = {\n",
    "                    \"Scene\": info[\"Scene\"],\n",
    "                    \"Recipients\": info[turn][\"Recipients\"],\n",
    "                    \"Speaker\": info[turn][\"Speaker\"],\n",
    "                    \"Dialogue\": info[turn][\"Dialog\"],\n",
    "                    \"Dialogue Start Time\": string2datetime(info[turn][\"Dialog Start time\"]),\n",
    "                    \"Dialogue End Time\": string2datetime(info[turn][\"Dialog End time\"])\n",
    "                }\n",
    "\n",
    "    return dict(sorted(lines_dict.items(), key=lambda x: x[0]))\n",
    "\n",
    "            \n",
    "        \n",
    "        "
   ]
  },
  {
   "cell_type": "code",
   "outputs": [],
   "source": [
    "path1 = \"data/DT_2/Raw/S1/The Big Bang_S0101.json\"\n",
    "path2 = \"data/DT_3/Raw/S1/The Big Bang_S0101.json\"\n",
    "\n",
    "humor_dict = findHumor(path1, path2)"
   ],
   "metadata": {
    "collapsed": false,
    "ExecuteTime": {
     "end_time": "2024-03-05T08:40:04.398378Z",
     "start_time": "2024-03-05T08:40:04.379890Z"
    }
   },
   "id": "d519c1cf1237708d",
   "execution_count": 127
  },
  {
   "cell_type": "code",
   "execution_count": 128,
   "id": "e966afe0",
   "metadata": {
    "ExecuteTime": {
     "end_time": "2024-03-05T08:40:04.923446Z",
     "start_time": "2024-03-05T08:40:04.906511Z"
    }
   },
   "outputs": [],
   "source": [
    "lines_dict = reorganize_data(s1e1Data)"
   ]
  },
  {
   "cell_type": "code",
   "outputs": [],
   "source": [
    "# TODO: set buffer\n",
    "buffer = timedelta(seconds=1)\n",
    "\n",
    "nHumorMissingLine = 0\n",
    "idxsHumorMissingLine = []\n",
    "\n",
    "humor_times = list(humor_dict.keys())\n",
    "dialog_times = list(lines_dict.keys())\n",
    "humorN = 0\n",
    "dialogN = 0\n",
    "while humorN < len(humor_dict):\n",
    "    found_humor = False\n",
    "    while dialogN < len(dialog_times) - 1 and not found_humor:\n",
    "        laugh_start = humor_times[humorN]\n",
    "        current_dialog_start = dialog_times[dialogN]\n",
    "        current_dialog_end = lines_dict[current_dialog_start]['Dialogue End Time']\n",
    "        next_dialog_start = dialog_times[dialogN + 1]\n",
    "\n",
    "        if current_dialog_start <= laugh_start < next_dialog_start and laugh_start <= (current_dialog_end + buffer):\n",
    "            lines_dict[current_dialog_start]['isHumor'] = True\n",
    "            lines_dict[current_dialog_start]['humorDuration'] = humor_dict[laugh_start] - laugh_start\n",
    "            # print(\"Humor line: \", lines_dict[current_dialog_start]['Dialogue'])\n",
    "            # print(\"Humor duration: \", humor_dict[laugh_start] - laugh_start)\n",
    "            # print(\"Speaker: \", lines_dict[current_dialog_start]['Speaker'])\n",
    "            # # print(\"\\n\")\n",
    "            # print(f\"Dialogue start: {lines_dict[current_dialog_start]['Dialogue Start Time']}\")\n",
    "            # print(f\"Dialogue end: {lines_dict[current_dialog_start]['Dialogue End Time']}\")\n",
    "            # print(f\"Humor start: {laugh_start}\")\n",
    "            # print(\"Humor end: \", humor_dict[laugh_start])\n",
    "            # print(\"\\n\\n\")\n",
    "            found_humor = True\n",
    "        dialogN += 1\n",
    "\n",
    "    if not found_humor:\n",
    "        dialogN = 0\n",
    "        nHumorMissingLine += 1\n",
    "        idxsHumorMissingLine.append(humorN)\n",
    "\n",
    "    humorN += 1\n"
   ],
   "metadata": {
    "collapsed": false,
    "ExecuteTime": {
     "end_time": "2024-03-05T08:40:05.176281Z",
     "start_time": "2024-03-05T08:40:05.163851Z"
    }
   },
   "id": "86d6da19b4f27516",
   "execution_count": 129
  },
  {
   "cell_type": "code",
   "outputs": [],
   "source": [
    "# startTime and endTime must be in format String: \"HH:MM:SS\"\n",
    "def getLinesBetween(startTime, endTime, lines_dict):\n",
    "    \n",
    "    return {\n",
    "        lineStartTime: data\n",
    "        for lineStartTime, data in lines_dict.items()\n",
    "        if  string2datetime(startTime) <= lineStartTime <= string2datetime(endTime)}"
   ],
   "metadata": {
    "collapsed": false,
    "ExecuteTime": {
     "end_time": "2024-03-05T08:40:05.823199Z",
     "start_time": "2024-03-05T08:40:05.794830Z"
    }
   },
   "id": "3f15ce8aa866363",
   "execution_count": 130
  },
  {
   "cell_type": "markdown",
   "source": [
    "## Instances where humor wasn't matched with a line "
   ],
   "metadata": {
    "collapsed": false
   },
   "id": "2439ca1b61232326"
  },
  {
   "cell_type": "code",
   "outputs": [
    {
     "name": "stdout",
     "output_type": "stream",
     "text": [
      "1900-01-01 00:00:28\n",
      "1900-01-01 00:00:57\n",
      "1900-01-01 00:02:25\n",
      "1900-01-01 00:03:27\n",
      "1900-01-01 00:07:02\n",
      "1900-01-01 00:07:16\n",
      "1900-01-01 00:08:20\n",
      "1900-01-01 00:11:05\n",
      "1900-01-01 00:12:06\n",
      "1900-01-01 00:15:21\n",
      "1900-01-01 00:15:44\n",
      "1900-01-01 00:17:14\n",
      "1900-01-01 00:18:13\n",
      "1900-01-01 00:18:32\n",
      "1900-01-01 00:21:21\n",
      "1900-01-01 00:22:19\n",
      "length: 16\n"
     ]
    }
   ],
   "source": [
    "for idx in idxsHumorMissingLine:\n",
    "    print(humor_times[idx])\n",
    "print(f\"length: {len(idxsHumorMissingLine)}\")"
   ],
   "metadata": {
    "collapsed": false,
    "ExecuteTime": {
     "end_time": "2024-03-05T08:40:08.308979Z",
     "start_time": "2024-03-05T08:40:08.293745Z"
    }
   },
   "id": "5d59cf5b2bc6825b",
   "execution_count": 131
  },
  {
   "cell_type": "code",
   "outputs": [],
   "source": [
    "def getLinesAroundHumor(humorStartTime, threshold, lines_dict):\n",
    "    startTime = humorStartTime - threshold\n",
    "    endTime = humorStartTime + threshold\n",
    "    return getLinesBetween(startTime.strftime('%H:%M:%S:%f'), endTime.strftime('%H:%M:%S:%f'), lines_dict)\n",
    "     "
   ],
   "metadata": {
    "collapsed": false,
    "ExecuteTime": {
     "end_time": "2024-03-05T08:41:26.324211Z",
     "start_time": "2024-03-05T08:41:26.319156Z"
    }
   },
   "id": "4c47428abaf7ea67",
   "execution_count": 138
  },
  {
   "cell_type": "code",
   "outputs": [
    {
     "data": {
      "text/plain": "{datetime.datetime(1900, 1, 1, 0, 22, 13, 60000): {'Scene': 'All five in Leonard’s car.',\n  'Recipients': ['Howard', 'Raj', 'Penny', 'Leonard'],\n  'Speaker': 'Sheldon',\n  'Dialogue': \"I don't know what your odds are in the world as a whole, but as far as the population of this car goes, you're a veritable mack daddy.\",\n  'Dialogue Start Time': datetime.datetime(1900, 1, 1, 0, 22, 13, 60000),\n  'Dialogue End Time': datetime.datetime(1900, 1, 1, 0, 22, 19, 100000)}}"
     },
     "execution_count": 149,
     "metadata": {},
     "output_type": "execute_result"
    }
   ],
   "source": [
    "idx1 = idxsHumorMissingLine[0]\n",
    "humorTime1 = humor_times[idx]\n",
    "\n",
    "surrounding_lines = getLinesAroundHumor(humorTime1, timedelta(seconds=6), lines_dict)\n",
    "\n",
    "surrounding_lines"
   ],
   "metadata": {
    "collapsed": false,
    "ExecuteTime": {
     "end_time": "2024-03-05T08:42:15.220193Z",
     "start_time": "2024-03-05T08:42:15.214855Z"
    }
   },
   "id": "f292bc7165a77326",
   "execution_count": 149
  },
  {
   "cell_type": "code",
   "outputs": [
    {
     "data": {
      "text/plain": "{}"
     },
     "execution_count": 141,
     "metadata": {},
     "output_type": "execute_result"
    }
   ],
   "source": [],
   "metadata": {
    "collapsed": false,
    "ExecuteTime": {
     "end_time": "2024-03-05T08:41:41.725631Z",
     "start_time": "2024-03-05T08:41:41.722272Z"
    }
   },
   "id": "d41905e74be2efb7",
   "execution_count": 141
  },
  {
   "cell_type": "code",
   "outputs": [],
   "source": [],
   "metadata": {
    "collapsed": false
   },
   "id": "ab7f48c3acc7bd4"
  }
 ],
 "metadata": {
  "kernelspec": {
   "display_name": "Python 3 (ipykernel)",
   "language": "python",
   "name": "python3"
  },
  "language_info": {
   "codemirror_mode": {
    "name": "ipython",
    "version": 3
   },
   "file_extension": ".py",
   "mimetype": "text/x-python",
   "name": "python",
   "nbconvert_exporter": "python",
   "pygments_lexer": "ipython3",
   "version": "3.10.12"
  }
 },
 "nbformat": 4,
 "nbformat_minor": 5
}
