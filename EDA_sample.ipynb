{
 "cells": [
  {
   "cell_type": "markdown",
   "id": "37361edd-f18b-455e-a306-289e42a489e4",
   "metadata": {},
   "source": [
    "# The Big Bang Theory Exploratory Data Analysis"
   ]
  },
  {
   "cell_type": "markdown",
   "id": "91e29354-f5cd-4a30-8cbe-abc0f4c50ed3",
   "metadata": {
    "tags": []
   },
   "source": [
    "### Imports:"
   ]
  },
  {
   "cell_type": "code",
   "execution_count": 1,
   "id": "f5c043b3-5369-4a0d-a3ea-ccb6b5f74949",
   "metadata": {
    "ExecuteTime": {
     "end_time": "2024-03-05T08:05:04.798902Z",
     "start_time": "2024-03-05T08:05:04.795466Z"
    },
    "tags": []
   },
   "outputs": [],
   "source": [
    "import json\n",
    "import pandas as pd\n",
    "import numpy as np\n",
    "from datetime import datetime, timedelta, time"
   ]
  },
  {
   "cell_type": "markdown",
   "id": "51db49bb-fd2a-4501-a25f-1197f02b94f4",
   "metadata": {},
   "source": [
    "## Loading sample data file:"
   ]
  },
  {
   "cell_type": "code",
   "execution_count": 2,
   "id": "edfef5af-e471-4797-bbe7-01202fbc59bb",
   "metadata": {
    "ExecuteTime": {
     "end_time": "2024-03-05T08:05:05.268703Z",
     "start_time": "2024-03-05T08:05:05.258113Z"
    },
    "tags": []
   },
   "outputs": [],
   "source": [
    "with open(\"data/DT_2/Raw/S1/The Big Bang_S0101.json\", 'r') as file:\n",
    "    s1e1Data = json.load(file)"
   ]
  },
  {
   "cell_type": "code",
   "execution_count": 4,
   "id": "1b43b6e3",
   "metadata": {
    "ExecuteTime": {
     "end_time": "2024-03-05T08:05:24.924965Z",
     "start_time": "2024-03-05T08:05:24.919430Z"
    }
   },
   "outputs": [],
   "source": [
    "# two different time formats in data, this cleans them into datetime objects\n",
    "def string2datetime(string):\n",
    "    try:\n",
    "        return datetime.strptime(string.strip(), '%H:%M:%S:%f')\n",
    "\n",
    "    except ValueError:\n",
    "        try:\n",
    "            return datetime.strptime(string.strip(), '%H:%M:%S,%f')\n",
    "        \n",
    "        except ValueError:\n",
    "            return datetime.strptime(string.strip(), '%H:%M:%S')\n"
   ]
  },
  {
   "cell_type": "code",
   "execution_count": 5,
   "id": "702690396350a53f",
   "metadata": {
    "ExecuteTime": {
     "end_time": "2024-03-05T08:40:02.951717Z",
     "start_time": "2024-03-05T08:40:02.944343Z"
    },
    "collapsed": false
   },
   "outputs": [],
   "source": [
    "# two different time formats in data, this cleans them into datetime objects\n",
    "def datetime2String(date):\n",
    "    # try:\n",
    "    return datetime.strftime(date, '%H:%M:%S:%f')\n",
    "    # \n",
    "    # except ValueError:\n",
    "    #     try:\n",
    "    #         return datetime.strptime(string.strip(), '%H:%M:%S,%f')\n",
    "    #     \n",
    "    #     except ValueError:\n",
    "    #         return datetime.strptime(string.strip(), '%H:%M:%S')\n"
   ]
  },
  {
   "cell_type": "code",
   "execution_count": 6,
   "id": "efc3b0f0527b098",
   "metadata": {
    "ExecuteTime": {
     "end_time": "2024-03-05T16:17:47.260368Z",
     "start_time": "2024-03-05T16:17:47.235472Z"
    },
    "collapsed": false
   },
   "outputs": [],
   "source": [
    "def findHumor(file_path1, file_path2):\n",
    "    humor_dict = {}\n",
    "    for file_path in [file_path1, file_path2]:\n",
    "        # print(file_path.upper())\n",
    "        with open(file_path, 'r') as file:\n",
    "            data = json.load(file)\n",
    "            for dialog_num, info in data.items():\n",
    "                if info['GT'] == 1:\n",
    "                    # print(\"humor\")\n",
    "                    humor_start, humor_end = string2datetime(info[\"Humor Start Time\"]), string2datetime(info[\"Humor End Time\"])\n",
    "                    duration = humor_end - humor_start\n",
    "                    if timedelta(seconds=0) <= duration < timedelta(seconds=10):\n",
    "                        humor_dict[humor_start] = humor_end\n",
    "    return dict(sorted(humor_dict.items(), key=lambda x: x[0]))\n",
    "    "
   ]
  },
  {
   "cell_type": "code",
   "execution_count": 7,
   "id": "215f7c06-5d82-437c-9c37-aacd39bf9c4a",
   "metadata": {
    "ExecuteTime": {
     "end_time": "2024-03-05T16:17:47.559909Z",
     "start_time": "2024-03-05T16:17:47.555240Z"
    },
    "tags": []
   },
   "outputs": [],
   "source": [
    "def reorganize_data(file):\n",
    "    lines_dict = {}\n",
    "    for dialog_num, info in file.items():            \n",
    "        dialog_turns = [key for key in info if key.startswith('Dialog Turn')]\n",
    "        for turn in dialog_turns:\n",
    "            start_time = string2datetime(info[turn][\"Dialog Start time\"])\n",
    "            if start_time in lines_dict: \n",
    "                pass\n",
    "            else:\n",
    "                lines_dict[start_time] = {\n",
    "                    \"Scene\": info[\"Scene\"],\n",
    "                    \"Recipients\": info[turn][\"Recipients\"],\n",
    "                    \"Speaker\": info[turn][\"Speaker\"],\n",
    "                    \"Dialogue\": info[turn][\"Dialog\"],\n",
    "                    \"Dialogue Start Time\": string2datetime(info[turn][\"Dialog Start time\"]),\n",
    "                    \"Dialogue End Time\": string2datetime(info[turn][\"Dialog End time\"])\n",
    "                }\n",
    "\n",
    "    return dict(sorted(lines_dict.items(), key=lambda x: x[0]))\n",
    "\n",
    "            \n",
    "        \n",
    "        "
   ]
  },
  {
   "cell_type": "code",
   "execution_count": 8,
   "id": "d519c1cf1237708d",
   "metadata": {
    "ExecuteTime": {
     "end_time": "2024-03-05T16:17:47.757533Z",
     "start_time": "2024-03-05T16:17:47.743698Z"
    },
    "collapsed": false
   },
   "outputs": [],
   "source": [
    "path1 = \"data/DT_2/Raw/S1/The Big Bang_S0101.json\"\n",
    "path2 = \"data/DT_3/Raw/S1/The Big Bang_S0101.json\"\n",
    "\n",
    "humor_dict = findHumor(path1, path2)"
   ]
  },
  {
   "cell_type": "code",
   "execution_count": 9,
   "id": "e966afe0",
   "metadata": {
    "ExecuteTime": {
     "end_time": "2024-03-05T16:17:48.098834Z",
     "start_time": "2024-03-05T16:17:48.095580Z"
    }
   },
   "outputs": [],
   "source": [
    "lines_dict = reorganize_data(s1e1Data)"
   ]
  },
  {
   "cell_type": "code",
   "execution_count": 10,
   "id": "86d6da19b4f27516",
   "metadata": {
    "ExecuteTime": {
     "end_time": "2024-03-05T16:17:48.458479Z",
     "start_time": "2024-03-05T16:17:48.425528Z"
    },
    "collapsed": false
   },
   "outputs": [],
   "source": [
    "# TODO: set buffer\n",
    "buffer = timedelta(seconds=1)\n",
    "\n",
    "nHumorMissingLine = 0\n",
    "idxsHumorMissingLine = []\n",
    "\n",
    "humor_times = list(humor_dict.keys())\n",
    "dialog_times = list(lines_dict.keys())\n",
    "humorN = 0\n",
    "dialogN = 0\n",
    "while humorN < len(humor_dict):\n",
    "    found_humor = False\n",
    "    while dialogN < len(dialog_times) - 1 and not found_humor:\n",
    "        laugh_start = humor_times[humorN]\n",
    "        laugh_end = humor_dict[laugh_start]\n",
    "        duration = laugh_end - laugh_start            \n",
    "        \n",
    "        current_dialog_start = dialog_times[dialogN]\n",
    "        current_dialog_end = lines_dict[current_dialog_start]['Dialogue End Time']\n",
    "        next_dialog_start = dialog_times[dialogN + 1]\n",
    "\n",
    "        if current_dialog_start <= laugh_start < next_dialog_start and laugh_start <= (current_dialog_end + buffer):\n",
    "            lines_dict[current_dialog_start]['isHumor'] = True\n",
    "            lines_dict[current_dialog_start]['humorDuration'] = duration\n",
    "            \n",
    "            # print(\"Humor line: \", lines_dict[current_dialog_start]['Dialogue'])\n",
    "            # print(\"Humor duration: \", humor_dict[laugh_start] - laugh_start)\n",
    "            # print(\"Speaker: \", lines_dict[current_dialog_start]['Speaker'])\n",
    "            # # print(\"\\n\")\n",
    "            # print(f\"Dialogue start: {lines_dict[current_dialog_start]['Dialogue Start Time']}\")\n",
    "            # print(f\"Dialogue end: {lines_dict[current_dialog_start]['Dialogue End Time']}\")\n",
    "            # print(f\"Humor start: {laugh_start}\")\n",
    "            # print(\"Humor end: \", humor_dict[laugh_start])\n",
    "            # print(\"\\n\\n\")\n",
    "            found_humor = True\n",
    "        dialogN += 1\n",
    "\n",
    "    if not found_humor:\n",
    "        dialogN = 0\n",
    "        nHumorMissingLine += 1\n",
    "        idxsHumorMissingLine.append(humorN)\n",
    "\n",
    "    humorN += 1"
   ]
  },
  {
   "cell_type": "code",
   "execution_count": 11,
   "id": "3f15ce8aa866363",
   "metadata": {
    "ExecuteTime": {
     "end_time": "2024-03-05T16:17:49.206052Z",
     "start_time": "2024-03-05T16:17:49.199544Z"
    },
    "collapsed": false
   },
   "outputs": [],
   "source": [
    "# startTime and endTime must be in format String: \"HH:MM:SS\"\n",
    "def getLinesBetween(startTime, endTime, lines_dict):\n",
    "    \n",
    "    return {\n",
    "        lineStartTime: data\n",
    "        for lineStartTime, data in lines_dict.items()\n",
    "        if  string2datetime(startTime) <= lineStartTime <= string2datetime(endTime)}"
   ]
  },
  {
   "cell_type": "markdown",
   "id": "2439ca1b61232326",
   "metadata": {
    "collapsed": false
   },
   "source": [
    "## Instances where humor wasn't matched with a line "
   ]
  },
  {
   "cell_type": "code",
   "execution_count": 13,
   "id": "e9dec085c8a44481",
   "metadata": {
    "ExecuteTime": {
     "end_time": "2024-03-05T16:17:56.353449Z",
     "start_time": "2024-03-05T16:17:56.347445Z"
    },
    "collapsed": false
   },
   "outputs": [
    {
     "name": "stdout",
     "output_type": "stream",
     "text": [
      "Laughtrack missing line:\n",
      "\t15 / 140 total lines\n"
     ]
    }
   ],
   "source": [
    "print(f\"Laughtrack missing line:\\n\\t{nHumorMissingLine} / {len(humor_times)} total lines\")"
   ]
  },
  {
   "cell_type": "code",
   "execution_count": 54,
   "id": "aa37f126",
   "metadata": {},
   "outputs": [],
   "source": [
    "\n",
    "\n",
    "def missingHumorInfo(missingHumorIndex):\n",
    "    missingHumor = {}\n",
    "    \n",
    "    before_time = None\n",
    "    after_time = None\n",
    "\n",
    "    for index in missingHumorIndex:\n",
    "        humorStart = humor_times[index]\n",
    "        humorEnd = humor_dict[humorStart]\n",
    "\n",
    "        for time_key in lines_dict.keys():\n",
    "            if time_key < humorStart:\n",
    "                \n",
    "                before_time = time_key\n",
    "            elif time_key > humorStart:\n",
    "                after_time = time_key\n",
    "                break\n",
    "\n",
    "        missingHumor[humorStart] = {\"Humor Start\": humorStart,\n",
    "                                    \"Humor End\": humorEnd,\n",
    "                                    \"Humor Duration\":humorEnd-humorStart,\n",
    "                                    \"DialogEnd to HumorStart\": humorStart - lines_dict[before_time]['Dialogue End Time'],\n",
    "                                    \"HumorEnd to NextDialogStart\": lines_dict[after_time]['Dialogue Start Time'] - humorEnd\n",
    "                                    }\n",
    "        \n",
    "    return missingHumor"
   ]
  },
  {
   "cell_type": "code",
   "execution_count": 55,
   "id": "14b21f5b",
   "metadata": {},
   "outputs": [
    {
     "data": {
      "text/plain": [
       "{datetime.datetime(1900, 1, 1, 0, 0, 28): {'Humor Start': datetime.datetime(1900, 1, 1, 0, 0, 28),\n",
       "  'Humor End': datetime.datetime(1900, 1, 1, 0, 0, 29),\n",
       "  'Humor Duration': datetime.timedelta(seconds=1),\n",
       "  'DialogEnd to HumorStart': datetime.timedelta(seconds=2, microseconds=940000),\n",
       "  'HumorEnd to NextDialogStart': datetime.timedelta(microseconds=150000)},\n",
       " datetime.datetime(1900, 1, 1, 0, 0, 57): {'Humor Start': datetime.datetime(1900, 1, 1, 0, 0, 57),\n",
       "  'Humor End': datetime.datetime(1900, 1, 1, 0, 0, 59),\n",
       "  'Humor Duration': datetime.timedelta(seconds=2),\n",
       "  'DialogEnd to HumorStart': datetime.timedelta(seconds=5, microseconds=820000),\n",
       "  'HumorEnd to NextDialogStart': datetime.timedelta(microseconds=120000)},\n",
       " datetime.datetime(1900, 1, 1, 0, 2, 25): {'Humor Start': datetime.datetime(1900, 1, 1, 0, 2, 25),\n",
       "  'Humor End': datetime.datetime(1900, 1, 1, 0, 2, 30),\n",
       "  'Humor Duration': datetime.timedelta(seconds=5),\n",
       "  'DialogEnd to HumorStart': datetime.timedelta(seconds=4, microseconds=980000),\n",
       "  'HumorEnd to NextDialogStart': datetime.timedelta(seconds=2, microseconds=60000)},\n",
       " datetime.datetime(1900, 1, 1, 0, 3, 27): {'Humor Start': datetime.datetime(1900, 1, 1, 0, 3, 27),\n",
       "  'Humor End': datetime.datetime(1900, 1, 1, 0, 3, 30),\n",
       "  'Humor Duration': datetime.timedelta(seconds=3),\n",
       "  'DialogEnd to HumorStart': datetime.timedelta(seconds=1, microseconds=770000),\n",
       "  'HumorEnd to NextDialogStart': datetime.timedelta(microseconds=210000)},\n",
       " datetime.datetime(1900, 1, 1, 0, 7, 2): {'Humor Start': datetime.datetime(1900, 1, 1, 0, 7, 2),\n",
       "  'Humor End': datetime.datetime(1900, 1, 1, 0, 7, 3),\n",
       "  'Humor Duration': datetime.timedelta(seconds=1),\n",
       "  'DialogEnd to HumorStart': datetime.timedelta(seconds=2, microseconds=770000),\n",
       "  'HumorEnd to NextDialogStart': datetime.timedelta(microseconds=60000)},\n",
       " datetime.datetime(1900, 1, 1, 0, 7, 16): {'Humor Start': datetime.datetime(1900, 1, 1, 0, 7, 16),\n",
       "  'Humor End': datetime.datetime(1900, 1, 1, 0, 7, 17),\n",
       "  'Humor Duration': datetime.timedelta(seconds=1),\n",
       "  'DialogEnd to HumorStart': datetime.timedelta(seconds=2, microseconds=880000),\n",
       "  'HumorEnd to NextDialogStart': datetime.timedelta(microseconds=150000)},\n",
       " datetime.datetime(1900, 1, 1, 0, 11, 5): {'Humor Start': datetime.datetime(1900, 1, 1, 0, 11, 5),\n",
       "  'Humor End': datetime.datetime(1900, 1, 1, 0, 11, 8),\n",
       "  'Humor Duration': datetime.timedelta(seconds=3),\n",
       "  'DialogEnd to HumorStart': datetime.timedelta(seconds=1, microseconds=770000),\n",
       "  'HumorEnd to NextDialogStart': datetime.timedelta(microseconds=230000)},\n",
       " datetime.datetime(1900, 1, 1, 0, 12, 6): {'Humor Start': datetime.datetime(1900, 1, 1, 0, 12, 6),\n",
       "  'Humor End': datetime.datetime(1900, 1, 1, 0, 12, 7),\n",
       "  'Humor Duration': datetime.timedelta(seconds=1),\n",
       "  'DialogEnd to HumorStart': datetime.timedelta(seconds=1, microseconds=790000),\n",
       "  'HumorEnd to NextDialogStart': datetime.timedelta(microseconds=210000)},\n",
       " datetime.datetime(1900, 1, 1, 0, 15, 21): {'Humor Start': datetime.datetime(1900, 1, 1, 0, 15, 21),\n",
       "  'Humor End': datetime.datetime(1900, 1, 1, 0, 15, 22),\n",
       "  'Humor Duration': datetime.timedelta(seconds=1),\n",
       "  'DialogEnd to HumorStart': datetime.timedelta(seconds=2, microseconds=780000),\n",
       "  'HumorEnd to NextDialogStart': datetime.timedelta(microseconds=20000)},\n",
       " datetime.datetime(1900, 1, 1, 0, 15, 44): {'Humor Start': datetime.datetime(1900, 1, 1, 0, 15, 44),\n",
       "  'Humor End': datetime.datetime(1900, 1, 1, 0, 15, 46),\n",
       "  'Humor Duration': datetime.timedelta(seconds=2),\n",
       "  'DialogEnd to HumorStart': datetime.timedelta(seconds=1, microseconds=980000),\n",
       "  'HumorEnd to NextDialogStart': datetime.timedelta(seconds=2, microseconds=190000)},\n",
       " datetime.datetime(1900, 1, 1, 0, 17, 14): {'Humor Start': datetime.datetime(1900, 1, 1, 0, 17, 14),\n",
       "  'Humor End': datetime.datetime(1900, 1, 1, 0, 17, 17),\n",
       "  'Humor Duration': datetime.timedelta(seconds=3),\n",
       "  'DialogEnd to HumorStart': datetime.timedelta(seconds=2, microseconds=880000),\n",
       "  'HumorEnd to NextDialogStart': datetime.timedelta(microseconds=70000)},\n",
       " datetime.datetime(1900, 1, 1, 0, 18, 13): {'Humor Start': datetime.datetime(1900, 1, 1, 0, 18, 13),\n",
       "  'Humor End': datetime.datetime(1900, 1, 1, 0, 18, 20),\n",
       "  'Humor Duration': datetime.timedelta(seconds=7),\n",
       "  'DialogEnd to HumorStart': datetime.timedelta(seconds=6, microseconds=810000),\n",
       "  'HumorEnd to NextDialogStart': datetime.timedelta(microseconds=230000)},\n",
       " datetime.datetime(1900, 1, 1, 0, 18, 32): {'Humor Start': datetime.datetime(1900, 1, 1, 0, 18, 32),\n",
       "  'Humor End': datetime.datetime(1900, 1, 1, 0, 18, 34),\n",
       "  'Humor Duration': datetime.timedelta(seconds=2),\n",
       "  'DialogEnd to HumorStart': datetime.timedelta(seconds=1, microseconds=900000),\n",
       "  'HumorEnd to NextDialogStart': datetime.timedelta(microseconds=130000)},\n",
       " datetime.datetime(1900, 1, 1, 0, 21, 21): {'Humor Start': datetime.datetime(1900, 1, 1, 0, 21, 21),\n",
       "  'Humor End': datetime.datetime(1900, 1, 1, 0, 21, 23),\n",
       "  'Humor Duration': datetime.timedelta(seconds=2),\n",
       "  'DialogEnd to HumorStart': datetime.timedelta(seconds=7, microseconds=900000),\n",
       "  'HumorEnd to NextDialogStart': datetime.timedelta(microseconds=70000)},\n",
       " datetime.datetime(1900, 1, 1, 0, 22, 19): {'Humor Start': datetime.datetime(1900, 1, 1, 0, 22, 19),\n",
       "  'Humor End': datetime.datetime(1900, 1, 1, 0, 22, 22),\n",
       "  'Humor Duration': datetime.timedelta(seconds=3),\n",
       "  'DialogEnd to HumorStart': datetime.timedelta(days=-1, seconds=86399, microseconds=900000),\n",
       "  'HumorEnd to NextDialogStart': datetime.timedelta(days=-1, seconds=86341, microseconds=70000)}}"
      ]
     },
     "execution_count": 55,
     "metadata": {},
     "output_type": "execute_result"
    }
   ],
   "source": [
    "missingHumorInfo(idxsHumorMissingLine)"
   ]
  },
  {
   "cell_type": "code",
   "execution_count": 42,
   "id": "3e842667",
   "metadata": {},
   "outputs": [
    {
     "data": {
      "text/plain": [
       "datetime.timedelta(seconds=2, microseconds=940000)"
      ]
     },
     "execution_count": 42,
     "metadata": {},
     "output_type": "execute_result"
    }
   ],
   "source": [
    "humorStart - lines_dict[before_time]['Dialogue End Time']"
   ]
  },
  {
   "cell_type": "code",
   "execution_count": 43,
   "id": "d910e611",
   "metadata": {},
   "outputs": [
    {
     "data": {
      "text/plain": [
       "datetime.timedelta(seconds=1, microseconds=150000)"
      ]
     },
     "execution_count": 43,
     "metadata": {},
     "output_type": "execute_result"
    }
   ],
   "source": [
    "lines_dict[after_time]['Dialogue Start Time'] - humorStart"
   ]
  },
  {
   "cell_type": "code",
   "execution_count": 44,
   "id": "d594ddd1",
   "metadata": {},
   "outputs": [
    {
     "data": {
      "text/plain": [
       "{'Scene': 'A corridor at a sperm bank.',\n",
       " 'Recipients': ['Sheldon', 'Receptionist'],\n",
       " 'Speaker': 'Leonard',\n",
       " 'Dialogue': 'Excuse me.',\n",
       " 'Dialogue Start Time': datetime.datetime(1900, 1, 1, 0, 0, 23, 140000),\n",
       " 'Dialogue End Time': datetime.datetime(1900, 1, 1, 0, 0, 25, 60000)}"
      ]
     },
     "execution_count": 44,
     "metadata": {},
     "output_type": "execute_result"
    }
   ],
   "source": [
    "lines_dict[before_time]"
   ]
  },
  {
   "cell_type": "code",
   "execution_count": 45,
   "id": "ad801b22",
   "metadata": {},
   "outputs": [
    {
     "data": {
      "text/plain": [
       "{'Scene': 'A corridor at a sperm bank.',\n",
       " 'Recipients': ['Sheldon', 'Receptionist'],\n",
       " 'Speaker': 'Leonard',\n",
       " 'Dialogue': 'One across is Aegean. Eight down is Nabokov. 26 across is MCM.',\n",
       " 'Dialogue Start Time': datetime.datetime(1900, 1, 1, 0, 0, 29, 150000),\n",
       " 'Dialogue End Time': datetime.datetime(1900, 1, 1, 0, 0, 35, 60000),\n",
       " 'isHumor': True,\n",
       " 'humorDuration': datetime.timedelta(seconds=1)}"
      ]
     },
     "execution_count": 45,
     "metadata": {},
     "output_type": "execute_result"
    }
   ],
   "source": [
    "lines_dict[after_time]"
   ]
  },
  {
   "cell_type": "code",
   "execution_count": 20,
   "id": "5d59cf5b2bc6825b",
   "metadata": {
    "ExecuteTime": {
     "end_time": "2024-03-05T08:40:08.308979Z",
     "start_time": "2024-03-05T08:40:08.293745Z"
    },
    "collapsed": false
   },
   "outputs": [
    {
     "name": "stdout",
     "output_type": "stream",
     "text": [
      "1900-01-01 00:00:28\n",
      "1900-01-01 00:00:57\n",
      "1900-01-01 00:02:25\n",
      "1900-01-01 00:03:27\n",
      "1900-01-01 00:07:02\n",
      "1900-01-01 00:07:16\n",
      "1900-01-01 00:11:05\n",
      "1900-01-01 00:12:06\n",
      "1900-01-01 00:15:21\n",
      "1900-01-01 00:15:44\n",
      "1900-01-01 00:17:14\n",
      "1900-01-01 00:18:13\n",
      "1900-01-01 00:18:32\n",
      "1900-01-01 00:21:21\n",
      "1900-01-01 00:22:19\n"
     ]
    }
   ],
   "source": [
    "missingHumorInfo = {}\n",
    "for idx in idxsHumorMissingLine:\n",
    "    start_time = humor_times[idx]\n",
    "    end_time = humor_dict[start_time]\n",
    "    duration = end_time - start_time\n",
    "    \n",
    "    missingHumorInfo[start_time]= {\n",
    "                \"End Humor\": end_time,\n",
    "                \"Humor Duration\": duration,\n",
    "                \"∆ Dialog-End and Laugh-Start\": ,\n",
    "                \"∆ Laugh-End and Next Dialog-Start\"\n",
    "            }\n",
    "\n",
    "\n",
    "# print(f\"length: {len(idxsHumorMissingLine)}\")"
   ]
  },
  {
   "cell_type": "code",
   "execution_count": 15,
   "id": "4c47428abaf7ea67",
   "metadata": {
    "ExecuteTime": {
     "end_time": "2024-03-05T08:41:26.324211Z",
     "start_time": "2024-03-05T08:41:26.319156Z"
    },
    "collapsed": false
   },
   "outputs": [],
   "source": [
    "def getLinesAroundHumor(humorStartTime, threshold, lines_dict):\n",
    "    startTime = humorStartTime - threshold\n",
    "    endTime = humorStartTime + threshold\n",
    "    return getLinesBetween(startTime.strftime('%H:%M:%S:%f'), endTime.strftime('%H:%M:%S:%f'), lines_dict)\n",
    "     "
   ]
  },
  {
   "cell_type": "code",
   "execution_count": 16,
   "id": "f292bc7165a77326",
   "metadata": {
    "ExecuteTime": {
     "end_time": "2024-03-05T15:55:27.247444Z",
     "start_time": "2024-03-05T15:55:27.242805Z"
    },
    "collapsed": false
   },
   "outputs": [
    {
     "name": "stdout",
     "output_type": "stream",
     "text": [
      "1900-01-01 00:00:28\n"
     ]
    },
    {
     "data": {
      "text/plain": [
       "{datetime.datetime(1900, 1, 1, 0, 0, 23, 140000): {'Scene': 'A corridor at a sperm bank.',\n",
       "  'Recipients': ['Sheldon', 'Receptionist'],\n",
       "  'Speaker': 'Leonard',\n",
       "  'Dialogue': 'Excuse me.',\n",
       "  'Dialogue Start Time': datetime.datetime(1900, 1, 1, 0, 0, 23, 140000),\n",
       "  'Dialogue End Time': datetime.datetime(1900, 1, 1, 0, 0, 25, 60000)},\n",
       " datetime.datetime(1900, 1, 1, 0, 0, 29, 150000): {'Scene': 'A corridor at a sperm bank.',\n",
       "  'Recipients': ['Sheldon', 'Receptionist'],\n",
       "  'Speaker': 'Leonard',\n",
       "  'Dialogue': 'One across is Aegean. Eight down is Nabokov. 26 across is MCM.',\n",
       "  'Dialogue Start Time': datetime.datetime(1900, 1, 1, 0, 0, 29, 150000),\n",
       "  'Dialogue End Time': datetime.datetime(1900, 1, 1, 0, 0, 35, 60000),\n",
       "  'isHumor': True,\n",
       "  'humorDuration': datetime.timedelta(seconds=1)}}"
      ]
     },
     "metadata": {},
     "output_type": "display_data"
    }
   ],
   "source": [
    "idx1 = idxsHumorMissingLine[0]\n",
    "humorTime1 = humor_times[idx1]\n",
    "\n",
    "surrounding_lines = getLinesAroundHumor(humorTime1, timedelta(seconds=6), lines_dict)\n",
    "\n",
    "print(humorTime1)\n",
    "display(surrounding_lines)"
   ]
  },
  {
   "cell_type": "code",
   "execution_count": 19,
   "id": "81fdba5fbe05504a",
   "metadata": {
    "collapsed": false
   },
   "outputs": [],
   "source": [
    "# lines_dict"
   ]
  },
  {
   "cell_type": "code",
   "execution_count": 18,
   "id": "d41905e74be2efb7",
   "metadata": {
    "ExecuteTime": {
     "end_time": "2024-03-05T08:41:41.725631Z",
     "start_time": "2024-03-05T08:41:41.722272Z"
    },
    "collapsed": false
   },
   "outputs": [
    {
     "data": {
      "text/plain": [
       "[1, 7, 17, 24, 50, 52, 74, 78, 100, 104, 110, 117, 119, 135, 139]"
      ]
     },
     "execution_count": 18,
     "metadata": {},
     "output_type": "execute_result"
    }
   ],
   "source": [
    "idxsHumorMissingLine"
   ]
  },
  {
   "cell_type": "code",
   "execution_count": null,
   "id": "ab7f48c3acc7bd4",
   "metadata": {
    "collapsed": false
   },
   "outputs": [],
   "source": [
    "for index, (key, value) in enumerate(humor_dict.items()):\n",
    "    for i in idxsHumorMissingLine:\n",
    "        print(index)"
   ]
  }
 ],
 "metadata": {
  "kernelspec": {
   "display_name": "Python 3 (ipykernel)",
   "language": "python",
   "name": "python3"
  },
  "language_info": {
   "codemirror_mode": {
    "name": "ipython",
    "version": 3
   },
   "file_extension": ".py",
   "mimetype": "text/x-python",
   "name": "python",
   "nbconvert_exporter": "python",
   "pygments_lexer": "ipython3",
   "version": "3.10.12"
  }
 },
 "nbformat": 4,
 "nbformat_minor": 5
}
